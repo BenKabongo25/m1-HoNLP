{
 "cells": [
  {
   "cell_type": "markdown",
   "id": "f5cb8f6c-94df-4e39-b208-e54edc3a9df6",
   "metadata": {},
   "source": [
    "# Hands-On NLP\n",
    "\n",
    "## Class 2"
   ]
  },
  {
   "cell_type": "markdown",
   "id": "43312ebc",
   "metadata": {},
   "source": [
    "### Ben Kabongo Buzangu\n",
    "**Université Paris-Saclay, M1 DS, 22210136**"
   ]
  },
  {
   "cell_type": "markdown",
   "id": "1e5beddc-b0f9-4cb4-92a7-e1270c541dd0",
   "metadata": {},
   "source": [
    "- Embeddings from scratch\n",
    "\n",
    "- Classifications with embeddings"
   ]
  },
  {
   "cell_type": "code",
   "execution_count": 1,
   "id": "34fb89e7",
   "metadata": {},
   "outputs": [],
   "source": [
    "import re\n",
    "import unicodedata\n",
    "from collections import Counter\n",
    "from pathlib import Path\n",
    "\n",
    "import matplotlib as mpl\n",
    "import matplotlib.pyplot as plt\n",
    "import nltk\n",
    "import numpy as np\n",
    "import pandas as pd\n",
    "import seaborn as sns\n",
    "from nltk.tokenize import word_tokenize\n",
    "from sklearn import decomposition\n",
    "from sklearn.ensemble import RandomForestClassifier\n",
    "from sklearn.feature_extraction.text import CountVectorizer\n",
    "from sklearn.linear_model import LogisticRegression\n",
    "from sklearn.metrics import accuracy_score\n",
    "from sklearn.metrics import precision_recall_fscore_support as score\n",
    "from sklearn.model_selection import train_test_split\n",
    "from sklearn.multiclass import OneVsRestClassifier\n",
    "from sklearn.naive_bayes import BernoulliNB, GaussianNB, MultinomialNB\n",
    "from sklearn.neighbors import KNeighborsClassifier\n",
    "from sklearn.svm import SVC, LinearSVC\n",
    "from sklearn.tree import DecisionTreeClassifier\n",
    "from tqdm.notebook import tqdm"
   ]
  },
  {
   "cell_type": "code",
   "execution_count": 2,
   "id": "a8c44f31",
   "metadata": {},
   "outputs": [
    {
     "name": "stderr",
     "output_type": "stream",
     "text": [
      "[nltk_data] Downloading package punkt to\n",
      "[nltk_data]     /Users/benkabongo25/nltk_data...\n",
      "[nltk_data]   Package punkt is already up-to-date!\n"
     ]
    }
   ],
   "source": [
    "tqdm.pandas()\n",
    "\n",
    "nltk.download(\"punkt\")\n",
    "\n",
    "sns.set_style(\"darkgrid\")\n",
    "sns.set_context(\"notebook\")\n",
    "\n",
    "pd.set_option(\"display.precision\", 2)"
   ]
  },
  {
   "cell_type": "code",
   "execution_count": 3,
   "id": "fc4055fd",
   "metadata": {},
   "outputs": [],
   "source": [
    "%config InlineBackend.figure_format=\"retina\"  # For high DPI display\n",
    "\n",
    "# %load_ext blackcellmagic"
   ]
  },
  {
   "cell_type": "code",
   "execution_count": 4,
   "id": "7d358411-4001-4000-94e8-65d3b7a6ee76",
   "metadata": {},
   "outputs": [],
   "source": [
    "DATA = Path(\"data\")\n",
    "\n",
    "TEXT_P = DATA / \"texts\"\n",
    "\n",
    "CORPORA = [\n",
    "    \"mythology\",\n",
    "    \"woodworking\",\n",
    "    \"robotics\",\n",
    "    \"hsm\",\n",
    "    \"health\",\n",
    "    \"portuguese\",\n",
    "]\n",
    "\n",
    "EPS = np.finfo(float).eps"
   ]
  },
  {
   "cell_type": "code",
   "execution_count": 5,
   "id": "7a902042",
   "metadata": {},
   "outputs": [],
   "source": [
    "TEXT_P.mkdir(exist_ok=True)"
   ]
  },
  {
   "cell_type": "markdown",
   "id": "c0cece58",
   "metadata": {},
   "source": [
    "# Getting the data"
   ]
  },
  {
   "cell_type": "code",
   "execution_count": 6,
   "id": "d25965c4",
   "metadata": {},
   "outputs": [
    {
     "data": {
      "application/vnd.jupyter.widget-view+json": {
       "model_id": "227f19f9df9a45f39ae7f8c23396c862",
       "version_major": 2,
       "version_minor": 0
      },
      "text/plain": [
       "  0%|          | 0/6 [00:00<?, ?it/s]"
      ]
     },
     "metadata": {},
     "output_type": "display_data"
    },
    {
     "name": "stdout",
     "output_type": "stream",
     "text": [
      "mythology\n",
      "woodworking\n",
      "robotics\n",
      "hsm\n",
      "health\n",
      "portuguese\n"
     ]
    },
    {
     "data": {
      "text/html": [
       "<div>\n",
       "<style scoped>\n",
       "    .dataframe tbody tr th:only-of-type {\n",
       "        vertical-align: middle;\n",
       "    }\n",
       "\n",
       "    .dataframe tbody tr th {\n",
       "        vertical-align: top;\n",
       "    }\n",
       "\n",
       "    .dataframe thead th {\n",
       "        text-align: right;\n",
       "    }\n",
       "</style>\n",
       "<table border=\"1\" class=\"dataframe\">\n",
       "  <thead>\n",
       "    <tr style=\"text-align: right;\">\n",
       "      <th></th>\n",
       "      <th>files_n</th>\n",
       "      <th>chars_n</th>\n",
       "      <th>text</th>\n",
       "    </tr>\n",
       "    <tr>\n",
       "      <th>corpus</th>\n",
       "      <th></th>\n",
       "      <th></th>\n",
       "      <th></th>\n",
       "    </tr>\n",
       "  </thead>\n",
       "  <tbody>\n",
       "    <tr>\n",
       "      <th>mythology</th>\n",
       "      <td>1428</td>\n",
       "      <td>4689305</td>\n",
       "      <td>Q:\\n\\nCan anyone identify what Chinese mytholo...</td>\n",
       "    </tr>\n",
       "    <tr>\n",
       "      <th>woodworking</th>\n",
       "      <td>2461</td>\n",
       "      <td>6729416</td>\n",
       "      <td>Q:\\n\\nGlue-up for butcher block-style countert...</td>\n",
       "    </tr>\n",
       "    <tr>\n",
       "      <th>robotics</th>\n",
       "      <td>2981</td>\n",
       "      <td>7254006</td>\n",
       "      <td>Q:\\n\\nHow is this torque value arrived?\\n\\nI'm...</td>\n",
       "    </tr>\n",
       "    <tr>\n",
       "      <th>hsm</th>\n",
       "      <td>2329</td>\n",
       "      <td>7364214</td>\n",
       "      <td>Q:\\n\\nWhen and why did people stopped using \"n...</td>\n",
       "    </tr>\n",
       "    <tr>\n",
       "      <th>health</th>\n",
       "      <td>3412</td>\n",
       "      <td>9148631</td>\n",
       "      <td>Q:\\n\\nHelp reading an eyeglass prescription: W...</td>\n",
       "    </tr>\n",
       "    <tr>\n",
       "      <th>portuguese</th>\n",
       "      <td>1840</td>\n",
       "      <td>4415251</td>\n",
       "      <td>Q:\\n\\nQual a origem da expressão \"o fim da pic...</td>\n",
       "    </tr>\n",
       "  </tbody>\n",
       "</table>\n",
       "</div>"
      ],
      "text/plain": [
       "             files_n  chars_n  \\\n",
       "corpus                          \n",
       "mythology       1428  4689305   \n",
       "woodworking     2461  6729416   \n",
       "robotics        2981  7254006   \n",
       "hsm             2329  7364214   \n",
       "health          3412  9148631   \n",
       "portuguese      1840  4415251   \n",
       "\n",
       "                                                          text  \n",
       "corpus                                                          \n",
       "mythology    Q:\\n\\nCan anyone identify what Chinese mytholo...  \n",
       "woodworking  Q:\\n\\nGlue-up for butcher block-style countert...  \n",
       "robotics     Q:\\n\\nHow is this torque value arrived?\\n\\nI'm...  \n",
       "hsm          Q:\\n\\nWhen and why did people stopped using \"n...  \n",
       "health       Q:\\n\\nHelp reading an eyeglass prescription: W...  \n",
       "portuguese   Q:\\n\\nQual a origem da expressão \"o fim da pic...  "
      ]
     },
     "execution_count": 6,
     "metadata": {},
     "output_type": "execute_result"
    }
   ],
   "source": [
    "corpora = {}\n",
    "stats = []\n",
    "\n",
    "for corpus in tqdm(CORPORA):\n",
    "    print(corpus)\n",
    "    texts = []\n",
    "    for fp in (TEXT_P / corpus).glob(\"*.txt\"):\n",
    "        with fp.open() as f:\n",
    "            texts.append(f.read())\n",
    "\n",
    "    corpora[corpus] = \"\".join(texts)\n",
    "\n",
    "    stats.append(\n",
    "        {\n",
    "            \"corpus\": corpus,\n",
    "            \"files_n\": len(texts),\n",
    "            \"chars_n\": len(corpora[corpus]),\n",
    "        }\n",
    "    )\n",
    "\n",
    "df = pd.DataFrame.from_records(stats, index=[\"corpus\"])\n",
    "df[\"text\"] = [corpora[corpus] for corpus in corpora]\n",
    "df"
   ]
  },
  {
   "cell_type": "markdown",
   "id": "31757ef1-e978-40a3-960e-4ba20a3de1a6",
   "metadata": {},
   "source": [
    "### Tokenizing"
   ]
  },
  {
   "cell_type": "code",
   "execution_count": 7,
   "id": "d9011d01-8d97-4fbd-a924-816c8a57baa4",
   "metadata": {},
   "outputs": [],
   "source": [
    "# If your machine is slow, pickeling allows to go faster next time.\n",
    "\n",
    "tokens_fp = DATA / \"tokens.pkl\"\n",
    "try:\n",
    "    tokens = pd.read_pickle(tokens_fp)\n",
    "except FileNotFoundError:\n",
    "    tokens = df.text.progress_map(word_tokenize)\n",
    "    tokens.to_pickle(tokens_fp)"
   ]
  },
  {
   "cell_type": "code",
   "execution_count": 8,
   "id": "af66b99c",
   "metadata": {},
   "outputs": [
    {
     "data": {
      "text/html": [
       "<div>\n",
       "<style scoped>\n",
       "    .dataframe tbody tr th:only-of-type {\n",
       "        vertical-align: middle;\n",
       "    }\n",
       "\n",
       "    .dataframe tbody tr th {\n",
       "        vertical-align: top;\n",
       "    }\n",
       "\n",
       "    .dataframe thead th {\n",
       "        text-align: right;\n",
       "    }\n",
       "</style>\n",
       "<table border=\"1\" class=\"dataframe\">\n",
       "  <thead>\n",
       "    <tr style=\"text-align: right;\">\n",
       "      <th></th>\n",
       "      <th>files_n</th>\n",
       "      <th>chars_n</th>\n",
       "      <th>text</th>\n",
       "      <th>tokens</th>\n",
       "      <th>tokens_n</th>\n",
       "      <th>types_n</th>\n",
       "    </tr>\n",
       "    <tr>\n",
       "      <th>corpus</th>\n",
       "      <th></th>\n",
       "      <th></th>\n",
       "      <th></th>\n",
       "      <th></th>\n",
       "      <th></th>\n",
       "      <th></th>\n",
       "    </tr>\n",
       "  </thead>\n",
       "  <tbody>\n",
       "    <tr>\n",
       "      <th>mythology</th>\n",
       "      <td>1428</td>\n",
       "      <td>4689305</td>\n",
       "      <td>Q:\\n\\nCan anyone identify what Chinese mytholo...</td>\n",
       "      <td>[Q, :, Can, anyone, identify, what, Chinese, m...</td>\n",
       "      <td>942599</td>\n",
       "      <td>51253</td>\n",
       "    </tr>\n",
       "    <tr>\n",
       "      <th>woodworking</th>\n",
       "      <td>2461</td>\n",
       "      <td>6729416</td>\n",
       "      <td>Q:\\n\\nGlue-up for butcher block-style countert...</td>\n",
       "      <td>[Q, :, Glue-up, for, butcher, block-style, cou...</td>\n",
       "      <td>1390532</td>\n",
       "      <td>32318</td>\n",
       "    </tr>\n",
       "    <tr>\n",
       "      <th>robotics</th>\n",
       "      <td>2981</td>\n",
       "      <td>7254006</td>\n",
       "      <td>Q:\\n\\nHow is this torque value arrived?\\n\\nI'm...</td>\n",
       "      <td>[Q, :, How, is, this, torque, value, arrived, ...</td>\n",
       "      <td>1526904</td>\n",
       "      <td>53833</td>\n",
       "    </tr>\n",
       "    <tr>\n",
       "      <th>hsm</th>\n",
       "      <td>2329</td>\n",
       "      <td>7364214</td>\n",
       "      <td>Q:\\n\\nWhen and why did people stopped using \"n...</td>\n",
       "      <td>[Q, :, When, and, why, did, people, stopped, u...</td>\n",
       "      <td>1445136</td>\n",
       "      <td>62464</td>\n",
       "    </tr>\n",
       "    <tr>\n",
       "      <th>health</th>\n",
       "      <td>3412</td>\n",
       "      <td>9148631</td>\n",
       "      <td>Q:\\n\\nHelp reading an eyeglass prescription: W...</td>\n",
       "      <td>[Q, :, Help, reading, an, eyeglass, prescripti...</td>\n",
       "      <td>1714931</td>\n",
       "      <td>66006</td>\n",
       "    </tr>\n",
       "    <tr>\n",
       "      <th>portuguese</th>\n",
       "      <td>1840</td>\n",
       "      <td>4415251</td>\n",
       "      <td>Q:\\n\\nQual a origem da expressão \"o fim da pic...</td>\n",
       "      <td>[Q, :, Qual, a, origem, da, expressão, ``, o, ...</td>\n",
       "      <td>907242</td>\n",
       "      <td>60282</td>\n",
       "    </tr>\n",
       "  </tbody>\n",
       "</table>\n",
       "</div>"
      ],
      "text/plain": [
       "             files_n  chars_n  \\\n",
       "corpus                          \n",
       "mythology       1428  4689305   \n",
       "woodworking     2461  6729416   \n",
       "robotics        2981  7254006   \n",
       "hsm             2329  7364214   \n",
       "health          3412  9148631   \n",
       "portuguese      1840  4415251   \n",
       "\n",
       "                                                          text  \\\n",
       "corpus                                                           \n",
       "mythology    Q:\\n\\nCan anyone identify what Chinese mytholo...   \n",
       "woodworking  Q:\\n\\nGlue-up for butcher block-style countert...   \n",
       "robotics     Q:\\n\\nHow is this torque value arrived?\\n\\nI'm...   \n",
       "hsm          Q:\\n\\nWhen and why did people stopped using \"n...   \n",
       "health       Q:\\n\\nHelp reading an eyeglass prescription: W...   \n",
       "portuguese   Q:\\n\\nQual a origem da expressão \"o fim da pic...   \n",
       "\n",
       "                                                        tokens  tokens_n  \\\n",
       "corpus                                                                     \n",
       "mythology    [Q, :, Can, anyone, identify, what, Chinese, m...    942599   \n",
       "woodworking  [Q, :, Glue-up, for, butcher, block-style, cou...   1390532   \n",
       "robotics     [Q, :, How, is, this, torque, value, arrived, ...   1526904   \n",
       "hsm          [Q, :, When, and, why, did, people, stopped, u...   1445136   \n",
       "health       [Q, :, Help, reading, an, eyeglass, prescripti...   1714931   \n",
       "portuguese   [Q, :, Qual, a, origem, da, expressão, ``, o, ...    907242   \n",
       "\n",
       "             types_n  \n",
       "corpus                \n",
       "mythology      51253  \n",
       "woodworking    32318  \n",
       "robotics       53833  \n",
       "hsm            62464  \n",
       "health         66006  \n",
       "portuguese     60282  "
      ]
     },
     "execution_count": 8,
     "metadata": {},
     "output_type": "execute_result"
    }
   ],
   "source": [
    "df[\"tokens\"] = tokens\n",
    "df[\"tokens_n\"] = df.tokens.map(len)\n",
    "df[\"types_n\"] = df.tokens.map(set).map(len)\n",
    "df"
   ]
  },
  {
   "cell_type": "markdown",
   "id": "8a82a4f9-c59e-4309-b001-e8ddb2612dac",
   "metadata": {},
   "source": [
    "# Vectorization"
   ]
  },
  {
   "cell_type": "markdown",
   "id": "de52280a-7164-414f-9d41-ae63b2ab2766",
   "metadata": {},
   "source": [
    "#### 🚧 TODO: Think about how to vectorize text\n",
    "\n",
    "- Try counting words in the stackoverflow corpus based on a given vocabulary\n",
    "\n",
    "- Apply reduction techniques to reduce the dimensionality to 2 dimensions (e.g., PCA)\n",
    "\n",
    "- Plot the 2D vectors"
   ]
  },
  {
   "cell_type": "code",
   "execution_count": 9,
   "id": "503a8e92",
   "metadata": {},
   "outputs": [],
   "source": [
    "words = (\n",
    "    \"myth,wood,robot,history,science,mathematics,health,portuguese,o\".split(\",\")\n",
    ")\n",
    "wc_df = pd.DataFrame(index=df.index)\n",
    "for w in words:\n",
    "    wc_df[w] = df['text'].str.count(w)"
   ]
  },
  {
   "cell_type": "code",
   "execution_count": 10,
   "id": "b7c55894",
   "metadata": {
    "scrolled": true
   },
   "outputs": [
    {
     "data": {
      "text/html": [
       "<div>\n",
       "<style scoped>\n",
       "    .dataframe tbody tr th:only-of-type {\n",
       "        vertical-align: middle;\n",
       "    }\n",
       "\n",
       "    .dataframe tbody tr th {\n",
       "        vertical-align: top;\n",
       "    }\n",
       "\n",
       "    .dataframe thead th {\n",
       "        text-align: right;\n",
       "    }\n",
       "</style>\n",
       "<table border=\"1\" class=\"dataframe\">\n",
       "  <thead>\n",
       "    <tr style=\"text-align: right;\">\n",
       "      <th></th>\n",
       "      <th>myth</th>\n",
       "      <th>wood</th>\n",
       "      <th>robot</th>\n",
       "      <th>history</th>\n",
       "      <th>science</th>\n",
       "      <th>mathematics</th>\n",
       "      <th>health</th>\n",
       "      <th>portuguese</th>\n",
       "      <th>o</th>\n",
       "    </tr>\n",
       "    <tr>\n",
       "      <th>corpus</th>\n",
       "      <th></th>\n",
       "      <th></th>\n",
       "      <th></th>\n",
       "      <th></th>\n",
       "      <th></th>\n",
       "      <th></th>\n",
       "      <th></th>\n",
       "      <th></th>\n",
       "      <th></th>\n",
       "    </tr>\n",
       "  </thead>\n",
       "  <tbody>\n",
       "    <tr>\n",
       "      <th>mythology</th>\n",
       "      <td>3120</td>\n",
       "      <td>140</td>\n",
       "      <td>9</td>\n",
       "      <td>191</td>\n",
       "      <td>44</td>\n",
       "      <td>4</td>\n",
       "      <td>26</td>\n",
       "      <td>0</td>\n",
       "      <td>273780</td>\n",
       "    </tr>\n",
       "    <tr>\n",
       "      <th>woodworking</th>\n",
       "      <td>10</td>\n",
       "      <td>11840</td>\n",
       "      <td>4</td>\n",
       "      <td>19</td>\n",
       "      <td>14</td>\n",
       "      <td>0</td>\n",
       "      <td>52</td>\n",
       "      <td>0</td>\n",
       "      <td>435118</td>\n",
       "    </tr>\n",
       "    <tr>\n",
       "      <th>robotics</th>\n",
       "      <td>2</td>\n",
       "      <td>50</td>\n",
       "      <td>7547</td>\n",
       "      <td>25</td>\n",
       "      <td>27</td>\n",
       "      <td>46</td>\n",
       "      <td>8</td>\n",
       "      <td>0</td>\n",
       "      <td>453376</td>\n",
       "    </tr>\n",
       "    <tr>\n",
       "      <th>hsm</th>\n",
       "      <td>53</td>\n",
       "      <td>61</td>\n",
       "      <td>6</td>\n",
       "      <td>990</td>\n",
       "      <td>1099</td>\n",
       "      <td>1620</td>\n",
       "      <td>37</td>\n",
       "      <td>1</td>\n",
       "      <td>423543</td>\n",
       "    </tr>\n",
       "    <tr>\n",
       "      <th>health</th>\n",
       "      <td>62</td>\n",
       "      <td>33</td>\n",
       "      <td>3</td>\n",
       "      <td>213</td>\n",
       "      <td>305</td>\n",
       "      <td>6</td>\n",
       "      <td>2931</td>\n",
       "      <td>1</td>\n",
       "      <td>544730</td>\n",
       "    </tr>\n",
       "    <tr>\n",
       "      <th>portuguese</th>\n",
       "      <td>7</td>\n",
       "      <td>34</td>\n",
       "      <td>3</td>\n",
       "      <td>15</td>\n",
       "      <td>4</td>\n",
       "      <td>2</td>\n",
       "      <td>13</td>\n",
       "      <td>187</td>\n",
       "      <td>339334</td>\n",
       "    </tr>\n",
       "  </tbody>\n",
       "</table>\n",
       "</div>"
      ],
      "text/plain": [
       "             myth   wood  robot  history  science  mathematics  health  \\\n",
       "corpus                                                                   \n",
       "mythology    3120    140      9      191       44            4      26   \n",
       "woodworking    10  11840      4       19       14            0      52   \n",
       "robotics        2     50   7547       25       27           46       8   \n",
       "hsm            53     61      6      990     1099         1620      37   \n",
       "health         62     33      3      213      305            6    2931   \n",
       "portuguese      7     34      3       15        4            2      13   \n",
       "\n",
       "             portuguese       o  \n",
       "corpus                           \n",
       "mythology             0  273780  \n",
       "woodworking           0  435118  \n",
       "robotics              0  453376  \n",
       "hsm                   1  423543  \n",
       "health                1  544730  \n",
       "portuguese          187  339334  "
      ]
     },
     "execution_count": 10,
     "metadata": {},
     "output_type": "execute_result"
    }
   ],
   "source": [
    "wc_df"
   ]
  },
  {
   "cell_type": "code",
   "execution_count": 11,
   "id": "6a6ba5dc",
   "metadata": {},
   "outputs": [
    {
     "data": {
      "image/png": "[encoded data removed]",
      "text/plain": [
       "<Figure size 640x480 with 1 Axes>"
      ]
     },
     "metadata": {
      "image/png": {
       "height": 416,
       "width": 595
      }
     },
     "output_type": "display_data"
    }
   ],
   "source": [
    "# PCA\n",
    "pca = decomposition.PCA(n_components=2)\n",
    "pca_wc_df = pca.fit_transform(wc_df)\n",
    "\n",
    "# Plot\n",
    "plt.scatter(pca_wc_df[:,0], pca_wc_df[:,1])\n",
    "plt.show()"
   ]
  },
  {
   "cell_type": "markdown",
   "id": "d2777696-4d21-4e8f-9709-7602ad814edb",
   "metadata": {},
   "source": [
    "### Bag of words"
   ]
  },
  {
   "cell_type": "markdown",
   "id": "ebb5b9e5",
   "metadata": {},
   "source": [
    "#### 🚧 TODO: Implement another bag of words vectorizer model on the corpus\n",
    "\n",
    "*   This time using [sklearn's `CountVectorizer`](https://scikit-learn.org/stable/modules/generated/sklearn.feature_extraction.text.CountVectorizer.html)\n",
    "\n",
    "*   Try first the provided example in the `CountVectorizer` documentation\n",
    "\n",
    "    *   Try with and without the n-gram parameter <br/><br/>\n",
    "\n",
    "*   Then try to vectorize the stackoverflow corpus using `vocabulary=words`"
   ]
  },
  {
   "cell_type": "code",
   "execution_count": 12,
   "id": "dd8ffd77-47f5-4366-95c9-b978b5c76f83",
   "metadata": {
    "scrolled": false
   },
   "outputs": [
    {
     "name": "stderr",
     "output_type": "stream",
     "text": [
      "/Users/benkabongo25/opt/anaconda3/lib/python3.9/site-packages/sklearn/utils/deprecation.py:87: FutureWarning: Function get_feature_names is deprecated; get_feature_names is deprecated in 1.0 and will be removed in 1.2. Please use get_feature_names_out instead.\n",
      "  warnings.warn(msg, category=FutureWarning)\n"
     ]
    },
    {
     "data": {
      "text/html": [
       "<div>\n",
       "<style scoped>\n",
       "    .dataframe tbody tr th:only-of-type {\n",
       "        vertical-align: middle;\n",
       "    }\n",
       "\n",
       "    .dataframe tbody tr th {\n",
       "        vertical-align: top;\n",
       "    }\n",
       "\n",
       "    .dataframe thead th {\n",
       "        text-align: right;\n",
       "    }\n",
       "</style>\n",
       "<table border=\"1\" class=\"dataframe\">\n",
       "  <thead>\n",
       "    <tr style=\"text-align: right;\">\n",
       "      <th></th>\n",
       "      <th>00 00 00</th>\n",
       "      <th>00 00 01</th>\n",
       "      <th>00 00 04</th>\n",
       "      <th>00 00 10</th>\n",
       "      <th>00 00 180</th>\n",
       "      <th>00 00 280</th>\n",
       "      <th>00 00 3f</th>\n",
       "      <th>00 00 after</th>\n",
       "      <th>00 00 and</th>\n",
       "      <th>00 00 or</th>\n",
       "      <th>...</th>\n",
       "      <th>ﬁrst mathematical publication</th>\n",
       "      <th>ﬁrst observed during</th>\n",
       "      <th>ﬁrst presented in</th>\n",
       "      <th>ﬁrst rigorous demonstration</th>\n",
       "      <th>ﬁrst that these</th>\n",
       "      <th>ﬁrst to second</th>\n",
       "      <th>ﬁve or less</th>\n",
       "      <th>ﬂexible through weeks</th>\n",
       "      <th>ﬂoating mate particles</th>\n",
       "      <th>ﬂoating particles eventually</th>\n",
       "    </tr>\n",
       "    <tr>\n",
       "      <th>corpus</th>\n",
       "      <th></th>\n",
       "      <th></th>\n",
       "      <th></th>\n",
       "      <th></th>\n",
       "      <th></th>\n",
       "      <th></th>\n",
       "      <th></th>\n",
       "      <th></th>\n",
       "      <th></th>\n",
       "      <th></th>\n",
       "      <th></th>\n",
       "      <th></th>\n",
       "      <th></th>\n",
       "      <th></th>\n",
       "      <th></th>\n",
       "      <th></th>\n",
       "      <th></th>\n",
       "      <th></th>\n",
       "      <th></th>\n",
       "      <th></th>\n",
       "      <th></th>\n",
       "    </tr>\n",
       "  </thead>\n",
       "  <tbody>\n",
       "    <tr>\n",
       "      <th>mythology</th>\n",
       "      <td>0</td>\n",
       "      <td>0</td>\n",
       "      <td>0</td>\n",
       "      <td>0</td>\n",
       "      <td>0</td>\n",
       "      <td>0</td>\n",
       "      <td>0</td>\n",
       "      <td>0</td>\n",
       "      <td>0</td>\n",
       "      <td>0</td>\n",
       "      <td>...</td>\n",
       "      <td>0</td>\n",
       "      <td>0</td>\n",
       "      <td>0</td>\n",
       "      <td>0</td>\n",
       "      <td>0</td>\n",
       "      <td>0</td>\n",
       "      <td>0</td>\n",
       "      <td>0</td>\n",
       "      <td>0</td>\n",
       "      <td>0</td>\n",
       "    </tr>\n",
       "    <tr>\n",
       "      <th>woodworking</th>\n",
       "      <td>0</td>\n",
       "      <td>0</td>\n",
       "      <td>0</td>\n",
       "      <td>0</td>\n",
       "      <td>0</td>\n",
       "      <td>0</td>\n",
       "      <td>0</td>\n",
       "      <td>0</td>\n",
       "      <td>0</td>\n",
       "      <td>0</td>\n",
       "      <td>...</td>\n",
       "      <td>0</td>\n",
       "      <td>0</td>\n",
       "      <td>0</td>\n",
       "      <td>0</td>\n",
       "      <td>0</td>\n",
       "      <td>0</td>\n",
       "      <td>0</td>\n",
       "      <td>0</td>\n",
       "      <td>0</td>\n",
       "      <td>0</td>\n",
       "    </tr>\n",
       "    <tr>\n",
       "      <th>robotics</th>\n",
       "      <td>43</td>\n",
       "      <td>4</td>\n",
       "      <td>1</td>\n",
       "      <td>0</td>\n",
       "      <td>1</td>\n",
       "      <td>1</td>\n",
       "      <td>2</td>\n",
       "      <td>1</td>\n",
       "      <td>0</td>\n",
       "      <td>0</td>\n",
       "      <td>...</td>\n",
       "      <td>0</td>\n",
       "      <td>0</td>\n",
       "      <td>1</td>\n",
       "      <td>0</td>\n",
       "      <td>0</td>\n",
       "      <td>0</td>\n",
       "      <td>0</td>\n",
       "      <td>0</td>\n",
       "      <td>0</td>\n",
       "      <td>0</td>\n",
       "    </tr>\n",
       "    <tr>\n",
       "      <th>hsm</th>\n",
       "      <td>0</td>\n",
       "      <td>0</td>\n",
       "      <td>0</td>\n",
       "      <td>0</td>\n",
       "      <td>0</td>\n",
       "      <td>0</td>\n",
       "      <td>0</td>\n",
       "      <td>0</td>\n",
       "      <td>0</td>\n",
       "      <td>0</td>\n",
       "      <td>...</td>\n",
       "      <td>1</td>\n",
       "      <td>0</td>\n",
       "      <td>0</td>\n",
       "      <td>1</td>\n",
       "      <td>1</td>\n",
       "      <td>0</td>\n",
       "      <td>0</td>\n",
       "      <td>1</td>\n",
       "      <td>0</td>\n",
       "      <td>0</td>\n",
       "    </tr>\n",
       "    <tr>\n",
       "      <th>health</th>\n",
       "      <td>1</td>\n",
       "      <td>0</td>\n",
       "      <td>0</td>\n",
       "      <td>1</td>\n",
       "      <td>0</td>\n",
       "      <td>0</td>\n",
       "      <td>0</td>\n",
       "      <td>0</td>\n",
       "      <td>1</td>\n",
       "      <td>0</td>\n",
       "      <td>...</td>\n",
       "      <td>0</td>\n",
       "      <td>1</td>\n",
       "      <td>0</td>\n",
       "      <td>0</td>\n",
       "      <td>0</td>\n",
       "      <td>1</td>\n",
       "      <td>1</td>\n",
       "      <td>0</td>\n",
       "      <td>1</td>\n",
       "      <td>1</td>\n",
       "    </tr>\n",
       "    <tr>\n",
       "      <th>portuguese</th>\n",
       "      <td>0</td>\n",
       "      <td>0</td>\n",
       "      <td>0</td>\n",
       "      <td>0</td>\n",
       "      <td>0</td>\n",
       "      <td>0</td>\n",
       "      <td>0</td>\n",
       "      <td>0</td>\n",
       "      <td>0</td>\n",
       "      <td>1</td>\n",
       "      <td>...</td>\n",
       "      <td>0</td>\n",
       "      <td>0</td>\n",
       "      <td>0</td>\n",
       "      <td>0</td>\n",
       "      <td>0</td>\n",
       "      <td>0</td>\n",
       "      <td>0</td>\n",
       "      <td>0</td>\n",
       "      <td>0</td>\n",
       "      <td>0</td>\n",
       "    </tr>\n",
       "  </tbody>\n",
       "</table>\n",
       "<p>6 rows × 4522512 columns</p>\n",
       "</div>"
      ],
      "text/plain": [
       "             00 00 00  00 00 01  00 00 04  00 00 10  00 00 180  00 00 280  \\\n",
       "corpus                                                                      \n",
       "mythology           0         0         0         0          0          0   \n",
       "woodworking         0         0         0         0          0          0   \n",
       "robotics           43         4         1         0          1          1   \n",
       "hsm                 0         0         0         0          0          0   \n",
       "health              1         0         0         1          0          0   \n",
       "portuguese          0         0         0         0          0          0   \n",
       "\n",
       "             00 00 3f  00 00 after  00 00 and  00 00 or  ...  \\\n",
       "corpus                                                   ...   \n",
       "mythology           0            0          0         0  ...   \n",
       "woodworking         0            0          0         0  ...   \n",
       "robotics            2            1          0         0  ...   \n",
       "hsm                 0            0          0         0  ...   \n",
       "health              0            0          1         0  ...   \n",
       "portuguese          0            0          0         1  ...   \n",
       "\n",
       "             ﬁrst mathematical publication  ﬁrst observed during  \\\n",
       "corpus                                                             \n",
       "mythology                                0                     0   \n",
       "woodworking                              0                     0   \n",
       "robotics                                 0                     0   \n",
       "hsm                                      1                     0   \n",
       "health                                   0                     1   \n",
       "portuguese                               0                     0   \n",
       "\n",
       "             ﬁrst presented in  ﬁrst rigorous demonstration  ﬁrst that these  \\\n",
       "corpus                                                                         \n",
       "mythology                    0                            0                0   \n",
       "woodworking                  0                            0                0   \n",
       "robotics                     1                            0                0   \n",
       "hsm                          0                            1                1   \n",
       "health                       0                            0                0   \n",
       "portuguese                   0                            0                0   \n",
       "\n",
       "             ﬁrst to second  ﬁve or less  ﬂexible through weeks  \\\n",
       "corpus                                                            \n",
       "mythology                 0            0                      0   \n",
       "woodworking               0            0                      0   \n",
       "robotics                  0            0                      0   \n",
       "hsm                       0            0                      1   \n",
       "health                    1            1                      0   \n",
       "portuguese                0            0                      0   \n",
       "\n",
       "             ﬂoating mate particles  ﬂoating particles eventually  \n",
       "corpus                                                             \n",
       "mythology                         0                             0  \n",
       "woodworking                       0                             0  \n",
       "robotics                          0                             0  \n",
       "hsm                               0                             0  \n",
       "health                            1                             1  \n",
       "portuguese                        0                             0  \n",
       "\n",
       "[6 rows x 4522512 columns]"
      ]
     },
     "execution_count": 12,
     "metadata": {},
     "output_type": "execute_result"
    }
   ],
   "source": [
    "# n-gram parameter\n",
    "vectorizer = CountVectorizer(ngram_range=(3,3))\n",
    "cv_ng_df = pd.DataFrame(\n",
    "    vectorizer.fit_transform(df['text']).toarray(), \n",
    "    columns=vectorizer.get_feature_names(), \n",
    "    index=df.index\n",
    ")\n",
    "cv_ng_df"
   ]
  },
  {
   "cell_type": "code",
   "execution_count": 13,
   "id": "a86150c9",
   "metadata": {},
   "outputs": [
    {
     "name": "stderr",
     "output_type": "stream",
     "text": [
      "/Users/benkabongo25/opt/anaconda3/lib/python3.9/site-packages/sklearn/utils/deprecation.py:87: FutureWarning: Function get_feature_names is deprecated; get_feature_names is deprecated in 1.0 and will be removed in 1.2. Please use get_feature_names_out instead.\n",
      "  warnings.warn(msg, category=FutureWarning)\n"
     ]
    },
    {
     "data": {
      "text/html": [
       "<div>\n",
       "<style scoped>\n",
       "    .dataframe tbody tr th:only-of-type {\n",
       "        vertical-align: middle;\n",
       "    }\n",
       "\n",
       "    .dataframe tbody tr th {\n",
       "        vertical-align: top;\n",
       "    }\n",
       "\n",
       "    .dataframe thead th {\n",
       "        text-align: right;\n",
       "    }\n",
       "</style>\n",
       "<table border=\"1\" class=\"dataframe\">\n",
       "  <thead>\n",
       "    <tr style=\"text-align: right;\">\n",
       "      <th></th>\n",
       "      <th>myth</th>\n",
       "      <th>wood</th>\n",
       "      <th>robot</th>\n",
       "      <th>history</th>\n",
       "      <th>science</th>\n",
       "      <th>mathematics</th>\n",
       "      <th>health</th>\n",
       "      <th>portuguese</th>\n",
       "      <th>o</th>\n",
       "    </tr>\n",
       "    <tr>\n",
       "      <th>corpus</th>\n",
       "      <th></th>\n",
       "      <th></th>\n",
       "      <th></th>\n",
       "      <th></th>\n",
       "      <th></th>\n",
       "      <th></th>\n",
       "      <th></th>\n",
       "      <th></th>\n",
       "      <th></th>\n",
       "    </tr>\n",
       "  </thead>\n",
       "  <tbody>\n",
       "    <tr>\n",
       "      <th>mythology</th>\n",
       "      <td>867</td>\n",
       "      <td>75</td>\n",
       "      <td>6</td>\n",
       "      <td>307</td>\n",
       "      <td>35</td>\n",
       "      <td>4</td>\n",
       "      <td>23</td>\n",
       "      <td>4</td>\n",
       "      <td>0</td>\n",
       "    </tr>\n",
       "    <tr>\n",
       "      <th>woodworking</th>\n",
       "      <td>5</td>\n",
       "      <td>8017</td>\n",
       "      <td>1</td>\n",
       "      <td>19</td>\n",
       "      <td>16</td>\n",
       "      <td>0</td>\n",
       "      <td>53</td>\n",
       "      <td>0</td>\n",
       "      <td>0</td>\n",
       "    </tr>\n",
       "    <tr>\n",
       "      <th>robotics</th>\n",
       "      <td>0</td>\n",
       "      <td>22</td>\n",
       "      <td>5321</td>\n",
       "      <td>25</td>\n",
       "      <td>33</td>\n",
       "      <td>50</td>\n",
       "      <td>3</td>\n",
       "      <td>2</td>\n",
       "      <td>0</td>\n",
       "    </tr>\n",
       "    <tr>\n",
       "      <th>hsm</th>\n",
       "      <td>28</td>\n",
       "      <td>17</td>\n",
       "      <td>2</td>\n",
       "      <td>1513</td>\n",
       "      <td>1174</td>\n",
       "      <td>2095</td>\n",
       "      <td>39</td>\n",
       "      <td>7</td>\n",
       "      <td>0</td>\n",
       "    </tr>\n",
       "    <tr>\n",
       "      <th>health</th>\n",
       "      <td>55</td>\n",
       "      <td>13</td>\n",
       "      <td>1</td>\n",
       "      <td>242</td>\n",
       "      <td>263</td>\n",
       "      <td>9</td>\n",
       "      <td>2178</td>\n",
       "      <td>4</td>\n",
       "      <td>0</td>\n",
       "    </tr>\n",
       "    <tr>\n",
       "      <th>portuguese</th>\n",
       "      <td>2</td>\n",
       "      <td>13</td>\n",
       "      <td>3</td>\n",
       "      <td>18</td>\n",
       "      <td>7</td>\n",
       "      <td>3</td>\n",
       "      <td>9</td>\n",
       "      <td>1061</td>\n",
       "      <td>0</td>\n",
       "    </tr>\n",
       "  </tbody>\n",
       "</table>\n",
       "</div>"
      ],
      "text/plain": [
       "             myth  wood  robot  history  science  mathematics  health  \\\n",
       "corpus                                                                  \n",
       "mythology     867    75      6      307       35            4      23   \n",
       "woodworking     5  8017      1       19       16            0      53   \n",
       "robotics        0    22   5321       25       33           50       3   \n",
       "hsm            28    17      2     1513     1174         2095      39   \n",
       "health         55    13      1      242      263            9    2178   \n",
       "portuguese      2    13      3       18        7            3       9   \n",
       "\n",
       "             portuguese  o  \n",
       "corpus                      \n",
       "mythology             4  0  \n",
       "woodworking           0  0  \n",
       "robotics              2  0  \n",
       "hsm                   7  0  \n",
       "health                4  0  \n",
       "portuguese         1061  0  "
      ]
     },
     "execution_count": 13,
     "metadata": {},
     "output_type": "execute_result"
    }
   ],
   "source": [
    "# vectorization\n",
    "vectorizer = CountVectorizer(vocabulary=words)\n",
    "cv_df = pd.DataFrame(\n",
    "    vectorizer.fit_transform(df['text']).toarray(), \n",
    "    columns=vectorizer.get_feature_names(), \n",
    "    index=df.index\n",
    ")\n",
    "cv_df"
   ]
  },
  {
   "cell_type": "markdown",
   "id": "e04b2cc1",
   "metadata": {},
   "source": [
    "#### 🚧 TODO: Why is this different? \n",
    "\n",
    "- Try to explain\n",
    "\n",
    "- Give a simple example with the toy corpus below (with the same vocabulary)"
   ]
  },
  {
   "cell_type": "code",
   "execution_count": 14,
   "id": "e3bd212c-0feb-4574-a469-0ab9170bdb3e",
   "metadata": {},
   "outputs": [],
   "source": [
    "test_text = (\n",
    "    \"myth wood robot history science mathematics health portuguese o \"\n",
    "    \"myth wood robot history science mathematics health portuguese o\"\n",
    ")"
   ]
  },
  {
   "cell_type": "code",
   "execution_count": 15,
   "id": "22fbc8d1",
   "metadata": {},
   "outputs": [
    {
     "data": {
      "text/html": [
       "<div>\n",
       "<style scoped>\n",
       "    .dataframe tbody tr th:only-of-type {\n",
       "        vertical-align: middle;\n",
       "    }\n",
       "\n",
       "    .dataframe tbody tr th {\n",
       "        vertical-align: top;\n",
       "    }\n",
       "\n",
       "    .dataframe thead th {\n",
       "        text-align: right;\n",
       "    }\n",
       "</style>\n",
       "<table border=\"1\" class=\"dataframe\">\n",
       "  <thead>\n",
       "    <tr style=\"text-align: right;\">\n",
       "      <th></th>\n",
       "      <th>myth</th>\n",
       "      <th>wood</th>\n",
       "      <th>robot</th>\n",
       "      <th>history</th>\n",
       "      <th>science</th>\n",
       "      <th>mathematics</th>\n",
       "      <th>health</th>\n",
       "      <th>portuguese</th>\n",
       "      <th>o</th>\n",
       "    </tr>\n",
       "  </thead>\n",
       "  <tbody>\n",
       "    <tr>\n",
       "      <th>0</th>\n",
       "      <td>2</td>\n",
       "      <td>2</td>\n",
       "      <td>2</td>\n",
       "      <td>2</td>\n",
       "      <td>2</td>\n",
       "      <td>2</td>\n",
       "      <td>2</td>\n",
       "      <td>2</td>\n",
       "      <td>14</td>\n",
       "    </tr>\n",
       "  </tbody>\n",
       "</table>\n",
       "</div>"
      ],
      "text/plain": [
       "   myth  wood  robot  history  science  mathematics  health  portuguese   o\n",
       "0     2     2      2        2        2            2       2           2  14"
      ]
     },
     "execution_count": 15,
     "metadata": {},
     "output_type": "execute_result"
    }
   ],
   "source": [
    "test_wc_df = pd.DataFrame(index=range(1))\n",
    "for w in words:\n",
    "    test_wc_df[w] = test_text.count(w)\n",
    "test_wc_df"
   ]
  },
  {
   "cell_type": "code",
   "execution_count": 16,
   "id": "79d8e1c1-02aa-41d8-8007-53371c5f1c93",
   "metadata": {},
   "outputs": [
    {
     "data": {
      "text/html": [
       "<div>\n",
       "<style scoped>\n",
       "    .dataframe tbody tr th:only-of-type {\n",
       "        vertical-align: middle;\n",
       "    }\n",
       "\n",
       "    .dataframe tbody tr th {\n",
       "        vertical-align: top;\n",
       "    }\n",
       "\n",
       "    .dataframe thead th {\n",
       "        text-align: right;\n",
       "    }\n",
       "</style>\n",
       "<table border=\"1\" class=\"dataframe\">\n",
       "  <thead>\n",
       "    <tr style=\"text-align: right;\">\n",
       "      <th></th>\n",
       "      <th>myth</th>\n",
       "      <th>wood</th>\n",
       "      <th>robot</th>\n",
       "      <th>history</th>\n",
       "      <th>science</th>\n",
       "      <th>mathematics</th>\n",
       "      <th>health</th>\n",
       "      <th>portuguese</th>\n",
       "      <th>o</th>\n",
       "    </tr>\n",
       "  </thead>\n",
       "  <tbody>\n",
       "    <tr>\n",
       "      <th>0</th>\n",
       "      <td>2</td>\n",
       "      <td>2</td>\n",
       "      <td>2</td>\n",
       "      <td>2</td>\n",
       "      <td>2</td>\n",
       "      <td>2</td>\n",
       "      <td>2</td>\n",
       "      <td>2</td>\n",
       "      <td>0</td>\n",
       "    </tr>\n",
       "  </tbody>\n",
       "</table>\n",
       "</div>"
      ],
      "text/plain": [
       "   myth  wood  robot  history  science  mathematics  health  portuguese  o\n",
       "0     2     2      2        2        2            2       2           2  0"
      ]
     },
     "execution_count": 16,
     "metadata": {},
     "output_type": "execute_result"
    }
   ],
   "source": [
    "vectorizer = CountVectorizer(vocabulary=words)\n",
    "freqs = vectorizer.fit_transform([test_text]).toarray()\n",
    "test_cv_df = pd.DataFrame(freqs, columns=vectorizer.get_feature_names_out())\n",
    "test_cv_df"
   ]
  },
  {
   "cell_type": "markdown",
   "id": "48039a73-0d8d-45ef-8975-b6b2e7b88db3",
   "metadata": {},
   "source": [
    "#### 🚧 TODO: Is this difference important?\n",
    "\n",
    "• Visualize the PCAs of both models"
   ]
  },
  {
   "cell_type": "code",
   "execution_count": 17,
   "id": "b936329d",
   "metadata": {},
   "outputs": [
    {
     "data": {
      "image/png": "[encoded data removed]",
      "text/plain": [
       "<Figure size 640x480 with 1 Axes>"
      ]
     },
     "metadata": {
      "image/png": {
       "height": 416,
       "width": 595
      }
     },
     "output_type": "display_data"
    }
   ],
   "source": [
    "# PCA\n",
    "pca = decomposition.PCA(n_components=2)\n",
    "pca_wc_df = pca.fit_transform(wc_df)\n",
    "\n",
    "# Plot\n",
    "plt.scatter(pca_wc_df[:,0], pca_wc_df[:,1])\n",
    "plt.show()"
   ]
  },
  {
   "cell_type": "code",
   "execution_count": 18,
   "id": "520e9120",
   "metadata": {},
   "outputs": [
    {
     "data": {
      "image/png": "[encoded data removed]",
      "text/plain": [
       "<Figure size 640x480 with 1 Axes>"
      ]
     },
     "metadata": {
      "image/png": {
       "height": 416,
       "width": 572
      }
     },
     "output_type": "display_data"
    }
   ],
   "source": [
    "# PCA\n",
    "pca = decomposition.PCA(n_components=2)\n",
    "pca_cv_df = pca.fit_transform(cv_df)\n",
    "\n",
    "# Plot\n",
    "plt.scatter(pca_cv_df[:,0], pca_cv_df[:,1])\n",
    "plt.show()"
   ]
  },
  {
   "cell_type": "markdown",
   "id": "00fdc300-0bec-484d-bd8f-b1e7c2eb65d3",
   "metadata": {},
   "source": [
    "-----------"
   ]
  },
  {
   "cell_type": "markdown",
   "id": "8076c0e4-7fef-4c3c-9f20-9da6db790136",
   "metadata": {},
   "source": [
    "## Hold the corpus as individual documents"
   ]
  },
  {
   "cell_type": "code",
   "execution_count": 19,
   "id": "e2b59bc1",
   "metadata": {},
   "outputs": [
    {
     "data": {
      "application/vnd.jupyter.widget-view+json": {
       "model_id": "a275b88e8a044190879e7b69738fabff",
       "version_major": 2,
       "version_minor": 0
      },
      "text/plain": [
       "  0%|          | 0/6 [00:00<?, ?it/s]"
      ]
     },
     "metadata": {},
     "output_type": "display_data"
    },
    {
     "name": "stdout",
     "output_type": "stream",
     "text": [
      "mythology\n",
      "woodworking\n",
      "robotics\n",
      "hsm\n",
      "health\n",
      "portuguese\n"
     ]
    }
   ],
   "source": [
    "data = []\n",
    "for i, corpus in enumerate(tqdm(CORPORA)):\n",
    "    print(corpus)\n",
    "    for fp in (TEXT_P / corpus).glob(\"*.txt\"):\n",
    "        with fp.open() as f:\n",
    "            text = f.read()\n",
    "        data.append(\n",
    "            {\n",
    "                \"id\": fp.stem,\n",
    "                \"text\": text,\n",
    "                \"category\": corpus,\n",
    "                \"cat_id\": i,\n",
    "            }\n",
    "        )"
   ]
  },
  {
   "cell_type": "code",
   "execution_count": 20,
   "id": "99901d5e",
   "metadata": {},
   "outputs": [
    {
     "data": {
      "text/html": [
       "<div>\n",
       "<style scoped>\n",
       "    .dataframe tbody tr th:only-of-type {\n",
       "        vertical-align: middle;\n",
       "    }\n",
       "\n",
       "    .dataframe tbody tr th {\n",
       "        vertical-align: top;\n",
       "    }\n",
       "\n",
       "    .dataframe thead th {\n",
       "        text-align: right;\n",
       "    }\n",
       "</style>\n",
       "<table border=\"1\" class=\"dataframe\">\n",
       "  <thead>\n",
       "    <tr style=\"text-align: right;\">\n",
       "      <th></th>\n",
       "      <th>text</th>\n",
       "      <th>category</th>\n",
       "      <th>cat_id</th>\n",
       "    </tr>\n",
       "    <tr>\n",
       "      <th>id</th>\n",
       "      <th></th>\n",
       "      <th></th>\n",
       "      <th></th>\n",
       "    </tr>\n",
       "  </thead>\n",
       "  <tbody>\n",
       "    <tr>\n",
       "      <th>mythology.stackexchange_0000001634</th>\n",
       "      <td>Q:\\n\\nCan anyone identify what Chinese mytholo...</td>\n",
       "      <td>mythology</td>\n",
       "      <td>0</td>\n",
       "    </tr>\n",
       "    <tr>\n",
       "      <th>mythology.stackexchange_0000002329</th>\n",
       "      <td>Q:\\n\\nHave runes ever been used to bring someo...</td>\n",
       "      <td>mythology</td>\n",
       "      <td>0</td>\n",
       "    </tr>\n",
       "    <tr>\n",
       "      <th>mythology.stackexchange_0000001146</th>\n",
       "      <td>Q:\\n\\nDifferences in the Greek and Roman portr...</td>\n",
       "      <td>mythology</td>\n",
       "      <td>0</td>\n",
       "    </tr>\n",
       "    <tr>\n",
       "      <th>mythology.stackexchange_0000004770</th>\n",
       "      <td>Q:\\n\\nWhich cultures have the concept of a \"tr...</td>\n",
       "      <td>mythology</td>\n",
       "      <td>0</td>\n",
       "    </tr>\n",
       "    <tr>\n",
       "      <th>mythology.stackexchange_0000000516</th>\n",
       "      <td>Q:\\n\\nWhy did Arawn choose Pwyll to fight Hafg...</td>\n",
       "      <td>mythology</td>\n",
       "      <td>0</td>\n",
       "    </tr>\n",
       "    <tr>\n",
       "      <th>...</th>\n",
       "      <td>...</td>\n",
       "      <td>...</td>\n",
       "      <td>...</td>\n",
       "    </tr>\n",
       "    <tr>\n",
       "      <th>portuguese.stackexchange_0000001017</th>\n",
       "      <td>Q:\\n\\n\"pois não\" has an affirmative connotatio...</td>\n",
       "      <td>portuguese</td>\n",
       "      <td>5</td>\n",
       "    </tr>\n",
       "    <tr>\n",
       "      <th>portuguese.stackexchange_0000004609</th>\n",
       "      <td>Q:\\n\\nPor que \"Teiú\" tem acento?\\n\\nMonossílab...</td>\n",
       "      <td>portuguese</td>\n",
       "      <td>5</td>\n",
       "    </tr>\n",
       "    <tr>\n",
       "      <th>portuguese.stackexchange_0000000484</th>\n",
       "      <td>Q:\\n\\nRegional usage of \"guitarra\" and \"violão...</td>\n",
       "      <td>portuguese</td>\n",
       "      <td>5</td>\n",
       "    </tr>\n",
       "    <tr>\n",
       "      <th>portuguese.stackexchange_0000003833</th>\n",
       "      <td>Q:\\n\\n\"Do the names of the indigenous peoples ...</td>\n",
       "      <td>portuguese</td>\n",
       "      <td>5</td>\n",
       "    </tr>\n",
       "    <tr>\n",
       "      <th>portuguese.stackexchange_0000000490</th>\n",
       "      <td>Q:\\n\\nIs \"farnizim\" the same as saying \"frenes...</td>\n",
       "      <td>portuguese</td>\n",
       "      <td>5</td>\n",
       "    </tr>\n",
       "  </tbody>\n",
       "</table>\n",
       "<p>14451 rows × 3 columns</p>\n",
       "</div>"
      ],
      "text/plain": [
       "                                                                                  text  \\\n",
       "id                                                                                       \n",
       "mythology.stackexchange_0000001634   Q:\\n\\nCan anyone identify what Chinese mytholo...   \n",
       "mythology.stackexchange_0000002329   Q:\\n\\nHave runes ever been used to bring someo...   \n",
       "mythology.stackexchange_0000001146   Q:\\n\\nDifferences in the Greek and Roman portr...   \n",
       "mythology.stackexchange_0000004770   Q:\\n\\nWhich cultures have the concept of a \"tr...   \n",
       "mythology.stackexchange_0000000516   Q:\\n\\nWhy did Arawn choose Pwyll to fight Hafg...   \n",
       "...                                                                                ...   \n",
       "portuguese.stackexchange_0000001017  Q:\\n\\n\"pois não\" has an affirmative connotatio...   \n",
       "portuguese.stackexchange_0000004609  Q:\\n\\nPor que \"Teiú\" tem acento?\\n\\nMonossílab...   \n",
       "portuguese.stackexchange_0000000484  Q:\\n\\nRegional usage of \"guitarra\" and \"violão...   \n",
       "portuguese.stackexchange_0000003833  Q:\\n\\n\"Do the names of the indigenous peoples ...   \n",
       "portuguese.stackexchange_0000000490  Q:\\n\\nIs \"farnizim\" the same as saying \"frenes...   \n",
       "\n",
       "                                       category  cat_id  \n",
       "id                                                       \n",
       "mythology.stackexchange_0000001634    mythology       0  \n",
       "mythology.stackexchange_0000002329    mythology       0  \n",
       "mythology.stackexchange_0000001146    mythology       0  \n",
       "mythology.stackexchange_0000004770    mythology       0  \n",
       "mythology.stackexchange_0000000516    mythology       0  \n",
       "...                                         ...     ...  \n",
       "portuguese.stackexchange_0000001017  portuguese       5  \n",
       "portuguese.stackexchange_0000004609  portuguese       5  \n",
       "portuguese.stackexchange_0000000484  portuguese       5  \n",
       "portuguese.stackexchange_0000003833  portuguese       5  \n",
       "portuguese.stackexchange_0000000490  portuguese       5  \n",
       "\n",
       "[14451 rows x 3 columns]"
      ]
     },
     "execution_count": 20,
     "metadata": {},
     "output_type": "execute_result"
    }
   ],
   "source": [
    "doc_df = pd.DataFrame.from_records(data).set_index(\"id\")\n",
    "doc_df"
   ]
  },
  {
   "cell_type": "markdown",
   "id": "3b917a33",
   "metadata": {},
   "source": [
    "#### 🚧 TODO: Plot (bar) the number of documents per category"
   ]
  },
  {
   "cell_type": "code",
   "execution_count": 21,
   "id": "caaf703a",
   "metadata": {},
   "outputs": [
    {
     "data": {
      "text/plain": [
       "<AxesSubplot:>"
      ]
     },
     "execution_count": 21,
     "metadata": {},
     "output_type": "execute_result"
    },
    {
     "data": {
      "image/png": "[encoded data removed]",
      "text/plain": [
       "<Figure size 640x480 with 1 Axes>"
      ]
     },
     "metadata": {
      "image/png": {
       "height": 416,
       "width": 563
      }
     },
     "output_type": "display_data"
    }
   ],
   "source": [
    "doc_df['cat_id'].hist()"
   ]
  },
  {
   "cell_type": "markdown",
   "id": "67dbfadd",
   "metadata": {},
   "source": [
    "#### 🚧 TODO: Boxplot the number of tokens per document\n",
    "\n",
    "* With and without outliers\n",
    "\n",
    "* Shortly explain the different values presented in a boxplot ([Wikipedia](https://en.wikipedia.org/wiki/Box_plot))\n",
    "\n",
    "* Are the texts of signifcantly different length? Argue shortly."
   ]
  },
  {
   "cell_type": "code",
   "execution_count": 22,
   "id": "dd1a6d2c",
   "metadata": {},
   "outputs": [],
   "source": [
    "# tokens \n",
    "doc_df['tokens_n'] = doc_df['text'].apply(lambda x: len(x.split()))"
   ]
  },
  {
   "cell_type": "code",
   "execution_count": 23,
   "id": "9477a886",
   "metadata": {},
   "outputs": [
    {
     "data": {
      "image/png": "[encoded data removed]",
      "text/plain": [
       "<Figure size 640x480 with 1 Axes>"
      ]
     },
     "metadata": {
      "image/png": {
       "height": 437,
       "width": 515
      }
     },
     "output_type": "display_data"
    },
    {
     "data": {
      "image/png": "[encoded data removed]",
      "text/plain": [
       "<Figure size 640x480 with 1 Axes>"
      ]
     },
     "metadata": {
      "image/png": {
       "height": 437,
       "width": 515
      }
     },
     "output_type": "display_data"
    }
   ],
   "source": [
    "# Boxplot with outliers\n",
    "sns.boxplot(x='tokens_n', data=doc_df)\n",
    "plt.show()\n",
    "\n",
    "# Boxplot without outliers\n",
    "sns.boxplot(x='tokens_n', data=doc_df, showfliers=False)\n",
    "plt.show()\n"
   ]
  },
  {
   "cell_type": "markdown",
   "id": "4ef700cb-f198-4e96-a9e3-f40933e6f0ac",
   "metadata": {},
   "source": [
    "### 🚧 TODO: How to find the crazy long robotics text?\n",
    "\n",
    "*   Find the index of the longest text\n",
    "\n",
    "*   Show the content\n",
    "\n",
    "*   Explain why this text is so long (what does it contain?)"
   ]
  },
  {
   "cell_type": "code",
   "execution_count": 24,
   "id": "63853558-558a-41df-b8ee-01264073ba1c",
   "metadata": {
    "scrolled": false
   },
   "outputs": [
    {
     "name": "stdout",
     "output_type": "stream",
     "text": [
      "Q:\n",
      "\n",
      "Is Kline right that Cauchy believed that continuous functions must be differentiable?\n",
      "\n",
      "Morris Kline, in Mathematical Thought from Ancient to Modern Time, writes in chapter 40 (The Installation of Rigor in Analysis), \"Though Bolzano and Cauchy had rigorized (somewhat) the notions of continuity and the derivative, Cauchy and nearly all mathematicians of his era believed and many texts \"proved\" for the next fifty years that a continuous function must be differentiable.\"\n",
      "Is it true that Cauchy believed that a continuous function must be differentiable as Kline claims?\n",
      "Note 1.  As user Renfro correctly pointed out here the mathematician who attempted to \"prove\" that continuity implies differentiability was Ampere (rather than Cauchy).  The first one to confuse the two names seems to have been Boyer. I can't vouch for Kline's philosophy but at any rate his history can only be as good as the historians he relies upon, and in this case he seems to have copied the claim about Cauchy from Boyer's confused passage.\n",
      "Note 2. Cauchy in his 1823 book mentions the example of the function $y=x^{\\frac{1}{3}}$ and points out that the derivative is infinite at the origin.\n",
      "\n",
      "A:\n",
      "\n",
      "I do not believe Cauchy wrote anything explicit concerning the extent to which we can deduce differentiability from continuity. However, in many places it seems that Cauchy assumes continuity and then introduces derivatives. From what I can determine, this has led historians to \"read Cauchy\" in different ways according to the embedded contextual world-view the historian felt was appropriate. In what follows I have assembled a number of relevant publications and excerpts that give a sense of what people have written about this and related issues for the period of time between Ampère (1806) and Weierstrass (1872).\n",
      "[1] Umberto Bottazzini, The Higher Calculus: A History of Real and Complex Analysis from Euler to Weierstrass, translated by Warren Van Egmond, Springer-Verlag, 1986, vi + 332 pages.\n",
      "Section 3.6. Cauchy's Definitions of Derivative and Differential (pp. 117-122) contains a discussion of the issue at hand.\n",
      "\n",
      "(from pp. 118-119) In the same volume of the Journal de l'Ecole polytechnique that contained Lagrange's supplement, A. M. Ampere (1775-1836) published a long note whose object was \"a new demonstration of the Taylor series.\" In criticizing Lagrange's assumption, Ampère sought to demonstrate that it is possible for every function $f(x)$ to be expanded in a series of increasing powers$.^{23}$ [Bottazzini cites Grabiner's 1978 paper and 1981 book.] He began from a definition of the derivative that was based on a property of derived functions found by Lagrange. This property was stated by Ampère as, [begin indented text] Let $A$ and $K$ be the values of $f(x)$ corresponding to $x=a$ and $x=k.$ One can always suppose that $a$ and $k$ are chosen in such a way that $f(x)$ never becomes infinite in the interval and that neither $A=k$ nor $a=k,$ so that $\\frac{K-A}{k-a}$ is neither zero nor infinite, and that one can take this quantity for that above or below which one can always take $[f(x+i)-f(x)]/i,$ giving to $i$ a value as small as necessary (1806a, p. 151). [end indented text] From this property Ampère drew the definition of derivative that to him \"seemed the most general and the most rigorous possible\" (ibid., p. 156). \"The derived function of $f(x)$ is a function of $x$ such that $[f(x+i)-f(x)]/i$ is always included between two of the values that this derived function takes between $x$ and $x+i,$ whatever $x$ and $i$ may be (ibid.). Ampère's work and his lectures at the École Polytechnique did not go without influence on Cauchy, who cites Ampère among those to whom he is indebted in both the Cours d'analyse and in the Résumé. But Cauchy's approach reverses the terms of the problem: by defining the derivative of a function (if it exists) as a suitable limit, what Ampère had given as a definition became a property of the derivative, expressible as a theorem.\n",
      "\n",
      "[2] Carl Benjamin Boyer, The Concepts of the Calculus. A Critical and Historical Discussion of the Derivative and the Integral, Columbia University Press, 1939, vii + 346 pages. [Reprinted by Dover Publications in 1959, with the title changed to The History of the Calculus and Its Conceptual Development.]\n",
      "\n",
      "(from middle of p. 282) The geometrical intuitions which intruded themselves into Cauchy's view of irrational number likewise led him erroneously to believe that the continuity of a function was sufficient for its geometrical representation and for the existence of a derivative$.^{45}$ [Jourdain's 1905 paper is cited.] A. M. Ampère also had been led by geometric preconceptions similar to those of Cauchy to try to demonstrate the false proposition that every continuous function has a derivative, except for certain isolated values in the interval$.^{46}$ [Pringsheim/Molk is cited.]\n",
      "\n",
      "[3] Louis Philippe Gilbert, Mémoire sur l'existence de la dérivée dans les fonctions continues [Memoir on the existence of the derivative in continuous functions], Mémoires Couronnés et Autres Mémoires, publiés par l'Académie Royale des Sciences, des Lettres et des Beaux-Arts de Belgique 23 #3 (1873), vi + 31 pages.\n",
      "See also Eugène Charles Catalan's 1872 advance report on Gilbert's memoir (9 pages, in French) and Gilbert's 1872 Sur une objection proposée par M. Catalan [On an objection proposed by Mr. Catalan] (5 pages, with a 1-paragraph response by Catalan on p. 502) and Gilbert's 1872 Rectification au sujet d'un mémoire précédent [Correction to the subject of the preceding memoir] (9 pages).\n",
      "Note: Gilbert originally argued (in his earlier written memoir, which has the \"official publication\" year of 1873) that there were errors in Hankel's 1870 work and that Hankel did not actually show there exist continuous functions that are non-differentiable on dense sets (or \"everywhere\" non-differentiable; I am not sure to what extent Gilbert originally made a distinction between non-differentiable on every interval and being non-differentiable at every point). Gilbert's approach was based on Lamarle's methods and was intended to conclusively prove that a continuous function is differentiable except for an isolated set of points (see Gilbert's final theorem at the bottom of p. 31). However, after Gilbert learned of the results in Hermann Amandus Schwarz's 1873 paper Neues beispiel einer stetigen nicht differentiirbaren function [New example of a continuous non-differentiable function] French version, which gives a particularly simple example of a strictly increasing continuous function that is not differentiable at each nonzero dyadic rational number (in fact, at each such number the right derivative is $+\\infty$ and the left derivative is positive and finite), Gilbert came to realize that Hankel's examples were possible. (Schwarz presented his example on 19 August 1873, but since Gilbert's Rectification was presented in a session dated 7 June 1873, Gilbert obviously knew about it before Schwarz's presentation. Incidentally, although Weierstrass' presentation of an everywhere non-differentiable continuous function was on 18 July 1872, I can find no mention of Weierstrass in Gilbert's Rectification.) In fact, some of Hankel's reasoning was not correct. However, I do not know to what extent Gilbert's criticism of Hankel were based on actual errors that Hankel made and to what extent Gilbert's criticism of Hankel were a result of errors in Gilbert's own reasoning. I believe Gilbert, in his Rectification, still felt that it was not possible for a continuous function to be non-differentiable at each point. With this in mind, it is perhaps worth noting that Gilbert repented his early 1870s views by giving a lengthy survey of this topic -- beginning with Ampère and including a detailed discussion of Hankel's and Schwarz's examples, and even the Weierstrass nowhere differentiable continuous function -- in Note II (pp. 467-475) in the 1878 2nd edition of his textbook Cours d'Analyse Infinitésimale. Partie Élémentaire.\n",
      "[4] Judith Victor Grabiner, The origins of Cauchy's theory of the derivative, Historia Mathematica 5 #4 (November 1978), 379-409.\n",
      "\n",
      "(first full paragraph on p. 381) Cauchy first presented his definition of the derivative to the mathematical world in his Leçons sur le calcul infinitésimal of 1823. He defined the derivative $f'(x)$ of a continuous function $f(x)$ as the limit, when it exists, of the ratio $f(x+i)-f(x)/i$ as $i$ went to zero. But it is not the mere definition of the derivative as the limit of the quotient of differences which constitutes Cauchy's achievement. Newton, after all, had described some of his results in terms of limits [Newton 1934, Scholium to Lemma XI]. Jean-le-Rond D'Alembert, under Newton's influence, had explicitly defined the differential quotient as the limit of the quotient of differences [1789, article \"Différentiel.\" The definition used by D'Alembert was fairly common by the end of the eighteenth century. See Boyer 1949, Chapter VI.] The difference between Cauchy's work and that of men like D'Alembert lies in the understanding and the use of the definition. D'Alembert did not have what we now call a delta-epsilon translation of the limit-concept; as we shall see, Cauchy did. The only real use D'Alembert made of his definition was to illustrate the finding of a tangent to a parabola as the limit of secants [op. cit.]. In contrast, Cauchy's definition was the beginning of his task, not the end; his achievement was to produce an extended body of proved results about derivatives.\n",
      "(middle of p. 383) [This appears after a translated quote from pp. 22-23 of Cauchy's 1823 book] Cauchy's phrase \"this limit, when it exists\" exemplifies his attitude toward rigor. Perhaps his use of the phrase was motivated only by the behavior of known functions at isolated points, but the language was sufficiently general to open the whole question of the existence or non-existence of derivatives. And, though his definition of derivative, like that of limit, is verbal, we shall see immediately that he translated the definition into the algebra of inequalities for use in proofs.\n",
      "(from p. 396, lines 6-13) [Ampère's 1806 paper is discussed on pp. 395-400] Cauchy knew Ampère personally, and had once been his student. Cauchy said in the \"Introduction\" to his Cours d'analyse that he had \"profited several times from the observations of M. Ampère, as well as from the methods that he [= Ampère] has developed in his lectures on analysis\" [1821, vii-viii]. He more than once acknowledged Ampère's assistance in a general way [1821, vii; 1826, 10]. And Cauchy explicitly referred to Ampère's 1806 paper on the occasion of his own proof of (1) [1823, 44n; 1829, 268]. [Note: (1) is the statement $\\min \\{f'(x): \\; a \\leq x \\leq b \\} \\; \\leq \\; \\frac{f(b) - f(a)}{b - a} \\; \\leq \\; \\max \\{f'(x): \\; a \\leq x \\leq b \\}.$]\n",
      "(from lower middle of p. 396) Thus it is natural for us, in our search for Cauchy's sources, to examine Ampère's paper. The paper is, unfortunately, confusing to read and not very well organized. It has on occasion been misinterpreted as an attempt to prove that every continuous function is differentiable. The major source of this interpretation seems to be [Pringsheim 1909, 44]. [Note: I disagree. There are many references in the 19th century literature to Ampère's paper being an attempt to prove that continuous functions are differentiable, except at certain isolated points.] Ampère himself is partly responsible for this error; in his paper he used the term \"exist\" to describe a derivative when he meant that it was finite and non-zero [1806, 149]. Given the prevailing view on the part of many historians about the lack of rigor and sophistication in analysis before Cauchy, together with Ampère's unusual use of the term \"exist,\" the misinterpretation of Ampère's words is not surprising. Nevertheless, this error has led to an unfortunate neglect of Ampère's paper by historians of the calculus. Since Ampère's innovations helped Cauchy learn to prove theorems about derivatives, they deserve to be looked at again with care.\n",
      "\n",
      "Note: I believe I have encountered the use of \"number exists\" to mean \"not zero\" (and not negative) several times in very old papers and books (first half of 1800s), but I was not able to locate any specific such uses of \"exists\" at this time. My feeling is that the use of \"exists\" in this way is very similar to the use of \"exists\" for a set to mean that the set is not the empty set (this usage was very common from roughly the 1880s to the 1920s).\n",
      "[5] Ivor Grattan-Guinness, The emergence of mathematical analysis and its foundational progress, 1780-1880, pp. 94-148 in Ivor Grattan-Guinness (editor), From the Calculus to Set Theory, 1630--1910. An Introductory History, Gerald Duckworth and Company, 1980, vi + 306 pages. [Reprinted by Princeton University Press in 2000.]\n",
      "Some relevant comments about Cauchy and Ampère on the derivative appear on pp. 112-114, but everything of relevance to the issue at hand is contained in the excerpts I have given elsewhere. Nonetheless, the following comment may be of interest:\n",
      "\n",
      "(from bottom of p. 112) An immediate problem is the question of whether or not a continuous function is differentiable. To us the answer is undoubtedly in the negative, for a function with a corner is continuous but not differentiable there. But in the unrigorous systems of the 18th and early 19th centuries the properties of continuity and differentiability were not so clearly defined anyway, and infinitesimals might allow a corner to be interpreted as an infinitely tight (but differentiable) loop.\n",
      "\n",
      "[6] Ivor Grattan-Guinness, Convolutions in French Mathematics, 1800-1840, 3 volumes, Science Networks / Historical Studies #2, Birkhäuser Verlag, 1990, 1602 pages.\n",
      "\n",
      "(from Volume 2, p. 749, 2nd paragraph) Cauchy's treatment of the calculus began in lecture 3. [This pertains to Cauchy's 1823 book Résumé ...] The difference quotient of a continuous function $y = f(x),\\;$ (1152.1) $\\;\\Delta y / \\Delta x \\; = \\; (f(x + \\Delta x) - f(x))/\\Delta x,$ 'may converge towards another limit, either positive, or negative' when $\\Delta x \\rightarrow 0.$ [Note: Of course, Cauchy did not use the arrow notation for limits, since this only slowly came into use from about 1908 to the 1920s. Grattan-Guinness explicitly points out on p. 717 that although Cauchy did not use the arrow notation, Grattan-Guinness will use it in his discussion of Cauchy.] 'This limit, when it exists, has a determinate value' (including $0,$ surely) a 'new function' of $x.$ He used Lagrange's notation '$f'(x)$' and name 'derived function' for this new function, but of course it was essentially the derivative that we recognise, not Lagrange's coefficient (322.8) in the Taylor expansion. The phrase 'when it exists' shows that Cauchy was aware that a continuous function need not have a derivative, although the examples which he then gave were all differentiable $(\\sin x,\\;A^{x},$ and so on); he did not give examples with corners (such as Fourier had shown with his series in Figure 926.1) or define left- and right-hand derivatives.\n",
      "\n",
      "[7] Thomas William Hawkins, Lebesgue's Theory of Integration. Its Origins and Development, 2nd edition, Chelsea Publishing Company, 1975, xvi + 227 pages. [For the part I'm quoting, the 1970 1st edition, 1979 corrected 2nd edition, and the 2001 AMS reprint of the 1979 corrected 2nd edition are the same.]\n",
      "\n",
      "(from pp. 43-44) A. M. Ampère [1806] sought to establish this corollary independently of (4) [(4) is the statement that $f(x+i)=f(x)+pi+qi^2+\\cdots,$ where $p,$ $q,$ etc. are functions of $x$ only] and then use it to establish (4) without recourse to Lagrange's argument. It is his proof that became the paradigm for subsequent ones. What Ampère actually showed is that if $f'(x)$ exists for all $x$ $(f'(x)$ can be infinite for some values of $x)$ and if the difference quotient converges uniformly to $f'(x),$ then any interval $(a,k)$ must contain a point $x_0$ at which $f'(x_0)$ is finite and nonzero. This would imply that $f'(x)$ exists as a finite, nonzero quantity on a dense set. But Ampère interpreted his result to mean that $f'(x)$ is neither zero nor infinite except for \"certain particular and isolated values of $x$\" [1806: 149]. Between the appearance of Ampère's paper and 1870, the proposition that any (continuous) function is differentiable in general was stated and proved in most of the leading texts on the calculus$.^{11}$ [10 references are given, none are Cauchy] Frequently Ampère's original argument was simplified by making use of the \"intuitively evident\" fact that a function which varies continuously must be piecewise monotonic. Thus, differentiability and monotonicity were linked together, albeit tenuously. This is particularly interesting because Cauchy in his Leçons sur le calcul différentiel [1829] had considered the functions $f(x)=x^{3}\\sin(1/x)$ and $g(x)=x\\sin(1/x),$ both of which have removable discontinuities at $x=0$ and yet are not monotonic in any neighborhood of $0.$\n",
      "\n",
      "[8] Philip Edward Bertrand Jourdain, The theory of functions with Cauchy and Gauß, Bibliotheca Mathematica (3) 6 (1905), 190-207.\n",
      "I am including this because Boyer makes reference to Jourdain's discussion in Section 6 on p. 206. Jourdain's discussion mainly concerns the differentiability of functions of a complex variable. However, the nature of Jourdain's discussion, and especially the last sentence on p. 206 (which mentions the Weierstrass nowhere differentiable continuous function), suggests that Jourdain's discussion also concerns the differentiability of functions of a real variable.\n",
      "\n",
      "(from p. 206, lines 5-14) In the memoir of 1825, CAUCHY required only one-valuedness and continuity of $f(z);$ whether he regarded continuity as sufficient for the existence of a derivative cannot be told from his writings, for, as for [\"far\" intended?] as I am aware, he nowhere made a pronouncement on this point, -- perhaps he did not regard such a pronouncement as necessary. But it is difficult to doubt, from other indications in CAUCHY's works, that CAUCHY imagined that his conception of 'continuity' was in any case sufficient for the 'geometrical representability' of a function, and so for the existence of a derivate [= derivative; Dini derivates are not considered anywhere in Jourdain's paper]. In fact, CAUCHY's conceptions in analysis rested on geometrical grounds (except at isolated points).\n",
      "\n",
      "[9] Philip Edward Bertrand Jourdain, The origin of Cauchy's conceptions of a definite integral and of the continuity of a function, Isis 1 #4 (1913), 661-703.\n",
      "\n",
      "(from Section XVIII, on pp. 701-702) But on the other hand, LACROIX (5) gave a «proof» of the existence of differential quotients. [footnote (5) gives a citation to pp. 241-242 of Volume I, and to p. 712 of Volume III] The first attempt of this kind was due to AMPÈRE. AMPÈRE (1) began a memoir on TAYLOR'S series by a «proof» that the function of $x$ and $i$ [namely] $[f(x+i)-f(x)]/i$ can become, when we put $i=0,$ neither zero nor infinite for all values of $x.$ [footnote (1) gives a citation to Ampère's 1806 paper] [several sentences omitted] A point which seems to be of very great interest is the implied supposition that $f(x)$ is continuous. Many authors, like DINI (3), REIFF (4) and PRINGSHEIM (5) just say that this proof is to apply to «continuous» functions, and do not add that the word «continuous» had a different meaning in 1806, and was not used by AMPÈRE. [(3) is a citation to pp. 67-68 & 219 of Dini's 1878 book Fondamenti per la Teorica delle Funzioni di Variabili Reali, (4) is a citation to p. 156 of Reiff's 1889 book Geschichte der Unendlichen Reihen, (5) is p. 449 of Pringsheim's 1890 paper Zur Geschichte des Taylorschen Lehrsatzes] The «proof» of the existence of the limit of the ratio $\\; \\frac{f(x')-f(x)}{x'-x} \\;$ [typo corrected] given by LACROIX, was due to «M. BINET aîné, professeur de mathématiques transcendantes au Lycée de Rennes» (6). [footnote (6) extends to p. 703 and is the following: Presumably this would be the father of JACQUES PHILIPPE MARIE BINET who was born at Rennes in 1786 and died at Paris in 1856 (Poggendorff's biog.-lit. Handwörterbuch, vol. I, p. 194. For other early \"proofs,, of the existence of derivatives, see GALOIS' (1830-1831) Œuvres, Paris, 1897, p. 9; DE MORGAN, Calculus, p. 47-48.]\n",
      "\n",
      "Note: Augustus De Morgan's attempted proof that Jourdain mentions is not included among the 10 references given in a footnote on p. 44 of Hawkins' Lebesgue's Theory of Integration. Since De Morgan's book is fairly well known, I do not think Hawkins overlooked it. Instead, I think Hawkins did not include De Morgan's attempted proof because De Morgan expressed doubt about the proof in a paragraph (upper middle of p. 48) after his attempted proof.\n",
      "[10] Morris Kline, Mathematical Thought from Ancient to Modern Times, Oxford University Press, 1972, xvii + 1238 pages. [Reprinted as a 3-volume paperback edition in 1990.]\n",
      "Section 40.3. The Derivative (pp. 954-956 of the 1990 edition) includes the following.\n",
      "\n",
      "(top of p. 955) Though Bolzano and Cauchy had rigorized (somewhat) the notions of continuity and the derivative, Cauchy and nearly all mathematicians of his era believed and many texts \"proved\" for the next fifty years that a continuous function must be differentiable (except of course at isolated points such as $x=0$ for $y=1/x).$\n",
      "\n",
      "Note: This is perhaps not a very good example, since $y=1/x$ is not defined at $x=0.$ This manner of conflating (i.e. combining together) what we now consider to be two different ideas was common until the late 1800s. However, I do not know whether Kline is using this example to be in keeping with historical context or whether Kline simply overlooked the fact that his example could easily cause confusion with present-day readers.\n",
      "[11] Morris Kline, Mathematics. The Loss of Certainty, Oxford University Press, 1980, viii + 366 pages.\n",
      "\n",
      "(p. 176, lines 2-5) Like his contemporaries, he [= Cauchy] believed that continuity implied differentiability (Chapter VII) and so he stated many theorems in which the hypotheses called only for continuity, but where he used differentiability, and even after his attention was called to his mistake, he persisted.\n",
      "\n",
      "Note: I cannot find anything in Kline's book to support this claim about \"his attention was called to his mistake\". There are no footnotes at the back of Kline's book and the next few pages do not re-visit this claim about Cauchy.\n",
      "[12] Anatole Henri Ernest Lamarle, Étude approfondie sur les deux équations fondamentales Lim $\\frac{f(x+h) - f(x)}{h} = f'(x)$ et $dy = f'(x).\\;\\Delta x$ [Extensive study of the two fundamental equations Lim $\\frac{f(x+h) - f(x)}{h} = f'(x)$ and $dy = f'(x).\\;\\Delta x$], Mémoires de l'Académie Royale des Sciences, des Lettres et des Beaux-Arts de Belgique 29 (1855), 118 pages.\n",
      "See also Lamarle's 1854 summary Note sur les deux équations fondamentales lim. $\\frac{f(x+h) - f(x)}{h} = f'(x)$ et $dy = f'(x).\\;\\Delta x$ [Note on the two fundamental equations lim. $\\frac{f(x+h) - f(x)}{h} = f'(x)$ and $dy = f'(x).\\;\\Delta x$] (22 pages) and Mathieu Schaar's 1854 6 page summary. For a 51 page biography of Lamarle (in French), with a bibliography of 40 items published by Lamarle, see Notice sur la vie et les travaux de A.-H.-E. Lamarle [Notice on the life and works of A.-H.-E. Lamarle].\n",
      "[13] Jesper Lützen, The foundation of analysis in the 19th century, pp. 155-195 in Hans Niels Jahnke (editor), A History of Analysis, History of Mathematics #24, American Mathematical Society, 2003, x + 422 pages.\n",
      "\n",
      "(from bottom of p. 169) In the definition of the derivative Cauchy [in his 1823 book] started out by assuming that $f$ is continuous, but having formed the difference quotient and its limit, he was cautious to state \"if it exists\". This seems to set the stage for the introduction of the concept of differentiability. However, Cauchy did not introduce this concept and in the subsequent chapters of his book he simply assumed that $f$ was continuous (or he assumed nothing), even though he differentiated it any number of times. It is as though Cauchy still clung to the 18th-century idea of a \"safe domain\" in which analysis was more or less universally valid. With Euler and d'Alembert this domain consisted of all functions; with Cauchy it consisted of the continuous functions.\n",
      "(from p. 176, lines 17-19) Though Cauchy did not try to prove the erroneous theorem that any continuous function could be differentiated, he gave, as we have seen above, his readers the impression that it was true.\n",
      "\n",
      "[14] Fyodor Andreyevich Medvedev, Scenes from the History of Real Functions, translation by Roger Lee Cooke of the 1975 Russian edition, Science Networks / Historical Studies #7, Birkhäuser Verlag, 1991, 265 pages.\n",
      "Section 5.2 (Ampère's theorem, pp. 214-219) presents the viewpoint, which I agree with, that it is ahistorical (Medvedev, at least in translation, calls this \"modernization\") to interpret Ampère's paper as an attempt to prove that continuous functions are differentiable (except perhaps at certain isolated points).\n",
      "\n",
      "(from middle of p. 216) It is difficult for the modern reader to judge the content of Ampère's main proposition and the methods of reasoning he used to prove it. The majority of authors who have written about this are for some reason inclined to believe that in this paper he was attempting to prove that a derivative exists everywhere [in a bounded interval] except at a finite number of points for any continuous function or at least for every continuous function satisfying certain supplementary restrictions$.^4$ [The footnote mentions F. Riesz writing in 1932 that Ampère may have had in mind piece-wise monotone functions.] This opinion can hardly be considered correct. After all, the concept of a continuous function as it is known today, cannot be dated earlier than Lobachevskii and Dirichlet (cf. Sec. 8 of Essay II), or at most to Bolzano (1817) and Cauchy (1821). Thus it is clear a priori that Ampère could not have stated any such general considerations about such functions in 1806, and in fact he makes no such statements. He himself nowhere says explicitly that the functions he is considering belong to any general class of functions, and any judgment as to what he had in mind must be based on indirect reasoning.\n",
      "\n",
      "[15] Zbigniew Piotrowski, The genesis of separate versus joint continuity, Tatra Mountains Mathematical Publications 8 (1996), 113-126.\n",
      "\n",
      "(from middle of p. 115) Like his contemporaries, he [= Cauchy] also believed that continuity implied differentiability (?!) (see Chapter VII of [Ca]), and even after his attention was called to his mistake, he ... persisted (compare [K2] p. 176).\n",
      "\n",
      "Note: [Ca] is Cauchy's 1821 Cours d'Analyse and [K2] is Kline's book Mathematics. The Loss of Certainty. The ellipsis \"...\" is in the original and it does not indicate that I have omitted something while quoting from Piotrowski's paper.\n",
      "[16] Avadhesh [Avaresh] Narayan Singh, The Theory and Construction of Non-Differentiable Functions, Lucknow University Studies #1, Newul Kishore Press [Lucknow University Press], 1935, vii + 110 pages. [Reprinted in Squaring the Circle and Other Monographs, Chelsea Publishing Company, 1953.]\n",
      "\n",
      "(from First Lecture, Article 4: 2nd paragraph on pp. 4-5) [(1) and (30) are bibliographic citations in Singh's 104 item bibliography, and they refer to Ampère's 1806 paper and Gilbert's 1873 paper.] An attempt to prove that continuity was a sufficient condition for differentiability was made by Ampère (1) in 1806. Although Ampère's proof was defective yet his result was believed in by most mathematicians for a long time. Mention may be made of Duhamel, Bertrand and Gilbert (30) among those who definitely expressed their belief in Ampère's result. Even in the writings of such eminent mathematicians as Gauss, Cauchy, and Dirichlet there is nothing to show that they held a different opinion. Although they did not endorse Ampère's statement none of them seems to have had the conviction that a function which was everywhere continuous but nowhere differentiable could exist. Darboux in his memoir on \"Discontinuous functions,\" published in 1875, mentions only one auditor, M. Bienaimé, who said that he was unconvinced by Ampére's proof.\n",
      "\n",
      "[17] Klaus Thomas Volkert, Zur differenzierbarkeit stetiger funktionen -- Ampère's beweis und seine folgen [On differentiability of continuous functions -- Ampère's proof and its consequences], Archive for History of Exact Sciences 40 #1 (March 1989), 37-112.\n",
      "This appears to be a very complete study of Ampère's 1806 paper and its influence on later efforts by Lamarle, Hankel, Gilbert, du Bois-Reymond, Dini, and others. Unfortunately, the paper is in German and I cannot read German, and there seems to be nothing on the internet (at least, nothing freely available) that discusses (in English) Volkert's paper.\n",
      "\n",
      "A:\n",
      "\n",
      "Many mathematicians did believe that continuous functions are mostly differentiable (except for some isolated points perhaps) until Weierstrass made a splash by publishing an example of a nowhere differentiable continuous function in 1875. But it was not so much for the rigor reason implied by Kline, and repeated in older history books, as for the difference in the understanding of what a function is. Kline's phrasing is very misleading because \"Cauchy and nearly all mathematicians\" meant the concept differently, and for their version the issue was of little importance, see Medvedev's Scenes from the History of Real Functions (Ch. 5). \n",
      "The 18-th century function concept was more or less of an analytic expression in closed form, and those of course were both continuous and differentiable (except for isolated points) in the modern sense, see Was 18th century algebra more symbolic/formal than the modern conception? So for the good part of 19-th century those were still the functions that most mathematicians had in mind. Obvious counterexamples certainly known to Cauchy and others, like the square root function at $0$, showed that continuity did not imply differentiability at some points, but all that coming apart of functions, continuous functions, and differentiable functions was taking place at few isolated points only. And since it was accepted that functions may become \"infinite\" at isolated points the supposed \"belief\" was correct (even for our analytic functions), although that would be an odd way to put it, and it is more appropriate to say that the question was moot. \n",
      "The view of functions started to change after Gauss's work on hypergeometric functions, and especially after Fourier's work on trigonometric series. Only in 1822 in Théorie Analytique de la Chaleur (Analytic Theory of Heat) Fourier for the first time gave something close to the modern definition:\"In general, the function $f(x)$ represents a succession of values or ordinates each of which is arbitrary... We do not suppose these ordinates to be subject to a common law; they succeed each other in any manner whatever, and each of them is given as it were a single quantity\". But as MacTutor's function concept history article points out \"when he begins to prove theorems about expressing an arbitrary function as a Fourier series, he uses the fact that his arbitrary function is continuous in the modern sense!\" It is Dirichlet who started using Fourier's definition in a consistent manner, and popularized it. But even after the new function concept took hold, and Weierstrass's and other pathological counterexamples were accepted, Poincare was not happy about it as late as 1899:\"For half a century we have seen a mass of bizarre functions which appear to be forced to resemble as little as possible honest functions which serve some purpose... Formerly, when a new function was invented, it was in view of some practical end. Today they are invented on purpose to show that our ancestor's reasoning was at fault, and we shall never get anything more than that out of them\".\n",
      "\n",
      "A:\n",
      "\n",
      "New edition\n",
      "See:\n",
      "\n",
      "Frank Smithies, Cauchy and the creation of complex function theory (1997), page 188:\n",
      "\n",
      "[Cauchy] first contemplates the possibility that a continous function may fail to have a continuous derivative in [1839], remarking that one cannot be \n",
      "  certain that a function and its derivative necessarily have discontinuities or \n",
      "  infinities for the same values of the independent variable. Here he may perhaps have been influenced by some comments made by Frisiani and Piola in the appendix to their Italian translation (1834) of the first Turin memoir [Extrait du memoirepresente a l'Academie de Turin, le 11 octobre 1831]. It is clear that he was concerned only by the possibility that the derivative might have discontinuities at isolated points. In any case, he did insert the additional hypothesis that the derivative should be continuous when [the memori] was republished in his Exercices d'analyse in 1841, although it appears that he did not do so consistently in later publications. \n",
      "\n",
      "See: A.L.Cauchy, Note sur l'integration des equations differentielles des mouvements planetaires (1839), Exercices d'analyse et de physique mathématique, Vol.I, page 27-32.\n",
      "\n",
      "For subsequent developments, see: \n",
      "\n",
      "Ivor Grattan-Guinness (editor), From the Calculus to Set Theory: 1630-1910 (1980), Ch.3 The emergence of mathematical analysis and its foundational \n",
      "progress, 1780-1880, page 94-on:\n",
      "\n",
      "[page 138] The Weierstrassians took up the construction of analytic expressions \n",
      "  which defined functions with infinities of oscillations and discontinuous within a finite interval, and they examined the consequences for mathematical analysis. [...] Further such examples were studied in a long paper [of] 1875 ['Sur les fonctions discontinues', Ann.sci.Ecole Norm.Sup., (2)4(1875)] on various aspects of Weierstrassian analysis and Riemannian problems by Gaston Darboux. \n",
      "\"We thus obtain a continuous function of which the derivative is discontinuous for all commensurable [rational] values of $x$, but exists for all values of $x$\" he concluded (p. 109). After considering this and other examples of functions constructed in his paper, he remarked understandably that \"it seems difficult to indicate a general character which allows the recognition of whether a function $f(x)$ has a primitive function, that is to say, if it is the derived [function] of another function' (p. 111). [...] With functions such as these we see the question of continuity vis-a-vis differentiability arise in a stark form. Could there be a continuous function which is differentiable nowhere ? \n",
      "Weierstrass answered this question in the affirmative in a manuscript [of] 1872, with the example [...]. He published it in his 1880 ['Zur Functionenlehre', Monatsb.Preuss.Akad.Jifliss. Berlin, (1880)], art. 6, but it appeared first in  du Bois Reymond 1875 ['Versuch einer Classification der willktirlichen Functionen...\" J.rei.ang.Math., 79(1875), 21-37]. An extensive discussion of such functions was carried on in print as well as in correspondence, and a large number of continuous non-differentiable functions were invented over the following decades. [See Thomas Hawkins, Lebesgue's Theory of Integration: Its Origins and Development, (1970), page 44-50].\n",
      "\n",
      "And see Johan Thim's theses: Continuous Nowhere Differentiable Functions, page 6, for a useful list and an abstract in fr.wiki.\n",
      "\n",
      "For some recent sources, see:\n",
      "\n",
      "Umberto Bottazzini & Jeremy Gray, Hidden Harmonies: The Rise of Complex Function Theory (2013)\n",
      "Jeremy Gray, The Real and the Complex: A History of Analysis in the 19th Century (2015)\n",
      "\n",
      "\n"
     ]
    }
   ],
   "source": [
    "# index of the longest text\n",
    "longest_index = doc_df['text'].str.split().str.len().idxmax()\n",
    "\n",
    "print(doc_df.loc[longest_index, 'text'])\n",
    "longest_df = doc_df.loc[longest_index,:]"
   ]
  },
  {
   "cell_type": "markdown",
   "id": "53f7b647-256d-4f18-80dd-0ee9065506c1",
   "metadata": {},
   "source": [
    "### Vectorizing again"
   ]
  },
  {
   "cell_type": "markdown",
   "id": "cd66a141-d2b1-462e-bbb8-1f006f838ee0",
   "metadata": {},
   "source": [
    "#### 🚧 TODO: See how many features we get if we don't restrict them\n",
    "\n",
    "* Use again the `CountVectorizer` to vectorize the stackoverflow corpus\n",
    "\n",
    "  * But use the whole vocabulary of the documents this time (**without** `vocabulary=words`)\n",
    "\n",
    "  * Tell how many features are obtained\n",
    "\n",
    "* Then limit the vocabulary to the 5000 most frequent words\n",
    "\n",
    "* Apply and plot dimensionality reduction to 2 dimensions as prevously"
   ]
  },
  {
   "cell_type": "markdown",
   "id": "ecc2cdfc",
   "metadata": {},
   "source": [
    "We want something like this:\n",
    "\n",
    "```python\n",
    "xs ~ doc_df.text\n",
    "ys ~ doc_df.cat_id\n",
    "```"
   ]
  },
  {
   "cell_type": "code",
   "execution_count": 25,
   "id": "babf7f41-e740-4742-8a41-c43be749a7e0",
   "metadata": {},
   "outputs": [],
   "source": [
    "ys = doc_df.cat_id.values"
   ]
  },
  {
   "cell_type": "code",
   "execution_count": 26,
   "id": "12e09960-c1da-4013-8761-362cd126d2dc",
   "metadata": {},
   "outputs": [
    {
     "name": "stdout",
     "output_type": "stream",
     "text": [
      "Number of features obtained without restriction: 153122\n"
     ]
    }
   ],
   "source": [
    "unconstrained_cv = CountVectorizer()\n",
    "unconstrained_vectors = unconstrained_cv.fit_transform(doc_df['text'])\n",
    "print(\"Number of features obtained without restriction:\", len(unconstrained_cv.get_feature_names_out()))"
   ]
  },
  {
   "cell_type": "code",
   "execution_count": 27,
   "id": "5511fd39-8fb5-4d2a-9c7a-90f0130c7ea3",
   "metadata": {},
   "outputs": [
    {
     "data": {
      "image/png": "[encoded data removed]",
      "text/plain": [
       "<Figure size 640x480 with 1 Axes>"
      ]
     },
     "metadata": {
      "image/png": {
       "height": 416,
       "width": 563
      }
     },
     "output_type": "display_data"
    }
   ],
   "source": [
    "cv = CountVectorizer(max_features=5000)\n",
    "vectors = cv.fit_transform(doc_df['text'])\n",
    "\n",
    "pca = decomposition.PCA(n_components=2)\n",
    "vectors_reduced = pca.fit_transform(vectors.toarray())\n",
    "\n",
    "plt.scatter(vectors_reduced[:, 0], vectors_reduced[:, 1], c=ys)\n",
    "plt.show()"
   ]
  },
  {
   "cell_type": "markdown",
   "id": "cfe27d80-6708-4944-9823-c13090f29e0a",
   "metadata": {},
   "source": [
    "#### 🚧 TODO: Outsider: find that guy!\n",
    "\n",
    "* Use pandas to find the document corresponding to the outlier\n",
    "\n",
    "* Print the correspoding text\n",
    "  \n",
    "* Tell what it contains (if you could figure it out)\n",
    "\n",
    "* Remove the corresping raw from the dataframe and redo the dimensional reduction (and plot)"
   ]
  },
  {
   "cell_type": "code",
   "execution_count": 28,
   "id": "702e8444",
   "metadata": {
    "scrolled": false
   },
   "outputs": [
    {
     "name": "stdout",
     "output_type": "stream",
     "text": [
      "Q:\n",
      "\n",
      "Is Kline right that Cauchy believed that continuous functions must be differentiable?\n",
      "\n",
      "Morris Kline, in Mathematical Thought from Ancient to Modern Time, writes in chapter 40 (The Installation of Rigor in Analysis), \"Though Bolzano and Cauchy had rigorized (somewhat) the notions of continuity and the derivative, Cauchy and nearly all mathematicians of his era believed and many texts \"proved\" for the next fifty years that a continuous function must be differentiable.\"\n",
      "Is it true that Cauchy believed that a continuous function must be differentiable as Kline claims?\n",
      "Note 1.  As user Renfro correctly pointed out here the mathematician who attempted to \"prove\" that continuity implies differentiability was Ampere (rather than Cauchy).  The first one to confuse the two names seems to have been Boyer. I can't vouch for Kline's philosophy but at any rate his history can only be as good as the historians he relies upon, and in this case he seems to have copied the claim about Cauchy from Boyer's confused passage.\n",
      "Note 2. Cauchy in his 1823 book mentions the example of the function $y=x^{\\frac{1}{3}}$ and points out that the derivative is infinite at the origin.\n",
      "\n",
      "A:\n",
      "\n",
      "I do not believe Cauchy wrote anything explicit concerning the extent to which we can deduce differentiability from continuity. However, in many places it seems that Cauchy assumes continuity and then introduces derivatives. From what I can determine, this has led historians to \"read Cauchy\" in different ways according to the embedded contextual world-view the historian felt was appropriate. In what follows I have assembled a number of relevant publications and excerpts that give a sense of what people have written about this and related issues for the period of time between Ampère (1806) and Weierstrass (1872).\n",
      "[1] Umberto Bottazzini, The Higher Calculus: A History of Real and Complex Analysis from Euler to Weierstrass, translated by Warren Van Egmond, Springer-Verlag, 1986, vi + 332 pages.\n",
      "Section 3.6. Cauchy's Definitions of Derivative and Differential (pp. 117-122) contains a discussion of the issue at hand.\n",
      "\n",
      "(from pp. 118-119) In the same volume of the Journal de l'Ecole polytechnique that contained Lagrange's supplement, A. M. Ampere (1775-1836) published a long note whose object was \"a new demonstration of the Taylor series.\" In criticizing Lagrange's assumption, Ampère sought to demonstrate that it is possible for every function $f(x)$ to be expanded in a series of increasing powers$.^{23}$ [Bottazzini cites Grabiner's 1978 paper and 1981 book.] He began from a definition of the derivative that was based on a property of derived functions found by Lagrange. This property was stated by Ampère as, [begin indented text] Let $A$ and $K$ be the values of $f(x)$ corresponding to $x=a$ and $x=k.$ One can always suppose that $a$ and $k$ are chosen in such a way that $f(x)$ never becomes infinite in the interval and that neither $A=k$ nor $a=k,$ so that $\\frac{K-A}{k-a}$ is neither zero nor infinite, and that one can take this quantity for that above or below which one can always take $[f(x+i)-f(x)]/i,$ giving to $i$ a value as small as necessary (1806a, p. 151). [end indented text] From this property Ampère drew the definition of derivative that to him \"seemed the most general and the most rigorous possible\" (ibid., p. 156). \"The derived function of $f(x)$ is a function of $x$ such that $[f(x+i)-f(x)]/i$ is always included between two of the values that this derived function takes between $x$ and $x+i,$ whatever $x$ and $i$ may be (ibid.). Ampère's work and his lectures at the École Polytechnique did not go without influence on Cauchy, who cites Ampère among those to whom he is indebted in both the Cours d'analyse and in the Résumé. But Cauchy's approach reverses the terms of the problem: by defining the derivative of a function (if it exists) as a suitable limit, what Ampère had given as a definition became a property of the derivative, expressible as a theorem.\n",
      "\n",
      "[2] Carl Benjamin Boyer, The Concepts of the Calculus. A Critical and Historical Discussion of the Derivative and the Integral, Columbia University Press, 1939, vii + 346 pages. [Reprinted by Dover Publications in 1959, with the title changed to The History of the Calculus and Its Conceptual Development.]\n",
      "\n",
      "(from middle of p. 282) The geometrical intuitions which intruded themselves into Cauchy's view of irrational number likewise led him erroneously to believe that the continuity of a function was sufficient for its geometrical representation and for the existence of a derivative$.^{45}$ [Jourdain's 1905 paper is cited.] A. M. Ampère also had been led by geometric preconceptions similar to those of Cauchy to try to demonstrate the false proposition that every continuous function has a derivative, except for certain isolated values in the interval$.^{46}$ [Pringsheim/Molk is cited.]\n",
      "\n",
      "[3] Louis Philippe Gilbert, Mémoire sur l'existence de la dérivée dans les fonctions continues [Memoir on the existence of the derivative in continuous functions], Mémoires Couronnés et Autres Mémoires, publiés par l'Académie Royale des Sciences, des Lettres et des Beaux-Arts de Belgique 23 #3 (1873), vi + 31 pages.\n",
      "See also Eugène Charles Catalan's 1872 advance report on Gilbert's memoir (9 pages, in French) and Gilbert's 1872 Sur une objection proposée par M. Catalan [On an objection proposed by Mr. Catalan] (5 pages, with a 1-paragraph response by Catalan on p. 502) and Gilbert's 1872 Rectification au sujet d'un mémoire précédent [Correction to the subject of the preceding memoir] (9 pages).\n",
      "Note: Gilbert originally argued (in his earlier written memoir, which has the \"official publication\" year of 1873) that there were errors in Hankel's 1870 work and that Hankel did not actually show there exist continuous functions that are non-differentiable on dense sets (or \"everywhere\" non-differentiable; I am not sure to what extent Gilbert originally made a distinction between non-differentiable on every interval and being non-differentiable at every point). Gilbert's approach was based on Lamarle's methods and was intended to conclusively prove that a continuous function is differentiable except for an isolated set of points (see Gilbert's final theorem at the bottom of p. 31). However, after Gilbert learned of the results in Hermann Amandus Schwarz's 1873 paper Neues beispiel einer stetigen nicht differentiirbaren function [New example of a continuous non-differentiable function] French version, which gives a particularly simple example of a strictly increasing continuous function that is not differentiable at each nonzero dyadic rational number (in fact, at each such number the right derivative is $+\\infty$ and the left derivative is positive and finite), Gilbert came to realize that Hankel's examples were possible. (Schwarz presented his example on 19 August 1873, but since Gilbert's Rectification was presented in a session dated 7 June 1873, Gilbert obviously knew about it before Schwarz's presentation. Incidentally, although Weierstrass' presentation of an everywhere non-differentiable continuous function was on 18 July 1872, I can find no mention of Weierstrass in Gilbert's Rectification.) In fact, some of Hankel's reasoning was not correct. However, I do not know to what extent Gilbert's criticism of Hankel were based on actual errors that Hankel made and to what extent Gilbert's criticism of Hankel were a result of errors in Gilbert's own reasoning. I believe Gilbert, in his Rectification, still felt that it was not possible for a continuous function to be non-differentiable at each point. With this in mind, it is perhaps worth noting that Gilbert repented his early 1870s views by giving a lengthy survey of this topic -- beginning with Ampère and including a detailed discussion of Hankel's and Schwarz's examples, and even the Weierstrass nowhere differentiable continuous function -- in Note II (pp. 467-475) in the 1878 2nd edition of his textbook Cours d'Analyse Infinitésimale. Partie Élémentaire.\n",
      "[4] Judith Victor Grabiner, The origins of Cauchy's theory of the derivative, Historia Mathematica 5 #4 (November 1978), 379-409.\n",
      "\n",
      "(first full paragraph on p. 381) Cauchy first presented his definition of the derivative to the mathematical world in his Leçons sur le calcul infinitésimal of 1823. He defined the derivative $f'(x)$ of a continuous function $f(x)$ as the limit, when it exists, of the ratio $f(x+i)-f(x)/i$ as $i$ went to zero. But it is not the mere definition of the derivative as the limit of the quotient of differences which constitutes Cauchy's achievement. Newton, after all, had described some of his results in terms of limits [Newton 1934, Scholium to Lemma XI]. Jean-le-Rond D'Alembert, under Newton's influence, had explicitly defined the differential quotient as the limit of the quotient of differences [1789, article \"Différentiel.\" The definition used by D'Alembert was fairly common by the end of the eighteenth century. See Boyer 1949, Chapter VI.] The difference between Cauchy's work and that of men like D'Alembert lies in the understanding and the use of the definition. D'Alembert did not have what we now call a delta-epsilon translation of the limit-concept; as we shall see, Cauchy did. The only real use D'Alembert made of his definition was to illustrate the finding of a tangent to a parabola as the limit of secants [op. cit.]. In contrast, Cauchy's definition was the beginning of his task, not the end; his achievement was to produce an extended body of proved results about derivatives.\n",
      "(middle of p. 383) [This appears after a translated quote from pp. 22-23 of Cauchy's 1823 book] Cauchy's phrase \"this limit, when it exists\" exemplifies his attitude toward rigor. Perhaps his use of the phrase was motivated only by the behavior of known functions at isolated points, but the language was sufficiently general to open the whole question of the existence or non-existence of derivatives. And, though his definition of derivative, like that of limit, is verbal, we shall see immediately that he translated the definition into the algebra of inequalities for use in proofs.\n",
      "(from p. 396, lines 6-13) [Ampère's 1806 paper is discussed on pp. 395-400] Cauchy knew Ampère personally, and had once been his student. Cauchy said in the \"Introduction\" to his Cours d'analyse that he had \"profited several times from the observations of M. Ampère, as well as from the methods that he [= Ampère] has developed in his lectures on analysis\" [1821, vii-viii]. He more than once acknowledged Ampère's assistance in a general way [1821, vii; 1826, 10]. And Cauchy explicitly referred to Ampère's 1806 paper on the occasion of his own proof of (1) [1823, 44n; 1829, 268]. [Note: (1) is the statement $\\min \\{f'(x): \\; a \\leq x \\leq b \\} \\; \\leq \\; \\frac{f(b) - f(a)}{b - a} \\; \\leq \\; \\max \\{f'(x): \\; a \\leq x \\leq b \\}.$]\n",
      "(from lower middle of p. 396) Thus it is natural for us, in our search for Cauchy's sources, to examine Ampère's paper. The paper is, unfortunately, confusing to read and not very well organized. It has on occasion been misinterpreted as an attempt to prove that every continuous function is differentiable. The major source of this interpretation seems to be [Pringsheim 1909, 44]. [Note: I disagree. There are many references in the 19th century literature to Ampère's paper being an attempt to prove that continuous functions are differentiable, except at certain isolated points.] Ampère himself is partly responsible for this error; in his paper he used the term \"exist\" to describe a derivative when he meant that it was finite and non-zero [1806, 149]. Given the prevailing view on the part of many historians about the lack of rigor and sophistication in analysis before Cauchy, together with Ampère's unusual use of the term \"exist,\" the misinterpretation of Ampère's words is not surprising. Nevertheless, this error has led to an unfortunate neglect of Ampère's paper by historians of the calculus. Since Ampère's innovations helped Cauchy learn to prove theorems about derivatives, they deserve to be looked at again with care.\n",
      "\n",
      "Note: I believe I have encountered the use of \"number exists\" to mean \"not zero\" (and not negative) several times in very old papers and books (first half of 1800s), but I was not able to locate any specific such uses of \"exists\" at this time. My feeling is that the use of \"exists\" in this way is very similar to the use of \"exists\" for a set to mean that the set is not the empty set (this usage was very common from roughly the 1880s to the 1920s).\n",
      "[5] Ivor Grattan-Guinness, The emergence of mathematical analysis and its foundational progress, 1780-1880, pp. 94-148 in Ivor Grattan-Guinness (editor), From the Calculus to Set Theory, 1630--1910. An Introductory History, Gerald Duckworth and Company, 1980, vi + 306 pages. [Reprinted by Princeton University Press in 2000.]\n",
      "Some relevant comments about Cauchy and Ampère on the derivative appear on pp. 112-114, but everything of relevance to the issue at hand is contained in the excerpts I have given elsewhere. Nonetheless, the following comment may be of interest:\n",
      "\n",
      "(from bottom of p. 112) An immediate problem is the question of whether or not a continuous function is differentiable. To us the answer is undoubtedly in the negative, for a function with a corner is continuous but not differentiable there. But in the unrigorous systems of the 18th and early 19th centuries the properties of continuity and differentiability were not so clearly defined anyway, and infinitesimals might allow a corner to be interpreted as an infinitely tight (but differentiable) loop.\n",
      "\n",
      "[6] Ivor Grattan-Guinness, Convolutions in French Mathematics, 1800-1840, 3 volumes, Science Networks / Historical Studies #2, Birkhäuser Verlag, 1990, 1602 pages.\n",
      "\n",
      "(from Volume 2, p. 749, 2nd paragraph) Cauchy's treatment of the calculus began in lecture 3. [This pertains to Cauchy's 1823 book Résumé ...] The difference quotient of a continuous function $y = f(x),\\;$ (1152.1) $\\;\\Delta y / \\Delta x \\; = \\; (f(x + \\Delta x) - f(x))/\\Delta x,$ 'may converge towards another limit, either positive, or negative' when $\\Delta x \\rightarrow 0.$ [Note: Of course, Cauchy did not use the arrow notation for limits, since this only slowly came into use from about 1908 to the 1920s. Grattan-Guinness explicitly points out on p. 717 that although Cauchy did not use the arrow notation, Grattan-Guinness will use it in his discussion of Cauchy.] 'This limit, when it exists, has a determinate value' (including $0,$ surely) a 'new function' of $x.$ He used Lagrange's notation '$f'(x)$' and name 'derived function' for this new function, but of course it was essentially the derivative that we recognise, not Lagrange's coefficient (322.8) in the Taylor expansion. The phrase 'when it exists' shows that Cauchy was aware that a continuous function need not have a derivative, although the examples which he then gave were all differentiable $(\\sin x,\\;A^{x},$ and so on); he did not give examples with corners (such as Fourier had shown with his series in Figure 926.1) or define left- and right-hand derivatives.\n",
      "\n",
      "[7] Thomas William Hawkins, Lebesgue's Theory of Integration. Its Origins and Development, 2nd edition, Chelsea Publishing Company, 1975, xvi + 227 pages. [For the part I'm quoting, the 1970 1st edition, 1979 corrected 2nd edition, and the 2001 AMS reprint of the 1979 corrected 2nd edition are the same.]\n",
      "\n",
      "(from pp. 43-44) A. M. Ampère [1806] sought to establish this corollary independently of (4) [(4) is the statement that $f(x+i)=f(x)+pi+qi^2+\\cdots,$ where $p,$ $q,$ etc. are functions of $x$ only] and then use it to establish (4) without recourse to Lagrange's argument. It is his proof that became the paradigm for subsequent ones. What Ampère actually showed is that if $f'(x)$ exists for all $x$ $(f'(x)$ can be infinite for some values of $x)$ and if the difference quotient converges uniformly to $f'(x),$ then any interval $(a,k)$ must contain a point $x_0$ at which $f'(x_0)$ is finite and nonzero. This would imply that $f'(x)$ exists as a finite, nonzero quantity on a dense set. But Ampère interpreted his result to mean that $f'(x)$ is neither zero nor infinite except for \"certain particular and isolated values of $x$\" [1806: 149]. Between the appearance of Ampère's paper and 1870, the proposition that any (continuous) function is differentiable in general was stated and proved in most of the leading texts on the calculus$.^{11}$ [10 references are given, none are Cauchy] Frequently Ampère's original argument was simplified by making use of the \"intuitively evident\" fact that a function which varies continuously must be piecewise monotonic. Thus, differentiability and monotonicity were linked together, albeit tenuously. This is particularly interesting because Cauchy in his Leçons sur le calcul différentiel [1829] had considered the functions $f(x)=x^{3}\\sin(1/x)$ and $g(x)=x\\sin(1/x),$ both of which have removable discontinuities at $x=0$ and yet are not monotonic in any neighborhood of $0.$\n",
      "\n",
      "[8] Philip Edward Bertrand Jourdain, The theory of functions with Cauchy and Gauß, Bibliotheca Mathematica (3) 6 (1905), 190-207.\n",
      "I am including this because Boyer makes reference to Jourdain's discussion in Section 6 on p. 206. Jourdain's discussion mainly concerns the differentiability of functions of a complex variable. However, the nature of Jourdain's discussion, and especially the last sentence on p. 206 (which mentions the Weierstrass nowhere differentiable continuous function), suggests that Jourdain's discussion also concerns the differentiability of functions of a real variable.\n",
      "\n",
      "(from p. 206, lines 5-14) In the memoir of 1825, CAUCHY required only one-valuedness and continuity of $f(z);$ whether he regarded continuity as sufficient for the existence of a derivative cannot be told from his writings, for, as for [\"far\" intended?] as I am aware, he nowhere made a pronouncement on this point, -- perhaps he did not regard such a pronouncement as necessary. But it is difficult to doubt, from other indications in CAUCHY's works, that CAUCHY imagined that his conception of 'continuity' was in any case sufficient for the 'geometrical representability' of a function, and so for the existence of a derivate [= derivative; Dini derivates are not considered anywhere in Jourdain's paper]. In fact, CAUCHY's conceptions in analysis rested on geometrical grounds (except at isolated points).\n",
      "\n",
      "[9] Philip Edward Bertrand Jourdain, The origin of Cauchy's conceptions of a definite integral and of the continuity of a function, Isis 1 #4 (1913), 661-703.\n",
      "\n",
      "(from Section XVIII, on pp. 701-702) But on the other hand, LACROIX (5) gave a «proof» of the existence of differential quotients. [footnote (5) gives a citation to pp. 241-242 of Volume I, and to p. 712 of Volume III] The first attempt of this kind was due to AMPÈRE. AMPÈRE (1) began a memoir on TAYLOR'S series by a «proof» that the function of $x$ and $i$ [namely] $[f(x+i)-f(x)]/i$ can become, when we put $i=0,$ neither zero nor infinite for all values of $x.$ [footnote (1) gives a citation to Ampère's 1806 paper] [several sentences omitted] A point which seems to be of very great interest is the implied supposition that $f(x)$ is continuous. Many authors, like DINI (3), REIFF (4) and PRINGSHEIM (5) just say that this proof is to apply to «continuous» functions, and do not add that the word «continuous» had a different meaning in 1806, and was not used by AMPÈRE. [(3) is a citation to pp. 67-68 & 219 of Dini's 1878 book Fondamenti per la Teorica delle Funzioni di Variabili Reali, (4) is a citation to p. 156 of Reiff's 1889 book Geschichte der Unendlichen Reihen, (5) is p. 449 of Pringsheim's 1890 paper Zur Geschichte des Taylorschen Lehrsatzes] The «proof» of the existence of the limit of the ratio $\\; \\frac{f(x')-f(x)}{x'-x} \\;$ [typo corrected] given by LACROIX, was due to «M. BINET aîné, professeur de mathématiques transcendantes au Lycée de Rennes» (6). [footnote (6) extends to p. 703 and is the following: Presumably this would be the father of JACQUES PHILIPPE MARIE BINET who was born at Rennes in 1786 and died at Paris in 1856 (Poggendorff's biog.-lit. Handwörterbuch, vol. I, p. 194. For other early \"proofs,, of the existence of derivatives, see GALOIS' (1830-1831) Œuvres, Paris, 1897, p. 9; DE MORGAN, Calculus, p. 47-48.]\n",
      "\n",
      "Note: Augustus De Morgan's attempted proof that Jourdain mentions is not included among the 10 references given in a footnote on p. 44 of Hawkins' Lebesgue's Theory of Integration. Since De Morgan's book is fairly well known, I do not think Hawkins overlooked it. Instead, I think Hawkins did not include De Morgan's attempted proof because De Morgan expressed doubt about the proof in a paragraph (upper middle of p. 48) after his attempted proof.\n",
      "[10] Morris Kline, Mathematical Thought from Ancient to Modern Times, Oxford University Press, 1972, xvii + 1238 pages. [Reprinted as a 3-volume paperback edition in 1990.]\n",
      "Section 40.3. The Derivative (pp. 954-956 of the 1990 edition) includes the following.\n",
      "\n",
      "(top of p. 955) Though Bolzano and Cauchy had rigorized (somewhat) the notions of continuity and the derivative, Cauchy and nearly all mathematicians of his era believed and many texts \"proved\" for the next fifty years that a continuous function must be differentiable (except of course at isolated points such as $x=0$ for $y=1/x).$\n",
      "\n",
      "Note: This is perhaps not a very good example, since $y=1/x$ is not defined at $x=0.$ This manner of conflating (i.e. combining together) what we now consider to be two different ideas was common until the late 1800s. However, I do not know whether Kline is using this example to be in keeping with historical context or whether Kline simply overlooked the fact that his example could easily cause confusion with present-day readers.\n",
      "[11] Morris Kline, Mathematics. The Loss of Certainty, Oxford University Press, 1980, viii + 366 pages.\n",
      "\n",
      "(p. 176, lines 2-5) Like his contemporaries, he [= Cauchy] believed that continuity implied differentiability (Chapter VII) and so he stated many theorems in which the hypotheses called only for continuity, but where he used differentiability, and even after his attention was called to his mistake, he persisted.\n",
      "\n",
      "Note: I cannot find anything in Kline's book to support this claim about \"his attention was called to his mistake\". There are no footnotes at the back of Kline's book and the next few pages do not re-visit this claim about Cauchy.\n",
      "[12] Anatole Henri Ernest Lamarle, Étude approfondie sur les deux équations fondamentales Lim $\\frac{f(x+h) - f(x)}{h} = f'(x)$ et $dy = f'(x).\\;\\Delta x$ [Extensive study of the two fundamental equations Lim $\\frac{f(x+h) - f(x)}{h} = f'(x)$ and $dy = f'(x).\\;\\Delta x$], Mémoires de l'Académie Royale des Sciences, des Lettres et des Beaux-Arts de Belgique 29 (1855), 118 pages.\n",
      "See also Lamarle's 1854 summary Note sur les deux équations fondamentales lim. $\\frac{f(x+h) - f(x)}{h} = f'(x)$ et $dy = f'(x).\\;\\Delta x$ [Note on the two fundamental equations lim. $\\frac{f(x+h) - f(x)}{h} = f'(x)$ and $dy = f'(x).\\;\\Delta x$] (22 pages) and Mathieu Schaar's 1854 6 page summary. For a 51 page biography of Lamarle (in French), with a bibliography of 40 items published by Lamarle, see Notice sur la vie et les travaux de A.-H.-E. Lamarle [Notice on the life and works of A.-H.-E. Lamarle].\n",
      "[13] Jesper Lützen, The foundation of analysis in the 19th century, pp. 155-195 in Hans Niels Jahnke (editor), A History of Analysis, History of Mathematics #24, American Mathematical Society, 2003, x + 422 pages.\n",
      "\n",
      "(from bottom of p. 169) In the definition of the derivative Cauchy [in his 1823 book] started out by assuming that $f$ is continuous, but having formed the difference quotient and its limit, he was cautious to state \"if it exists\". This seems to set the stage for the introduction of the concept of differentiability. However, Cauchy did not introduce this concept and in the subsequent chapters of his book he simply assumed that $f$ was continuous (or he assumed nothing), even though he differentiated it any number of times. It is as though Cauchy still clung to the 18th-century idea of a \"safe domain\" in which analysis was more or less universally valid. With Euler and d'Alembert this domain consisted of all functions; with Cauchy it consisted of the continuous functions.\n",
      "(from p. 176, lines 17-19) Though Cauchy did not try to prove the erroneous theorem that any continuous function could be differentiated, he gave, as we have seen above, his readers the impression that it was true.\n",
      "\n",
      "[14] Fyodor Andreyevich Medvedev, Scenes from the History of Real Functions, translation by Roger Lee Cooke of the 1975 Russian edition, Science Networks / Historical Studies #7, Birkhäuser Verlag, 1991, 265 pages.\n",
      "Section 5.2 (Ampère's theorem, pp. 214-219) presents the viewpoint, which I agree with, that it is ahistorical (Medvedev, at least in translation, calls this \"modernization\") to interpret Ampère's paper as an attempt to prove that continuous functions are differentiable (except perhaps at certain isolated points).\n",
      "\n",
      "(from middle of p. 216) It is difficult for the modern reader to judge the content of Ampère's main proposition and the methods of reasoning he used to prove it. The majority of authors who have written about this are for some reason inclined to believe that in this paper he was attempting to prove that a derivative exists everywhere [in a bounded interval] except at a finite number of points for any continuous function or at least for every continuous function satisfying certain supplementary restrictions$.^4$ [The footnote mentions F. Riesz writing in 1932 that Ampère may have had in mind piece-wise monotone functions.] This opinion can hardly be considered correct. After all, the concept of a continuous function as it is known today, cannot be dated earlier than Lobachevskii and Dirichlet (cf. Sec. 8 of Essay II), or at most to Bolzano (1817) and Cauchy (1821). Thus it is clear a priori that Ampère could not have stated any such general considerations about such functions in 1806, and in fact he makes no such statements. He himself nowhere says explicitly that the functions he is considering belong to any general class of functions, and any judgment as to what he had in mind must be based on indirect reasoning.\n",
      "\n",
      "[15] Zbigniew Piotrowski, The genesis of separate versus joint continuity, Tatra Mountains Mathematical Publications 8 (1996), 113-126.\n",
      "\n",
      "(from middle of p. 115) Like his contemporaries, he [= Cauchy] also believed that continuity implied differentiability (?!) (see Chapter VII of [Ca]), and even after his attention was called to his mistake, he ... persisted (compare [K2] p. 176).\n",
      "\n",
      "Note: [Ca] is Cauchy's 1821 Cours d'Analyse and [K2] is Kline's book Mathematics. The Loss of Certainty. The ellipsis \"...\" is in the original and it does not indicate that I have omitted something while quoting from Piotrowski's paper.\n",
      "[16] Avadhesh [Avaresh] Narayan Singh, The Theory and Construction of Non-Differentiable Functions, Lucknow University Studies #1, Newul Kishore Press [Lucknow University Press], 1935, vii + 110 pages. [Reprinted in Squaring the Circle and Other Monographs, Chelsea Publishing Company, 1953.]\n",
      "\n",
      "(from First Lecture, Article 4: 2nd paragraph on pp. 4-5) [(1) and (30) are bibliographic citations in Singh's 104 item bibliography, and they refer to Ampère's 1806 paper and Gilbert's 1873 paper.] An attempt to prove that continuity was a sufficient condition for differentiability was made by Ampère (1) in 1806. Although Ampère's proof was defective yet his result was believed in by most mathematicians for a long time. Mention may be made of Duhamel, Bertrand and Gilbert (30) among those who definitely expressed their belief in Ampère's result. Even in the writings of such eminent mathematicians as Gauss, Cauchy, and Dirichlet there is nothing to show that they held a different opinion. Although they did not endorse Ampère's statement none of them seems to have had the conviction that a function which was everywhere continuous but nowhere differentiable could exist. Darboux in his memoir on \"Discontinuous functions,\" published in 1875, mentions only one auditor, M. Bienaimé, who said that he was unconvinced by Ampére's proof.\n",
      "\n",
      "[17] Klaus Thomas Volkert, Zur differenzierbarkeit stetiger funktionen -- Ampère's beweis und seine folgen [On differentiability of continuous functions -- Ampère's proof and its consequences], Archive for History of Exact Sciences 40 #1 (March 1989), 37-112.\n",
      "This appears to be a very complete study of Ampère's 1806 paper and its influence on later efforts by Lamarle, Hankel, Gilbert, du Bois-Reymond, Dini, and others. Unfortunately, the paper is in German and I cannot read German, and there seems to be nothing on the internet (at least, nothing freely available) that discusses (in English) Volkert's paper.\n",
      "\n",
      "A:\n",
      "\n",
      "Many mathematicians did believe that continuous functions are mostly differentiable (except for some isolated points perhaps) until Weierstrass made a splash by publishing an example of a nowhere differentiable continuous function in 1875. But it was not so much for the rigor reason implied by Kline, and repeated in older history books, as for the difference in the understanding of what a function is. Kline's phrasing is very misleading because \"Cauchy and nearly all mathematicians\" meant the concept differently, and for their version the issue was of little importance, see Medvedev's Scenes from the History of Real Functions (Ch. 5). \n",
      "The 18-th century function concept was more or less of an analytic expression in closed form, and those of course were both continuous and differentiable (except for isolated points) in the modern sense, see Was 18th century algebra more symbolic/formal than the modern conception? So for the good part of 19-th century those were still the functions that most mathematicians had in mind. Obvious counterexamples certainly known to Cauchy and others, like the square root function at $0$, showed that continuity did not imply differentiability at some points, but all that coming apart of functions, continuous functions, and differentiable functions was taking place at few isolated points only. And since it was accepted that functions may become \"infinite\" at isolated points the supposed \"belief\" was correct (even for our analytic functions), although that would be an odd way to put it, and it is more appropriate to say that the question was moot. \n",
      "The view of functions started to change after Gauss's work on hypergeometric functions, and especially after Fourier's work on trigonometric series. Only in 1822 in Théorie Analytique de la Chaleur (Analytic Theory of Heat) Fourier for the first time gave something close to the modern definition:\"In general, the function $f(x)$ represents a succession of values or ordinates each of which is arbitrary... We do not suppose these ordinates to be subject to a common law; they succeed each other in any manner whatever, and each of them is given as it were a single quantity\". But as MacTutor's function concept history article points out \"when he begins to prove theorems about expressing an arbitrary function as a Fourier series, he uses the fact that his arbitrary function is continuous in the modern sense!\" It is Dirichlet who started using Fourier's definition in a consistent manner, and popularized it. But even after the new function concept took hold, and Weierstrass's and other pathological counterexamples were accepted, Poincare was not happy about it as late as 1899:\"For half a century we have seen a mass of bizarre functions which appear to be forced to resemble as little as possible honest functions which serve some purpose... Formerly, when a new function was invented, it was in view of some practical end. Today they are invented on purpose to show that our ancestor's reasoning was at fault, and we shall never get anything more than that out of them\".\n",
      "\n",
      "A:\n",
      "\n",
      "New edition\n",
      "See:\n",
      "\n",
      "Frank Smithies, Cauchy and the creation of complex function theory (1997), page 188:\n",
      "\n",
      "[Cauchy] first contemplates the possibility that a continous function may fail to have a continuous derivative in [1839], remarking that one cannot be \n",
      "  certain that a function and its derivative necessarily have discontinuities or \n",
      "  infinities for the same values of the independent variable. Here he may perhaps have been influenced by some comments made by Frisiani and Piola in the appendix to their Italian translation (1834) of the first Turin memoir [Extrait du memoirepresente a l'Academie de Turin, le 11 octobre 1831]. It is clear that he was concerned only by the possibility that the derivative might have discontinuities at isolated points. In any case, he did insert the additional hypothesis that the derivative should be continuous when [the memori] was republished in his Exercices d'analyse in 1841, although it appears that he did not do so consistently in later publications. \n",
      "\n",
      "See: A.L.Cauchy, Note sur l'integration des equations differentielles des mouvements planetaires (1839), Exercices d'analyse et de physique mathématique, Vol.I, page 27-32.\n",
      "\n",
      "For subsequent developments, see: \n",
      "\n",
      "Ivor Grattan-Guinness (editor), From the Calculus to Set Theory: 1630-1910 (1980), Ch.3 The emergence of mathematical analysis and its foundational \n",
      "progress, 1780-1880, page 94-on:\n",
      "\n",
      "[page 138] The Weierstrassians took up the construction of analytic expressions \n",
      "  which defined functions with infinities of oscillations and discontinuous within a finite interval, and they examined the consequences for mathematical analysis. [...] Further such examples were studied in a long paper [of] 1875 ['Sur les fonctions discontinues', Ann.sci.Ecole Norm.Sup., (2)4(1875)] on various aspects of Weierstrassian analysis and Riemannian problems by Gaston Darboux. \n",
      "\"We thus obtain a continuous function of which the derivative is discontinuous for all commensurable [rational] values of $x$, but exists for all values of $x$\" he concluded (p. 109). After considering this and other examples of functions constructed in his paper, he remarked understandably that \"it seems difficult to indicate a general character which allows the recognition of whether a function $f(x)$ has a primitive function, that is to say, if it is the derived [function] of another function' (p. 111). [...] With functions such as these we see the question of continuity vis-a-vis differentiability arise in a stark form. Could there be a continuous function which is differentiable nowhere ? \n",
      "Weierstrass answered this question in the affirmative in a manuscript [of] 1872, with the example [...]. He published it in his 1880 ['Zur Functionenlehre', Monatsb.Preuss.Akad.Jifliss. Berlin, (1880)], art. 6, but it appeared first in  du Bois Reymond 1875 ['Versuch einer Classification der willktirlichen Functionen...\" J.rei.ang.Math., 79(1875), 21-37]. An extensive discussion of such functions was carried on in print as well as in correspondence, and a large number of continuous non-differentiable functions were invented over the following decades. [See Thomas Hawkins, Lebesgue's Theory of Integration: Its Origins and Development, (1970), page 44-50].\n",
      "\n",
      "And see Johan Thim's theses: Continuous Nowhere Differentiable Functions, page 6, for a useful list and an abstract in fr.wiki.\n",
      "\n",
      "For some recent sources, see:\n",
      "\n",
      "Umberto Bottazzini & Jeremy Gray, Hidden Harmonies: The Rise of Complex Function Theory (2013)\n",
      "Jeremy Gray, The Real and the Complex: A History of Analysis in the 19th Century (2015)\n",
      "\n",
      "\n"
     ]
    }
   ],
   "source": [
    "outlier_index = np.argmax(doc_df['tokens_n'])\n",
    "print(doc_df['text'][outlier_index])"
   ]
  },
  {
   "cell_type": "code",
   "execution_count": 29,
   "id": "c037be5b",
   "metadata": {},
   "outputs": [
    {
     "data": {
      "text/plain": [
       "'hsm.stackexchange_0000003480'"
      ]
     },
     "execution_count": 29,
     "metadata": {},
     "output_type": "execute_result"
    }
   ],
   "source": [
    "doc_df.index[outlier_index]"
   ]
  },
  {
   "cell_type": "code",
   "execution_count": 30,
   "id": "e6cdab87",
   "metadata": {},
   "outputs": [
    {
     "data": {
      "image/png": "[encoded data removed]",
      "text/plain": [
       "<Figure size 640x480 with 1 Axes>"
      ]
     },
     "metadata": {
      "image/png": {
       "height": 416,
       "width": 563
      }
     },
     "output_type": "display_data"
    }
   ],
   "source": [
    "doc_df2 = doc_df.drop(doc_df.index[outlier_index])\n",
    "ys2 = np.delete(ys, [outlier_index])\n",
    "\n",
    "cv = CountVectorizer(max_features=5000)\n",
    "vectors2 = cv.fit_transform(doc_df2['text'])\n",
    "\n",
    "pca = decomposition.PCA(n_components=2)\n",
    "vectors_reduced = pca.fit_transform(vectors2.toarray())\n",
    "\n",
    "plt.scatter(vectors_reduced[:, 0], vectors_reduced[:, 1], c=ys2)\n",
    "plt.show()"
   ]
  },
  {
   "cell_type": "markdown",
   "id": "608d7cb9-5452-4c1a-9220-0a5dc9ae10af",
   "metadata": {},
   "source": [
    "## Learning to distinguish text subjects"
   ]
  },
  {
   "cell_type": "markdown",
   "id": "caa14610-49bd-427b-81de-24a5345dbc63",
   "metadata": {},
   "source": [
    "### Train and test sets"
   ]
  },
  {
   "cell_type": "code",
   "execution_count": 31,
   "id": "9ce0e130",
   "metadata": {},
   "outputs": [],
   "source": [
    "xs = vectors"
   ]
  },
  {
   "cell_type": "code",
   "execution_count": 32,
   "id": "3158efc1-6a3f-4364-b82d-5fe6f1da8160",
   "metadata": {},
   "outputs": [
    {
     "name": "stdout",
     "output_type": "stream",
     "text": [
      "(10115, 5000)\n",
      "(4336, 5000)\n"
     ]
    }
   ],
   "source": [
    "train_xs, test_xs, train_ys, test_ys = train_test_split(\n",
    "    xs, ys, test_size=0.3, random_state=0, shuffle=True\n",
    ")\n",
    "print(train_xs.shape)\n",
    "print(test_xs.shape)"
   ]
  },
  {
   "cell_type": "markdown",
   "id": "5496e994",
   "metadata": {},
   "source": [
    "#### 🚧 TODO: Apply different algorithms to try predicting the category\n",
    "\n",
    "* E.g., Logistic Regression, Multinomial Naive Bayes, Decision Tree Classifier, Random Forest, Support Vector Classifer.\n",
    "\n",
    "* You could investigate [`SGDClassifier`](https://scikit-learn.org/stable/modules/generated/sklearn.linear_model.SGDClassifier.html), which implements linear classifiers (e.g, SVM, logistic regression) with SGD training.\n",
    "\n",
    "* Present a table with the results of the different algorithms (e.g., accuracy, precision, recall, f1-score) and their execution time (using, e.g., the magical command `%%timeit -n 1 -r 1`)\n",
    "\n",
    "* Analyse 1 algorythm in detail (e.g., Logistic Regression)\n",
    "\n",
    "  *   Try different parameters (possibly with a grid search)\n",
    "\n",
    "  *   Present the [classification_report](https://scikit-learn.org/stable/modules/generated/sklearn.metrics.classification_report.html)\n",
    "\n",
    "  *   Present the confusion matrix of the best model"
   ]
  },
  {
   "cell_type": "code",
   "execution_count": 33,
   "id": "441b5149",
   "metadata": {},
   "outputs": [
    {
     "name": "stderr",
     "output_type": "stream",
     "text": [
      "/Users/benkabongo25/opt/anaconda3/lib/python3.9/site-packages/sklearn/linear_model/_logistic.py:444: ConvergenceWarning: lbfgs failed to converge (status=1):\n",
      "STOP: TOTAL NO. of ITERATIONS REACHED LIMIT.\n",
      "\n",
      "Increase the number of iterations (max_iter) or scale the data as shown in:\n",
      "    https://scikit-learn.org/stable/modules/preprocessing.html\n",
      "Please also refer to the documentation for alternative solver options:\n",
      "    https://scikit-learn.org/stable/modules/linear_model.html#logistic-regression\n",
      "  n_iter_i = _check_optimize_result(\n"
     ]
    },
    {
     "name": "stdout",
     "output_type": "stream",
     "text": [
      "LogisticRegression accuracy: 0.981\n",
      "MultinomialNB accuracy: 0.972\n",
      "DecisionTreeClassifier accuracy: 0.881\n",
      "RandomForestClassifier accuracy: 0.967\n",
      "SVC accuracy: 0.946\n"
     ]
    }
   ],
   "source": [
    "models = [\n",
    "    LogisticRegression(),\n",
    "    MultinomialNB(),\n",
    "    DecisionTreeClassifier(),\n",
    "    RandomForestClassifier(),\n",
    "    SVC()\n",
    "]\n",
    "\n",
    "for model in models:\n",
    "    model.fit(train_xs, train_ys)\n",
    "    y_pred = model.predict(test_xs)\n",
    "    accuracy = accuracy_score(y_pred, test_ys)\n",
    "    print(f\"{model.__class__.__name__} accuracy: {accuracy:.3f}\")\n"
   ]
  },
  {
   "cell_type": "code",
   "execution_count": 34,
   "id": "4f32a839",
   "metadata": {
    "scrolled": false
   },
   "outputs": [
    {
     "name": "stderr",
     "output_type": "stream",
     "text": [
      "/Users/benkabongo25/opt/anaconda3/lib/python3.9/site-packages/sklearn/linear_model/_logistic.py:444: ConvergenceWarning: lbfgs failed to converge (status=1):\n",
      "STOP: TOTAL NO. of ITERATIONS REACHED LIMIT.\n",
      "\n",
      "Increase the number of iterations (max_iter) or scale the data as shown in:\n",
      "    https://scikit-learn.org/stable/modules/preprocessing.html\n",
      "Please also refer to the documentation for alternative solver options:\n",
      "    https://scikit-learn.org/stable/modules/linear_model.html#logistic-regression\n",
      "  n_iter_i = _check_optimize_result(\n",
      "/Users/benkabongo25/opt/anaconda3/lib/python3.9/site-packages/sklearn/linear_model/_logistic.py:444: ConvergenceWarning: lbfgs failed to converge (status=1):\n",
      "STOP: TOTAL NO. of ITERATIONS REACHED LIMIT.\n",
      "\n",
      "Increase the number of iterations (max_iter) or scale the data as shown in:\n",
      "    https://scikit-learn.org/stable/modules/preprocessing.html\n",
      "Please also refer to the documentation for alternative solver options:\n",
      "    https://scikit-learn.org/stable/modules/linear_model.html#logistic-regression\n",
      "  n_iter_i = _check_optimize_result(\n",
      "/Users/benkabongo25/opt/anaconda3/lib/python3.9/site-packages/sklearn/linear_model/_logistic.py:444: ConvergenceWarning: lbfgs failed to converge (status=1):\n",
      "STOP: TOTAL NO. of ITERATIONS REACHED LIMIT.\n",
      "\n",
      "Increase the number of iterations (max_iter) or scale the data as shown in:\n",
      "    https://scikit-learn.org/stable/modules/preprocessing.html\n",
      "Please also refer to the documentation for alternative solver options:\n",
      "    https://scikit-learn.org/stable/modules/linear_model.html#logistic-regression\n",
      "  n_iter_i = _check_optimize_result(\n",
      "/Users/benkabongo25/opt/anaconda3/lib/python3.9/site-packages/sklearn/linear_model/_logistic.py:444: ConvergenceWarning: lbfgs failed to converge (status=1):\n",
      "STOP: TOTAL NO. of ITERATIONS REACHED LIMIT.\n",
      "\n",
      "Increase the number of iterations (max_iter) or scale the data as shown in:\n",
      "    https://scikit-learn.org/stable/modules/preprocessing.html\n",
      "Please also refer to the documentation for alternative solver options:\n",
      "    https://scikit-learn.org/stable/modules/linear_model.html#logistic-regression\n",
      "  n_iter_i = _check_optimize_result(\n",
      "/Users/benkabongo25/opt/anaconda3/lib/python3.9/site-packages/sklearn/linear_model/_logistic.py:444: ConvergenceWarning: lbfgs failed to converge (status=1):\n",
      "STOP: TOTAL NO. of ITERATIONS REACHED LIMIT.\n",
      "\n",
      "Increase the number of iterations (max_iter) or scale the data as shown in:\n",
      "    https://scikit-learn.org/stable/modules/preprocessing.html\n",
      "Please also refer to the documentation for alternative solver options:\n",
      "    https://scikit-learn.org/stable/modules/linear_model.html#logistic-regression\n",
      "  n_iter_i = _check_optimize_result(\n",
      "/Users/benkabongo25/opt/anaconda3/lib/python3.9/site-packages/sklearn/linear_model/_logistic.py:444: ConvergenceWarning: lbfgs failed to converge (status=1):\n",
      "STOP: TOTAL NO. of ITERATIONS REACHED LIMIT.\n",
      "\n",
      "Increase the number of iterations (max_iter) or scale the data as shown in:\n",
      "    https://scikit-learn.org/stable/modules/preprocessing.html\n",
      "Please also refer to the documentation for alternative solver options:\n",
      "    https://scikit-learn.org/stable/modules/linear_model.html#logistic-regression\n",
      "  n_iter_i = _check_optimize_result(\n",
      "/Users/benkabongo25/opt/anaconda3/lib/python3.9/site-packages/sklearn/linear_model/_logistic.py:444: ConvergenceWarning: lbfgs failed to converge (status=1):\n",
      "STOP: TOTAL NO. of ITERATIONS REACHED LIMIT.\n",
      "\n",
      "Increase the number of iterations (max_iter) or scale the data as shown in:\n",
      "    https://scikit-learn.org/stable/modules/preprocessing.html\n",
      "Please also refer to the documentation for alternative solver options:\n",
      "    https://scikit-learn.org/stable/modules/linear_model.html#logistic-regression\n",
      "  n_iter_i = _check_optimize_result(\n",
      "/Users/benkabongo25/opt/anaconda3/lib/python3.9/site-packages/sklearn/linear_model/_logistic.py:444: ConvergenceWarning: lbfgs failed to converge (status=1):\n",
      "STOP: TOTAL NO. of ITERATIONS REACHED LIMIT.\n",
      "\n",
      "Increase the number of iterations (max_iter) or scale the data as shown in:\n",
      "    https://scikit-learn.org/stable/modules/preprocessing.html\n",
      "Please also refer to the documentation for alternative solver options:\n",
      "    https://scikit-learn.org/stable/modules/linear_model.html#logistic-regression\n",
      "  n_iter_i = _check_optimize_result(\n",
      "/Users/benkabongo25/opt/anaconda3/lib/python3.9/site-packages/sklearn/linear_model/_logistic.py:444: ConvergenceWarning: lbfgs failed to converge (status=1):\n",
      "STOP: TOTAL NO. of ITERATIONS REACHED LIMIT.\n",
      "\n",
      "Increase the number of iterations (max_iter) or scale the data as shown in:\n",
      "    https://scikit-learn.org/stable/modules/preprocessing.html\n",
      "Please also refer to the documentation for alternative solver options:\n",
      "    https://scikit-learn.org/stable/modules/linear_model.html#logistic-regression\n",
      "  n_iter_i = _check_optimize_result(\n",
      "/Users/benkabongo25/opt/anaconda3/lib/python3.9/site-packages/sklearn/linear_model/_logistic.py:444: ConvergenceWarning: lbfgs failed to converge (status=1):\n",
      "STOP: TOTAL NO. of ITERATIONS REACHED LIMIT.\n",
      "\n",
      "Increase the number of iterations (max_iter) or scale the data as shown in:\n",
      "    https://scikit-learn.org/stable/modules/preprocessing.html\n",
      "Please also refer to the documentation for alternative solver options:\n",
      "    https://scikit-learn.org/stable/modules/linear_model.html#logistic-regression\n",
      "  n_iter_i = _check_optimize_result(\n",
      "/Users/benkabongo25/opt/anaconda3/lib/python3.9/site-packages/sklearn/linear_model/_logistic.py:444: ConvergenceWarning: lbfgs failed to converge (status=1):\n",
      "STOP: TOTAL NO. of ITERATIONS REACHED LIMIT.\n",
      "\n",
      "Increase the number of iterations (max_iter) or scale the data as shown in:\n",
      "    https://scikit-learn.org/stable/modules/preprocessing.html\n",
      "Please also refer to the documentation for alternative solver options:\n",
      "    https://scikit-learn.org/stable/modules/linear_model.html#logistic-regression\n",
      "  n_iter_i = _check_optimize_result(\n",
      "/Users/benkabongo25/opt/anaconda3/lib/python3.9/site-packages/sklearn/linear_model/_logistic.py:444: ConvergenceWarning: lbfgs failed to converge (status=1):\n",
      "STOP: TOTAL NO. of ITERATIONS REACHED LIMIT.\n",
      "\n",
      "Increase the number of iterations (max_iter) or scale the data as shown in:\n",
      "    https://scikit-learn.org/stable/modules/preprocessing.html\n",
      "Please also refer to the documentation for alternative solver options:\n",
      "    https://scikit-learn.org/stable/modules/linear_model.html#logistic-regression\n",
      "  n_iter_i = _check_optimize_result(\n",
      "/Users/benkabongo25/opt/anaconda3/lib/python3.9/site-packages/sklearn/linear_model/_logistic.py:444: ConvergenceWarning: lbfgs failed to converge (status=1):\n",
      "STOP: TOTAL NO. of ITERATIONS REACHED LIMIT.\n",
      "\n",
      "Increase the number of iterations (max_iter) or scale the data as shown in:\n",
      "    https://scikit-learn.org/stable/modules/preprocessing.html\n",
      "Please also refer to the documentation for alternative solver options:\n",
      "    https://scikit-learn.org/stable/modules/linear_model.html#logistic-regression\n",
      "  n_iter_i = _check_optimize_result(\n",
      "/Users/benkabongo25/opt/anaconda3/lib/python3.9/site-packages/sklearn/linear_model/_logistic.py:444: ConvergenceWarning: lbfgs failed to converge (status=1):\n",
      "STOP: TOTAL NO. of ITERATIONS REACHED LIMIT.\n",
      "\n",
      "Increase the number of iterations (max_iter) or scale the data as shown in:\n",
      "    https://scikit-learn.org/stable/modules/preprocessing.html\n",
      "Please also refer to the documentation for alternative solver options:\n",
      "    https://scikit-learn.org/stable/modules/linear_model.html#logistic-regression\n",
      "  n_iter_i = _check_optimize_result(\n",
      "/Users/benkabongo25/opt/anaconda3/lib/python3.9/site-packages/sklearn/linear_model/_logistic.py:444: ConvergenceWarning: lbfgs failed to converge (status=1):\n",
      "STOP: TOTAL NO. of ITERATIONS REACHED LIMIT.\n",
      "\n",
      "Increase the number of iterations (max_iter) or scale the data as shown in:\n",
      "    https://scikit-learn.org/stable/modules/preprocessing.html\n",
      "Please also refer to the documentation for alternative solver options:\n",
      "    https://scikit-learn.org/stable/modules/linear_model.html#logistic-regression\n",
      "  n_iter_i = _check_optimize_result(\n"
     ]
    },
    {
     "name": "stdout",
     "output_type": "stream",
     "text": [
      "Best parameters:  {'C': 10}\n",
      "Classification report:\n",
      "              precision    recall  f1-score   support\n",
      "\n",
      "           0       0.96      0.97      0.96       420\n",
      "           1       0.98      0.99      0.98       692\n",
      "           2       0.99      0.98      0.99       927\n",
      "           3       0.97      0.97      0.97       705\n",
      "           4       0.98      0.98      0.98      1032\n",
      "           5       1.00      0.99      0.99       560\n",
      "\n",
      "    accuracy                           0.98      4336\n",
      "   macro avg       0.98      0.98      0.98      4336\n",
      "weighted avg       0.98      0.98      0.98      4336\n",
      "\n",
      "Confusion matrix:\n",
      "[[ 406    0    0   10    4    0]\n",
      " [   2  682    3    1    3    1]\n",
      " [   0    9  909    2    7    0]\n",
      " [  10    1    2  687    4    1]\n",
      " [   7    2    2    7 1014    0]\n",
      " [   0    1    1    0    3  555]]\n"
     ]
    },
    {
     "name": "stderr",
     "output_type": "stream",
     "text": [
      "/Users/benkabongo25/opt/anaconda3/lib/python3.9/site-packages/sklearn/linear_model/_logistic.py:444: ConvergenceWarning: lbfgs failed to converge (status=1):\n",
      "STOP: TOTAL NO. of ITERATIONS REACHED LIMIT.\n",
      "\n",
      "Increase the number of iterations (max_iter) or scale the data as shown in:\n",
      "    https://scikit-learn.org/stable/modules/preprocessing.html\n",
      "Please also refer to the documentation for alternative solver options:\n",
      "    https://scikit-learn.org/stable/modules/linear_model.html#logistic-regression\n",
      "  n_iter_i = _check_optimize_result(\n"
     ]
    }
   ],
   "source": [
    "from sklearn.metrics import classification_report, confusion_matrix\n",
    "from sklearn.model_selection import GridSearchCV\n",
    "\n",
    "param_grid = {'C': [0.1, 1, 10]}\n",
    "logreg = LogisticRegression()\n",
    "grid_search = GridSearchCV(logreg, param_grid, cv=5)\n",
    "grid_search.fit(train_xs, train_ys)\n",
    "\n",
    "print(\"Best parameters: \", grid_search.best_params_)\n",
    "pca = decomposition.PCA(n_components)\n",
    "y_pred = best_model.predict(test_xs)\n",
    "\n",
    "print(\"Classification report:\")\n",
    "print(classification_report(test_ys, y_pred))\n",
    "\n",
    "print(\"Confusion matrix:\")\n",
    "print(confusion_matrix(test_ys, y_pred))"
   ]
  },
  {
   "cell_type": "code",
   "execution_count": 35,
   "id": "6f67fb82",
   "metadata": {},
   "outputs": [
    {
     "name": "stderr",
     "output_type": "stream",
     "text": [
      "/Users/benkabongo25/opt/anaconda3/lib/python3.9/site-packages/sklearn/linear_model/_logistic.py:444: ConvergenceWarning: lbfgs failed to converge (status=1):\n",
      "STOP: TOTAL NO. of ITERATIONS REACHED LIMIT.\n",
      "\n",
      "Increase the number of iterations (max_iter) or scale the data as shown in:\n",
      "    https://scikit-learn.org/stable/modules/preprocessing.html\n",
      "Please also refer to the documentation for alternative solver options:\n",
      "    https://scikit-learn.org/stable/modules/linear_model.html#logistic-regression\n",
      "  n_iter_i = _check_optimize_result(\n",
      "/Users/benkabongo25/opt/anaconda3/lib/python3.9/site-packages/sklearn/linear_model/_logistic.py:444: ConvergenceWarning: lbfgs failed to converge (status=1):\n",
      "STOP: TOTAL NO. of ITERATIONS REACHED LIMIT.\n",
      "\n",
      "Increase the number of iterations (max_iter) or scale the data as shown in:\n",
      "    https://scikit-learn.org/stable/modules/preprocessing.html\n",
      "Please also refer to the documentation for alternative solver options:\n",
      "    https://scikit-learn.org/stable/modules/linear_model.html#logistic-regression\n",
      "  n_iter_i = _check_optimize_result(\n",
      "/Users/benkabongo25/opt/anaconda3/lib/python3.9/site-packages/sklearn/linear_model/_logistic.py:444: ConvergenceWarning: lbfgs failed to converge (status=1):\n",
      "STOP: TOTAL NO. of ITERATIONS REACHED LIMIT.\n",
      "\n",
      "Increase the number of iterations (max_iter) or scale the data as shown in:\n",
      "    https://scikit-learn.org/stable/modules/preprocessing.html\n",
      "Please also refer to the documentation for alternative solver options:\n",
      "    https://scikit-learn.org/stable/modules/linear_model.html#logistic-regression\n",
      "  n_iter_i = _check_optimize_result(\n",
      "/Users/benkabongo25/opt/anaconda3/lib/python3.9/site-packages/sklearn/linear_model/_logistic.py:444: ConvergenceWarning: lbfgs failed to converge (status=1):\n",
      "STOP: TOTAL NO. of ITERATIONS REACHED LIMIT.\n",
      "\n",
      "Increase the number of iterations (max_iter) or scale the data as shown in:\n",
      "    https://scikit-learn.org/stable/modules/preprocessing.html\n",
      "Please also refer to the documentation for alternative solver options:\n",
      "    https://scikit-learn.org/stable/modules/linear_model.html#logistic-regression\n",
      "  n_iter_i = _check_optimize_result(\n",
      "/Users/benkabongo25/opt/anaconda3/lib/python3.9/site-packages/sklearn/linear_model/_logistic.py:444: ConvergenceWarning: lbfgs failed to converge (status=1):\n",
      "STOP: TOTAL NO. of ITERATIONS REACHED LIMIT.\n",
      "\n",
      "Increase the number of iterations (max_iter) or scale the data as shown in:\n",
      "    https://scikit-learn.org/stable/modules/preprocessing.html\n",
      "Please also refer to the documentation for alternative solver options:\n",
      "    https://scikit-learn.org/stable/modules/linear_model.html#logistic-regression\n",
      "  n_iter_i = _check_optimize_result(\n"
     ]
    },
    {
     "name": "stdout",
     "output_type": "stream",
     "text": [
      "============================================================================\n",
      "LogisticRegression cross validation scores:\n",
      "Accuracy: 0.981 +/- 0.001\n",
      "F1-score: 0.981 +/- 0.001\n",
      "\n",
      "============================================================================\n",
      "MultinomialNB cross validation scores:\n",
      "Accuracy: 0.973 +/- 0.002\n",
      "F1-score: 0.972 +/- 0.002\n",
      "\n",
      "============================================================================\n",
      "DecisionTreeClassifier cross validation scores:\n",
      "Accuracy: 0.884 +/- 0.006\n",
      "F1-score: 0.884 +/- 0.006\n",
      "\n",
      "============================================================================\n",
      "RandomForestClassifier cross validation scores:\n",
      "Accuracy: 0.968 +/- 0.003\n",
      "F1-score: 0.967 +/- 0.003\n",
      "\n",
      "============================================================================\n",
      "SVC cross validation scores:\n",
      "Accuracy: 0.949 +/- 0.005\n",
      "F1-score: 0.949 +/- 0.005\n",
      "\n"
     ]
    }
   ],
   "source": [
    "from sklearn.model_selection import cross_validate\n",
    "\n",
    "models = [\n",
    "    LogisticRegression(),\n",
    "    MultinomialNB(),\n",
    "    DecisionTreeClassifier(),\n",
    "    RandomForestClassifier(),\n",
    "    SVC()\n",
    "]\n",
    "\n",
    "scoring = {'accuracy': 'accuracy', \n",
    "           'f1_score': 'f1_weighted', \n",
    "           'precision': 'precision_weighted', \n",
    "           'recall': 'recall_weighted'}\n",
    "\n",
    "for model in models:\n",
    "    scores = cross_validate(model, xs, ys, cv=5, scoring=scoring)\n",
    "    print('============================================================================')\n",
    "    print(f\"{model.__class__.__name__} cross validation scores:\")\n",
    "    print(f\"Accuracy: {scores['test_accuracy'].mean():.3f} +/- {scores['test_accuracy'].std():.3f}\")\n",
    "    print(f\"F1-score: {scores['test_f1_score'].mean():.3f} +/- {scores['test_f1_score'].std():.3f}\")\n",
    "    print()"
   ]
  },
  {
   "cell_type": "markdown",
   "id": "9f51ec23-3479-4f96-8d22-4779a87181e3",
   "metadata": {},
   "source": [
    "### 🚧 TODO: Explain what model seems to work best"
   ]
  },
  {
   "cell_type": "markdown",
   "id": "4ccbb505",
   "metadata": {},
   "source": [
    "LogisticRegression"
   ]
  },
  {
   "cell_type": "markdown",
   "id": "1d850e54-f593-4be9-967b-fffd88423ed9",
   "metadata": {},
   "source": [
    "____"
   ]
  }
 ],
 "metadata": {
  "kernelspec": {
   "display_name": "Python 3 (ipykernel)",
   "language": "python",
   "name": "python3"
  },
  "language_info": {
   "codemirror_mode": {
    "name": "ipython",
    "version": 3
   },
   "file_extension": ".py",
   "mimetype": "text/x-python",
   "name": "python",
   "nbconvert_exporter": "python",
   "pygments_lexer": "ipython3",
   "version": "3.9.13"
  },
  "vscode": {
   "interpreter": {
    "hash": "4092beadd17a8c123802d6bfeec2845d174d6d0bf5a666f517bdff4bcd2558e4"
   }
  }
 },
 "nbformat": 4,
 "nbformat_minor": 5
}
