{
 "cells": [
  {
   "cell_type": "markdown",
   "id": "f5cb8f6c-94df-4e39-b208-e54edc3a9df6",
   "metadata": {},
   "source": [
    "# Hands-On NLP\n",
    "## Class 2"
   ]
  },
  {
   "cell_type": "markdown",
   "id": "aaf60f2c",
   "metadata": {},
   "source": [
    "<span style=\"color:magenta\">Group Names:</span>\n",
    "\n",
    "* Ben KABONGO BUZANGU"
   ]
  },
  {
   "cell_type": "markdown",
   "id": "1e5beddc-b0f9-4cb4-92a7-e1270c541dd0",
   "metadata": {},
   "source": [
    "### Outline\n",
    "\n",
    "- Better vectors : Tf-idf\n",
    "\n",
    "- Ngrams\n",
    "\n",
    "- Text generation"
   ]
  },
  {
   "cell_type": "code",
   "execution_count": 2,
   "id": "a6366df5-2396-4222-8760-37060a1dc94c",
   "metadata": {},
   "outputs": [],
   "source": [
    "import re\n",
    "import collections\n",
    "from pathlib import Path\n",
    "\n",
    "import matplotlib.pyplot as plt\n",
    "import nltk\n",
    "import numpy as np\n",
    "import pandas as pd\n",
    "import seaborn as sns\n",
    "import sklearn\n",
    "from nltk.tokenize import word_tokenize\n",
    "from sklearn import decomposition, naive_bayes, preprocessing, model_selection\n",
    "from sklearn.pipeline import Pipeline\n",
    "from sklearn.feature_extraction.text import CountVectorizer, TfidfVectorizer\n",
    "from sklearn.metrics import (\n",
    "    ConfusionMatrixDisplay,\n",
    "    accuracy_score,\n",
    "    classification_report,\n",
    "    confusion_matrix,\n",
    ")\n",
    "from sklearn.metrics import precision_recall_fscore_support as score\n",
    "from sklearn.model_selection import train_test_split\n",
    "from tqdm.notebook import tqdm"
   ]
  },
  {
   "cell_type": "code",
   "execution_count": 2,
   "id": "a8c44f31",
   "metadata": {},
   "outputs": [
    {
     "name": "stdout",
     "output_type": "stream",
     "text": [
      "sklearn's version: 1.1.3\n",
      "nltk's version: 3.7\n",
      "pandas's version: 1.4.4\n"
     ]
    },
    {
     "name": "stderr",
     "output_type": "stream",
     "text": [
      "[nltk_data] Downloading package punkt to\n",
      "[nltk_data]     /Users/benkabongo25/nltk_data...\n",
      "[nltk_data]   Package punkt is already up-to-date!\n"
     ]
    }
   ],
   "source": [
    "tqdm.pandas()\n",
    "\n",
    "nltk.download(\"punkt\")\n",
    "\n",
    "sns.set_style(\"darkgrid\")\n",
    "sns.set_context(\"notebook\")\n",
    "\n",
    "pd.set_option(\"display.precision\", 4)\n",
    "\n",
    "print(\"sklearn's version:\", sklearn.__version__)    # 1.2.0\n",
    "print(\"nltk's version:\", nltk.__version__)          # 3.8.1\n",
    "print(\"pandas's version:\", pd.__version__)          # 1.5.2"
   ]
  },
  {
   "cell_type": "code",
   "execution_count": 3,
   "id": "2a0b2586-f2bf-49af-bd7b-a24ce918eee1",
   "metadata": {},
   "outputs": [],
   "source": [
    "%config InlineBackend.figure_format=\"retina\"  # For high DPI display"
   ]
  },
  {
   "cell_type": "markdown",
   "id": "c0cece58",
   "metadata": {},
   "source": [
    "# Getting the data"
   ]
  },
  {
   "cell_type": "code",
   "execution_count": 4,
   "id": "467e1198-37f5-4bc4-98cc-28fbf0b10c34",
   "metadata": {},
   "outputs": [],
   "source": [
    "DATA = Path(\"data\")\n",
    "\n",
    "TEXT_P = DATA / \"texts\"\n",
    "\n",
    "CORPORA = [\n",
    "    \"mythology\",\n",
    "    \"woodworking\",\n",
    "    \"robotics\",\n",
    "    \"hsm\",\n",
    "    \"health\",\n",
    "    \"portuguese\",\n",
    "]\n",
    "\n",
    "EPS = np.finfo(float).eps"
   ]
  },
  {
   "cell_type": "code",
   "execution_count": 5,
   "id": "45164744-82eb-44ad-b6d9-1a9da7ff8fd6",
   "metadata": {},
   "outputs": [
    {
     "data": {
      "application/vnd.jupyter.widget-view+json": {
       "model_id": "5cae99eb8554474584c7c3765389c933",
       "version_major": 2,
       "version_minor": 0
      },
      "text/plain": [
       "  0%|          | 0/6 [00:00<?, ?it/s]"
      ]
     },
     "metadata": {},
     "output_type": "display_data"
    },
    {
     "name": "stdout",
     "output_type": "stream",
     "text": [
      "mythology\n",
      "woodworking\n",
      "robotics\n",
      "hsm\n",
      "health\n",
      "portuguese\n"
     ]
    }
   ],
   "source": [
    "data = []\n",
    "\n",
    "for i, corpus in enumerate(tqdm(CORPORA)):\n",
    "    print(corpus)\n",
    "    for fp in (TEXT_P / corpus).glob(\"*.txt\"):\n",
    "        with fp.open() as f:\n",
    "            text = f.read()\n",
    "        data.append(\n",
    "            {\n",
    "                \"id\": fp.stem,\n",
    "                \"text\": text,\n",
    "                \"category\": corpus,\n",
    "                \"cat_id\": i,\n",
    "            }\n",
    "        )"
   ]
  },
  {
   "cell_type": "code",
   "execution_count": 6,
   "id": "6d42f8c4-504f-43c0-b174-5396a852f426",
   "metadata": {},
   "outputs": [
    {
     "data": {
      "text/html": [
       "<div>\n",
       "<style scoped>\n",
       "    .dataframe tbody tr th:only-of-type {\n",
       "        vertical-align: middle;\n",
       "    }\n",
       "\n",
       "    .dataframe tbody tr th {\n",
       "        vertical-align: top;\n",
       "    }\n",
       "\n",
       "    .dataframe thead th {\n",
       "        text-align: right;\n",
       "    }\n",
       "</style>\n",
       "<table border=\"1\" class=\"dataframe\">\n",
       "  <thead>\n",
       "    <tr style=\"text-align: right;\">\n",
       "      <th></th>\n",
       "      <th>text</th>\n",
       "      <th>category</th>\n",
       "      <th>cat_id</th>\n",
       "    </tr>\n",
       "    <tr>\n",
       "      <th>id</th>\n",
       "      <th></th>\n",
       "      <th></th>\n",
       "      <th></th>\n",
       "    </tr>\n",
       "  </thead>\n",
       "  <tbody>\n",
       "    <tr>\n",
       "      <th>mythology.stackexchange_0000001634</th>\n",
       "      <td>Q:\\n\\nCan anyone identify what Chinese mytholo...</td>\n",
       "      <td>mythology</td>\n",
       "      <td>0</td>\n",
       "    </tr>\n",
       "    <tr>\n",
       "      <th>mythology.stackexchange_0000002329</th>\n",
       "      <td>Q:\\n\\nHave runes ever been used to bring someo...</td>\n",
       "      <td>mythology</td>\n",
       "      <td>0</td>\n",
       "    </tr>\n",
       "    <tr>\n",
       "      <th>mythology.stackexchange_0000001146</th>\n",
       "      <td>Q:\\n\\nDifferences in the Greek and Roman portr...</td>\n",
       "      <td>mythology</td>\n",
       "      <td>0</td>\n",
       "    </tr>\n",
       "    <tr>\n",
       "      <th>mythology.stackexchange_0000004770</th>\n",
       "      <td>Q:\\n\\nWhich cultures have the concept of a \"tr...</td>\n",
       "      <td>mythology</td>\n",
       "      <td>0</td>\n",
       "    </tr>\n",
       "    <tr>\n",
       "      <th>mythology.stackexchange_0000000516</th>\n",
       "      <td>Q:\\n\\nWhy did Arawn choose Pwyll to fight Hafg...</td>\n",
       "      <td>mythology</td>\n",
       "      <td>0</td>\n",
       "    </tr>\n",
       "    <tr>\n",
       "      <th>...</th>\n",
       "      <td>...</td>\n",
       "      <td>...</td>\n",
       "      <td>...</td>\n",
       "    </tr>\n",
       "    <tr>\n",
       "      <th>portuguese.stackexchange_0000001017</th>\n",
       "      <td>Q:\\n\\n\"pois não\" has an affirmative connotatio...</td>\n",
       "      <td>portuguese</td>\n",
       "      <td>5</td>\n",
       "    </tr>\n",
       "    <tr>\n",
       "      <th>portuguese.stackexchange_0000004609</th>\n",
       "      <td>Q:\\n\\nPor que \"Teiú\" tem acento?\\n\\nMonossílab...</td>\n",
       "      <td>portuguese</td>\n",
       "      <td>5</td>\n",
       "    </tr>\n",
       "    <tr>\n",
       "      <th>portuguese.stackexchange_0000000484</th>\n",
       "      <td>Q:\\n\\nRegional usage of \"guitarra\" and \"violão...</td>\n",
       "      <td>portuguese</td>\n",
       "      <td>5</td>\n",
       "    </tr>\n",
       "    <tr>\n",
       "      <th>portuguese.stackexchange_0000003833</th>\n",
       "      <td>Q:\\n\\n\"Do the names of the indigenous peoples ...</td>\n",
       "      <td>portuguese</td>\n",
       "      <td>5</td>\n",
       "    </tr>\n",
       "    <tr>\n",
       "      <th>portuguese.stackexchange_0000000490</th>\n",
       "      <td>Q:\\n\\nIs \"farnizim\" the same as saying \"frenes...</td>\n",
       "      <td>portuguese</td>\n",
       "      <td>5</td>\n",
       "    </tr>\n",
       "  </tbody>\n",
       "</table>\n",
       "<p>14450 rows × 3 columns</p>\n",
       "</div>"
      ],
      "text/plain": [
       "                                                                                  text  \\\n",
       "id                                                                                       \n",
       "mythology.stackexchange_0000001634   Q:\\n\\nCan anyone identify what Chinese mytholo...   \n",
       "mythology.stackexchange_0000002329   Q:\\n\\nHave runes ever been used to bring someo...   \n",
       "mythology.stackexchange_0000001146   Q:\\n\\nDifferences in the Greek and Roman portr...   \n",
       "mythology.stackexchange_0000004770   Q:\\n\\nWhich cultures have the concept of a \"tr...   \n",
       "mythology.stackexchange_0000000516   Q:\\n\\nWhy did Arawn choose Pwyll to fight Hafg...   \n",
       "...                                                                                ...   \n",
       "portuguese.stackexchange_0000001017  Q:\\n\\n\"pois não\" has an affirmative connotatio...   \n",
       "portuguese.stackexchange_0000004609  Q:\\n\\nPor que \"Teiú\" tem acento?\\n\\nMonossílab...   \n",
       "portuguese.stackexchange_0000000484  Q:\\n\\nRegional usage of \"guitarra\" and \"violão...   \n",
       "portuguese.stackexchange_0000003833  Q:\\n\\n\"Do the names of the indigenous peoples ...   \n",
       "portuguese.stackexchange_0000000490  Q:\\n\\nIs \"farnizim\" the same as saying \"frenes...   \n",
       "\n",
       "                                       category  cat_id  \n",
       "id                                                       \n",
       "mythology.stackexchange_0000001634    mythology       0  \n",
       "mythology.stackexchange_0000002329    mythology       0  \n",
       "mythology.stackexchange_0000001146    mythology       0  \n",
       "mythology.stackexchange_0000004770    mythology       0  \n",
       "mythology.stackexchange_0000000516    mythology       0  \n",
       "...                                         ...     ...  \n",
       "portuguese.stackexchange_0000001017  portuguese       5  \n",
       "portuguese.stackexchange_0000004609  portuguese       5  \n",
       "portuguese.stackexchange_0000000484  portuguese       5  \n",
       "portuguese.stackexchange_0000003833  portuguese       5  \n",
       "portuguese.stackexchange_0000000490  portuguese       5  \n",
       "\n",
       "[14450 rows x 3 columns]"
      ]
     },
     "execution_count": 6,
     "metadata": {},
     "output_type": "execute_result"
    }
   ],
   "source": [
    "all_df = pd.DataFrame.from_records(data, index=[\"id\"])\n",
    "all_df = all_df.drop(\"robotics.stackexchange_0000005103\")\n",
    "all_df"
   ]
  },
  {
   "cell_type": "markdown",
   "id": "6ea5c0ff-1200-4d45-b7b3-8fded7343f8d",
   "metadata": {},
   "source": [
    "---\n",
    "Here the initialization of `all_df` is done and you can jump to your favorite classification\n",
    "___"
   ]
  },
  {
   "cell_type": "code",
   "execution_count": 7,
   "id": "41a2eb62-3309-4636-bca7-8abb87d0a053",
   "metadata": {},
   "outputs": [
    {
     "data": {
      "image/png": "[encoded data removed]",
      "text/plain": [
       "<Figure size 640x480 with 1 Axes>"
      ]
     },
     "metadata": {
      "image/png": {
       "height": 513,
       "width": 563
      }
     },
     "output_type": "display_data"
    }
   ],
   "source": [
    "all_df.groupby(\"category\").size().plot.bar()\n",
    "plt.grid(axis=\"x\")"
   ]
  },
  {
   "cell_type": "markdown",
   "id": "5ff3abc6-c173-4705-b563-f194f7426990",
   "metadata": {},
   "source": [
    "# Vectorizers"
   ]
  },
  {
   "cell_type": "code",
   "execution_count": 8,
   "id": "07eb09d9-a25f-4d44-b836-4244a8a2fedc",
   "metadata": {},
   "outputs": [
    {
     "data": {
      "text/html": [
       "<div>\n",
       "<style scoped>\n",
       "    .dataframe tbody tr th:only-of-type {\n",
       "        vertical-align: middle;\n",
       "    }\n",
       "\n",
       "    .dataframe tbody tr th {\n",
       "        vertical-align: top;\n",
       "    }\n",
       "\n",
       "    .dataframe thead th {\n",
       "        text-align: right;\n",
       "    }\n",
       "</style>\n",
       "<table border=\"1\" class=\"dataframe\">\n",
       "  <thead>\n",
       "    <tr style=\"text-align: right;\">\n",
       "      <th></th>\n",
       "      <th>and</th>\n",
       "      <th>document</th>\n",
       "      <th>first</th>\n",
       "      <th>is</th>\n",
       "      <th>one</th>\n",
       "      <th>second</th>\n",
       "      <th>the</th>\n",
       "      <th>third</th>\n",
       "      <th>this</th>\n",
       "    </tr>\n",
       "  </thead>\n",
       "  <tbody>\n",
       "    <tr>\n",
       "      <th>This is the first document.</th>\n",
       "      <td>0</td>\n",
       "      <td>1</td>\n",
       "      <td>1</td>\n",
       "      <td>1</td>\n",
       "      <td>0</td>\n",
       "      <td>0</td>\n",
       "      <td>1</td>\n",
       "      <td>0</td>\n",
       "      <td>1</td>\n",
       "    </tr>\n",
       "    <tr>\n",
       "      <th>This document is the second document.</th>\n",
       "      <td>0</td>\n",
       "      <td>2</td>\n",
       "      <td>0</td>\n",
       "      <td>1</td>\n",
       "      <td>0</td>\n",
       "      <td>1</td>\n",
       "      <td>1</td>\n",
       "      <td>0</td>\n",
       "      <td>1</td>\n",
       "    </tr>\n",
       "    <tr>\n",
       "      <th>And this is the third one.</th>\n",
       "      <td>1</td>\n",
       "      <td>0</td>\n",
       "      <td>0</td>\n",
       "      <td>1</td>\n",
       "      <td>1</td>\n",
       "      <td>0</td>\n",
       "      <td>1</td>\n",
       "      <td>1</td>\n",
       "      <td>1</td>\n",
       "    </tr>\n",
       "    <tr>\n",
       "      <th>Is this the first document?</th>\n",
       "      <td>0</td>\n",
       "      <td>1</td>\n",
       "      <td>1</td>\n",
       "      <td>1</td>\n",
       "      <td>0</td>\n",
       "      <td>0</td>\n",
       "      <td>1</td>\n",
       "      <td>0</td>\n",
       "      <td>1</td>\n",
       "    </tr>\n",
       "  </tbody>\n",
       "</table>\n",
       "</div>"
      ],
      "text/plain": [
       "                                       and  document  first  is  one  second  \\\n",
       "This is the first document.              0         1      1   1    0       0   \n",
       "This document is the second document.    0         2      0   1    0       1   \n",
       "And this is the third one.               1         0      0   1    1       0   \n",
       "Is this the first document?              0         1      1   1    0       0   \n",
       "\n",
       "                                       the  third  this  \n",
       "This is the first document.              1      0     1  \n",
       "This document is the second document.    1      0     1  \n",
       "And this is the third one.               1      1     1  \n",
       "Is this the first document?              1      0     1  "
      ]
     },
     "execution_count": 8,
     "metadata": {},
     "output_type": "execute_result"
    }
   ],
   "source": [
    "corpus = [\n",
    "    \"This is the first document.\",\n",
    "    \"This document is the second document.\",\n",
    "    \"And this is the third one.\",\n",
    "    \"Is this the first document?\",\n",
    "]\n",
    "\n",
    "vectorizer = CountVectorizer()\n",
    "xs = vectorizer.fit_transform(corpus).toarray()\n",
    "\n",
    "cv_df = pd.DataFrame(xs, index=corpus, columns=vectorizer.get_feature_names_out())\n",
    "cv_df"
   ]
  },
  {
   "cell_type": "code",
   "execution_count": 9,
   "id": "9096c2b1-4a5a-415d-94a3-b282c21c80ed",
   "metadata": {},
   "outputs": [
    {
     "data": {
      "text/html": [
       "<div>\n",
       "<style scoped>\n",
       "    .dataframe tbody tr th:only-of-type {\n",
       "        vertical-align: middle;\n",
       "    }\n",
       "\n",
       "    .dataframe tbody tr th {\n",
       "        vertical-align: top;\n",
       "    }\n",
       "\n",
       "    .dataframe thead th {\n",
       "        text-align: right;\n",
       "    }\n",
       "</style>\n",
       "<table border=\"1\" class=\"dataframe\">\n",
       "  <thead>\n",
       "    <tr style=\"text-align: right;\">\n",
       "      <th></th>\n",
       "      <th>and</th>\n",
       "      <th>document</th>\n",
       "      <th>first</th>\n",
       "      <th>is</th>\n",
       "      <th>one</th>\n",
       "      <th>second</th>\n",
       "      <th>the</th>\n",
       "      <th>third</th>\n",
       "      <th>this</th>\n",
       "    </tr>\n",
       "  </thead>\n",
       "  <tbody>\n",
       "    <tr>\n",
       "      <th>This is the first document.</th>\n",
       "      <td>0.0000</td>\n",
       "      <td>0.4698</td>\n",
       "      <td>0.5803</td>\n",
       "      <td>0.3841</td>\n",
       "      <td>0.0000</td>\n",
       "      <td>0.0000</td>\n",
       "      <td>0.3841</td>\n",
       "      <td>0.0000</td>\n",
       "      <td>0.3841</td>\n",
       "    </tr>\n",
       "    <tr>\n",
       "      <th>This document is the second document.</th>\n",
       "      <td>0.0000</td>\n",
       "      <td>0.6876</td>\n",
       "      <td>0.0000</td>\n",
       "      <td>0.2811</td>\n",
       "      <td>0.0000</td>\n",
       "      <td>0.5386</td>\n",
       "      <td>0.2811</td>\n",
       "      <td>0.0000</td>\n",
       "      <td>0.2811</td>\n",
       "    </tr>\n",
       "    <tr>\n",
       "      <th>And this is the third one.</th>\n",
       "      <td>0.5118</td>\n",
       "      <td>0.0000</td>\n",
       "      <td>0.0000</td>\n",
       "      <td>0.2671</td>\n",
       "      <td>0.5118</td>\n",
       "      <td>0.0000</td>\n",
       "      <td>0.2671</td>\n",
       "      <td>0.5118</td>\n",
       "      <td>0.2671</td>\n",
       "    </tr>\n",
       "    <tr>\n",
       "      <th>Is this the first document?</th>\n",
       "      <td>0.0000</td>\n",
       "      <td>0.4698</td>\n",
       "      <td>0.5803</td>\n",
       "      <td>0.3841</td>\n",
       "      <td>0.0000</td>\n",
       "      <td>0.0000</td>\n",
       "      <td>0.3841</td>\n",
       "      <td>0.0000</td>\n",
       "      <td>0.3841</td>\n",
       "    </tr>\n",
       "  </tbody>\n",
       "</table>\n",
       "</div>"
      ],
      "text/plain": [
       "                                          and  document   first      is  \\\n",
       "This is the first document.            0.0000    0.4698  0.5803  0.3841   \n",
       "This document is the second document.  0.0000    0.6876  0.0000  0.2811   \n",
       "And this is the third one.             0.5118    0.0000  0.0000  0.2671   \n",
       "Is this the first document?            0.0000    0.4698  0.5803  0.3841   \n",
       "\n",
       "                                          one  second     the   third    this  \n",
       "This is the first document.            0.0000  0.0000  0.3841  0.0000  0.3841  \n",
       "This document is the second document.  0.0000  0.5386  0.2811  0.0000  0.2811  \n",
       "And this is the third one.             0.5118  0.0000  0.2671  0.5118  0.2671  \n",
       "Is this the first document?            0.0000  0.0000  0.3841  0.0000  0.3841  "
      ]
     },
     "execution_count": 9,
     "metadata": {},
     "output_type": "execute_result"
    }
   ],
   "source": [
    "tf_idf = TfidfVectorizer()\n",
    "xs = tf_idf.fit_transform(corpus).toarray()\n",
    "\n",
    "tf_idf_df = pd.DataFrame(xs, index=corpus, columns=tf_idf.get_feature_names_out())\n",
    "tf_idf_df"
   ]
  },
  {
   "cell_type": "markdown",
   "id": "3e7ae303-b69d-4bea-8c4f-93b7ccb7713b",
   "metadata": {},
   "source": [
    "$$\\operatorname{tf}(t,d) = \\frac{f_{t,d}}{{\\sum_{t' \\in d}{f_{t',d}}}}$$\n",
    "\n",
    "$$\\operatorname{idf}(t, D) = \\log \\left( \\frac {N} {1 + n_t}\\right)+ 1$$\n"
   ]
  },
  {
   "cell_type": "markdown",
   "id": "d5642f69-afc2-437e-b4dc-e78b8f1112a5",
   "metadata": {},
   "source": [
    "### Getting back to the complete corpus: `all_df`"
   ]
  },
  {
   "cell_type": "code",
   "execution_count": 10,
   "id": "04236c43",
   "metadata": {},
   "outputs": [],
   "source": [
    "ys = all_df.cat_id.values"
   ]
  },
  {
   "cell_type": "code",
   "execution_count": 11,
   "id": "a08f9f72-443a-416a-9537-2f000ce5117d",
   "metadata": {},
   "outputs": [
    {
     "name": "stdout",
     "output_type": "stream",
     "text": [
      "CPU times: user 3.14 s, sys: 149 ms, total: 3.29 s\n",
      "Wall time: 3.29 s\n"
     ]
    }
   ],
   "source": [
    "%%time\n",
    "\n",
    "cv = CountVectorizer(max_features=5000)\n",
    "xs = cv.fit_transform(all_df.text).toarray()"
   ]
  },
  {
   "cell_type": "code",
   "execution_count": 12,
   "id": "7977ca29",
   "metadata": {},
   "outputs": [
    {
     "name": "stdout",
     "output_type": "stream",
     "text": [
      "xs.shape = (14450, 5000)\n",
      "ys.shape = (14450,)\n"
     ]
    }
   ],
   "source": [
    "print(\"xs.shape =\", xs.shape)\n",
    "print(\"ys.shape =\", ys.shape)"
   ]
  },
  {
   "cell_type": "code",
   "execution_count": 13,
   "id": "c757fdd0-615f-415b-8a59-cc4fbabba1c4",
   "metadata": {},
   "outputs": [
    {
     "name": "stdout",
     "output_type": "stream",
     "text": [
      "(10115, 5000)\n",
      "(4335, 5000)\n"
     ]
    }
   ],
   "source": [
    "train_xs, test_xs, train_ys, test_ys = train_test_split(\n",
    "    xs, ys, test_size=0.3, random_state=0, shuffle=True\n",
    ")\n",
    "print(train_xs.shape)\n",
    "print(test_xs.shape)"
   ]
  },
  {
   "cell_type": "markdown",
   "id": "b1f450b8",
   "metadata": {},
   "source": [
    "#### 🚧 TODO: `CountVectorizer` vs. `TfidfVectorizer` classifiers\n",
    "\n",
    "*   Limit to the 5000 most frequent words to reduce the dimensionality\n",
    "\n",
    "    (the sparse matrix `toarray()` method crashes if no reduction of features is applied)\n",
    "\n",
    "*   Use both to classify the data based on, e.g., the `MultinomialNB` classifier\n",
    "\n",
    "*   Compare their results in terms of accuracy and show their `classification_report`"
   ]
  },
  {
   "cell_type": "code",
   "execution_count": 14,
   "id": "e87326fc",
   "metadata": {},
   "outputs": [
    {
     "name": "stdout",
     "output_type": "stream",
     "text": [
      "(10115, 5000)\n",
      "(4335, 5000)\n",
      "Accuracy score : 0.9741637831603229\n",
      "Classification report:\n",
      "              precision    recall  f1-score   support\n",
      "\n",
      "           0       0.95      0.99      0.97       420\n",
      "           1       0.97      1.00      0.98       692\n",
      "           2       0.98      0.97      0.98       935\n",
      "           3       0.95      0.97      0.96       709\n",
      "           4       0.98      0.98      0.98      1054\n",
      "           5       1.00      0.93      0.96       525\n",
      "\n",
      "    accuracy                           0.97      4335\n",
      "   macro avg       0.97      0.97      0.97      4335\n",
      "weighted avg       0.97      0.97      0.97      4335\n",
      "\n"
     ]
    }
   ],
   "source": [
    "# CV\n",
    "cv = CountVectorizer(max_features=5000)\n",
    "xs = cv.fit_transform(all_df.text).toarray()\n",
    "train_xs, test_xs, train_ys, test_ys = train_test_split(\n",
    "    xs, ys, test_size=0.3, random_state=0, shuffle=True\n",
    ")\n",
    "print(train_xs.shape)\n",
    "print(test_xs.shape)\n",
    "\n",
    "model = naive_bayes.MultinomialNB()\n",
    "model.fit(train_xs, train_ys)\n",
    "y_pred = model.predict(test_xs)\n",
    "print('Accuracy score :', accuracy_score(y_pred, test_ys))\n",
    "\n",
    "print(\"Classification report:\")\n",
    "print(classification_report(test_ys, y_pred))"
   ]
  },
  {
   "cell_type": "code",
   "execution_count": 15,
   "id": "cd775694",
   "metadata": {},
   "outputs": [
    {
     "name": "stdout",
     "output_type": "stream",
     "text": [
      "(10115, 5000)\n",
      "(4335, 5000)\n",
      "Accuracy score : 0.9748558246828143\n",
      "Classification report:\n",
      "              precision    recall  f1-score   support\n",
      "\n",
      "           0       0.97      0.96      0.97       420\n",
      "           1       0.97      1.00      0.98       692\n",
      "           2       0.97      0.98      0.98       935\n",
      "           3       0.95      0.97      0.96       709\n",
      "           4       0.98      0.99      0.99      1054\n",
      "           5       1.00      0.93      0.97       525\n",
      "\n",
      "    accuracy                           0.97      4335\n",
      "   macro avg       0.98      0.97      0.97      4335\n",
      "weighted avg       0.98      0.97      0.97      4335\n",
      "\n"
     ]
    }
   ],
   "source": [
    "# TF IDF\n",
    "tf_idf = TfidfVectorizer(max_features=5000)\n",
    "xs = tf_idf.fit_transform(all_df.text).toarray()\n",
    "train_xs, test_xs, train_ys, test_ys = train_test_split(\n",
    "    xs, ys, test_size=0.3, random_state=0, shuffle=True\n",
    ")\n",
    "print(train_xs.shape)\n",
    "print(test_xs.shape)\n",
    "\n",
    "model = naive_bayes.MultinomialNB()\n",
    "model.fit(train_xs, train_ys)\n",
    "y_pred = model.predict(test_xs)\n",
    "print('Accuracy score :', accuracy_score(y_pred, test_ys))\n",
    "\n",
    "print(\"Classification report:\")\n",
    "print(classification_report(test_ys, y_pred))"
   ]
  },
  {
   "cell_type": "markdown",
   "id": "8ae296dc",
   "metadata": {},
   "source": [
    "#### 🚧 TODO: `MultinomialNB` vs. `GaussianNB` classifiers\n",
    "\n",
    "*   Use both to classify the data\n",
    "\n",
    "*   Compare their results in terms of accuracy and show their `classification_report`"
   ]
  },
  {
   "cell_type": "code",
   "execution_count": 16,
   "id": "ace06e70",
   "metadata": {},
   "outputs": [
    {
     "name": "stdout",
     "output_type": "stream",
     "text": [
      "Accuracy score : 0.952479815455594\n",
      "Classification report:\n",
      "              precision    recall  f1-score   support\n",
      "\n",
      "           0       0.95      0.94      0.94       420\n",
      "           1       0.97      0.96      0.96       692\n",
      "           2       0.97      0.95      0.96       935\n",
      "           3       0.90      0.92      0.91       709\n",
      "           4       0.94      0.98      0.96      1054\n",
      "           5       0.99      0.97      0.98       525\n",
      "\n",
      "    accuracy                           0.95      4335\n",
      "   macro avg       0.95      0.95      0.95      4335\n",
      "weighted avg       0.95      0.95      0.95      4335\n",
      "\n"
     ]
    }
   ],
   "source": [
    "model = naive_bayes.GaussianNB()\n",
    "model.fit(train_xs, train_ys)\n",
    "y_pred = model.predict(test_xs)\n",
    "print('Accuracy score :', accuracy_score(y_pred, test_ys))\n",
    "\n",
    "print(\"Classification report:\")\n",
    "print(classification_report(test_ys, y_pred))"
   ]
  },
  {
   "cell_type": "code",
   "execution_count": 17,
   "id": "98f5bb35",
   "metadata": {},
   "outputs": [
    {
     "name": "stdout",
     "output_type": "stream",
     "text": [
      "Accuracy score : 0.9748558246828143\n",
      "Classification report:\n",
      "              precision    recall  f1-score   support\n",
      "\n",
      "           0       0.97      0.96      0.97       420\n",
      "           1       0.97      1.00      0.98       692\n",
      "           2       0.97      0.98      0.98       935\n",
      "           3       0.95      0.97      0.96       709\n",
      "           4       0.98      0.99      0.99      1054\n",
      "           5       1.00      0.93      0.97       525\n",
      "\n",
      "    accuracy                           0.97      4335\n",
      "   macro avg       0.98      0.97      0.97      4335\n",
      "weighted avg       0.98      0.97      0.97      4335\n",
      "\n"
     ]
    }
   ],
   "source": [
    "model = naive_bayes.MultinomialNB()\n",
    "model.fit(train_xs, train_ys)\n",
    "y_pred = model.predict(test_xs)\n",
    "print('Accuracy score :', accuracy_score(y_pred, test_ys))\n",
    "\n",
    "print(\"Classification report:\")\n",
    "print(classification_report(test_ys, y_pred))"
   ]
  },
  {
   "cell_type": "markdown",
   "id": "5d928327-bf23-4554-8f5f-aaee99c74697",
   "metadata": {},
   "source": [
    "#### 🚧 TODO: Confusion matrix\n",
    "\n",
    "- Verify in a confusion matrix that the precision of portuguese is 1.00 and its recall is about 0.97 with the `MultinomialNB` classifier on the Tfidf vectorizer\n",
    "\n",
    "- Translate this result into a sentence"
   ]
  },
  {
   "cell_type": "code",
   "execution_count": 18,
   "id": "9dc956f9",
   "metadata": {},
   "outputs": [
    {
     "name": "stdout",
     "output_type": "stream",
     "text": [
      "Confusion matrix:\n",
      "[[ 405    1    0   13    1    0]\n",
      " [   0  690    1    0    1    0]\n",
      " [   0   15  913    2    5    0]\n",
      " [   4    0   12  687    6    0]\n",
      " [   0    6    5    2 1041    0]\n",
      " [   8    1    6   17    3  490]]\n"
     ]
    }
   ],
   "source": [
    "print(\"Confusion matrix:\")\n",
    "print(confusion_matrix(test_ys, y_pred))"
   ]
  },
  {
   "cell_type": "markdown",
   "id": "53799ca9-8e2d-40b3-8922-6ad4e2ebc0d7",
   "metadata": {},
   "source": [
    "#### 🚧 TODO: add the `stop_words=\"english\"` option to the `tf_idf` vectorizer \n",
    "\n",
    "*   Compare the size of the and check the `sparse_xs` for conditions (stop words included or not)\n",
    "\n",
    "*   Retrain with the new vectorizer and the MultinomialNB classifier\n",
    "\n",
    "*   Compare the results with the previous vectorizer"
   ]
  },
  {
   "cell_type": "code",
   "execution_count": 19,
   "id": "d4294365",
   "metadata": {},
   "outputs": [
    {
     "name": "stdout",
     "output_type": "stream",
     "text": [
      "(10115, 5000)\n",
      "(4335, 5000)\n",
      "Accuracy score : 0.9764705882352941\n",
      "Classification report:\n",
      "              precision    recall  f1-score   support\n",
      "\n",
      "           0       0.97      0.97      0.97       420\n",
      "           1       0.97      1.00      0.98       692\n",
      "           2       0.97      0.98      0.97       935\n",
      "           3       0.96      0.96      0.96       709\n",
      "           4       0.99      0.98      0.98      1054\n",
      "           5       1.00      0.96      0.98       525\n",
      "\n",
      "    accuracy                           0.98      4335\n",
      "   macro avg       0.98      0.97      0.98      4335\n",
      "weighted avg       0.98      0.98      0.98      4335\n",
      "\n"
     ]
    }
   ],
   "source": [
    "tf_idf = TfidfVectorizer(max_features=5000, stop_words='english')\n",
    "xs = tf_idf.fit_transform(all_df.text).toarray()\n",
    "train_xs, test_xs, train_ys, test_ys = train_test_split(\n",
    "    xs, ys, test_size=0.3, random_state=0, shuffle=True\n",
    ")\n",
    "print(train_xs.shape)\n",
    "print(test_xs.shape)\n",
    "\n",
    "model = naive_bayes.MultinomialNB()\n",
    "model.fit(train_xs, train_ys)\n",
    "y_pred = model.predict(test_xs)\n",
    "print('Accuracy score :', accuracy_score(y_pred, test_ys))\n",
    "\n",
    "print(\"Classification report:\")\n",
    "print(classification_report(test_ys, y_pred))"
   ]
  },
  {
   "cell_type": "markdown",
   "id": "152ccd31",
   "metadata": {},
   "source": [
    "#### 🚧 TODO: PCA\n",
    "\n",
    "*   Apply PCA to project on 2 dimensions to all vectors (train and test) and plot them\n",
    "\n",
    "*   Compare the plot with the previous vectorizer with, and without the `stop_words=\"english\"` option\n",
    "\n",
    "*   Explain the difference breafly"
   ]
  },
  {
   "cell_type": "code",
   "execution_count": 20,
   "id": "eaeaab3f",
   "metadata": {},
   "outputs": [
    {
     "data": {
      "image/png": "[encoded data removed]",
      "text/plain": [
       "<Figure size 640x480 with 1 Axes>"
      ]
     },
     "metadata": {
      "image/png": {
       "height": 416,
       "width": 559
      }
     },
     "output_type": "display_data"
    }
   ],
   "source": [
    "tf_idf = TfidfVectorizer(max_features=5000)\n",
    "xs = tf_idf.fit_transform(all_df.text).toarray()\n",
    "pca = decomposition.PCA(n_components=2)\n",
    "vectors_reduced = pca.fit_transform(xs)\n",
    "plt.scatter(vectors_reduced[:, 0], vectors_reduced[:, 1], c=ys)\n",
    "plt.show()"
   ]
  },
  {
   "cell_type": "code",
   "execution_count": 21,
   "id": "eacd45cd",
   "metadata": {},
   "outputs": [
    {
     "data": {
      "image/png": "[encoded data removed]",
      "text/plain": [
       "<Figure size 640x480 with 1 Axes>"
      ]
     },
     "metadata": {
      "image/png": {
       "height": 416,
       "width": 559
      }
     },
     "output_type": "display_data"
    }
   ],
   "source": [
    "tf_idf = TfidfVectorizer(max_features=5000, stop_words='english')\n",
    "xs = tf_idf.fit_transform(all_df.text).toarray()\n",
    "pca = decomposition.PCA(n_components=2)\n",
    "vectors_reduced = pca.fit_transform(xs)\n",
    "plt.scatter(vectors_reduced[:, 0], vectors_reduced[:, 1], c=ys)\n",
    "plt.show()"
   ]
  },
  {
   "cell_type": "markdown",
   "id": "552126b4",
   "metadata": {},
   "source": [
    "#### 🚧 TODO: Train on PCA\n",
    "\n",
    "*   Apply PCA to project on 2 dimensions to all vectors (train and test), fitting the PCA only on the training set\n",
    "\n",
    "*   Train the MultinomialNB and the GaussianNB classifiers on the PCA vectors\n",
    "\n",
    "    *   Does it work with both classifiers? Explain breafly.\n",
    "\n",
    "*   Compare the results with the vectorizer with, and without, the `stop_words=\"english\"` option\n",
    "\n",
    "*   Analyze the difference breafly"
   ]
  },
  {
   "cell_type": "code",
   "execution_count": 22,
   "id": "3ea1713b",
   "metadata": {},
   "outputs": [
    {
     "name": "stdout",
     "output_type": "stream",
     "text": [
      "(10115, 5000)\n",
      "(4335, 5000)\n",
      "========================================================\n",
      "MultinomialNB\n",
      "Accuracy score : 0.24313725490196078\n",
      "Classification report:\n",
      "              precision    recall  f1-score   support\n",
      "\n",
      "           0       0.00      0.00      0.00       420\n",
      "           1       0.00      0.00      0.00       692\n",
      "           2       0.00      0.00      0.00       935\n",
      "           3       0.00      0.00      0.00       709\n",
      "           4       0.24      1.00      0.39      1054\n",
      "           5       0.00      0.00      0.00       525\n",
      "\n",
      "    accuracy                           0.24      4335\n",
      "   macro avg       0.04      0.17      0.07      4335\n",
      "weighted avg       0.06      0.24      0.10      4335\n",
      "\n",
      "========================================================\n",
      "GaussianNB\n",
      "Accuracy score : 0.572318339100346\n",
      "Classification report:\n",
      "              precision    recall  f1-score   support\n",
      "\n",
      "           0       0.53      0.27      0.36       420\n",
      "           1       0.62      0.58      0.60       692\n",
      "           2       0.48      0.49      0.49       935\n",
      "           3       0.52      0.59      0.55       709\n",
      "           4       0.49      0.59      0.54      1054\n",
      "           5       0.99      0.90      0.94       525\n",
      "\n",
      "    accuracy                           0.57      4335\n",
      "   macro avg       0.61      0.57      0.58      4335\n",
      "weighted avg       0.58      0.57      0.57      4335\n",
      "\n"
     ]
    },
    {
     "name": "stderr",
     "output_type": "stream",
     "text": [
      "/Users/benkabongo25/opt/anaconda3/lib/python3.9/site-packages/sklearn/metrics/_classification.py:1334: UndefinedMetricWarning: Precision and F-score are ill-defined and being set to 0.0 in labels with no predicted samples. Use `zero_division` parameter to control this behavior.\n",
      "  _warn_prf(average, modifier, msg_start, len(result))\n",
      "/Users/benkabongo25/opt/anaconda3/lib/python3.9/site-packages/sklearn/metrics/_classification.py:1334: UndefinedMetricWarning: Precision and F-score are ill-defined and being set to 0.0 in labels with no predicted samples. Use `zero_division` parameter to control this behavior.\n",
      "  _warn_prf(average, modifier, msg_start, len(result))\n",
      "/Users/benkabongo25/opt/anaconda3/lib/python3.9/site-packages/sklearn/metrics/_classification.py:1334: UndefinedMetricWarning: Precision and F-score are ill-defined and being set to 0.0 in labels with no predicted samples. Use `zero_division` parameter to control this behavior.\n",
      "  _warn_prf(average, modifier, msg_start, len(result))\n"
     ]
    }
   ],
   "source": [
    "tf_idf = TfidfVectorizer(max_features=5000)\n",
    "xs = tf_idf.fit_transform(all_df.text).toarray()\n",
    "train_xs, test_xs, train_ys, test_ys = train_test_split(\n",
    "    xs, ys, test_size=0.3, random_state=0, shuffle=True\n",
    ")\n",
    "print(train_xs.shape)\n",
    "print(test_xs.shape)\n",
    "\n",
    "pca = decomposition.PCA(n_components=2)\n",
    "train_vectors_reduced = pca.fit_transform(train_xs)\n",
    "test_vectors_reduced = pca.fit_transform(test_xs)\n",
    "\n",
    "scaler = preprocessing.MinMaxScaler()\n",
    "train_xs = scaler.fit_transform(train_vectors_reduced)\n",
    "test_xs = scaler.transform(test_vectors_reduced)\n",
    "\n",
    "model = naive_bayes.MultinomialNB()\n",
    "model.fit(train_xs, train_ys)\n",
    "y_pred = model.predict(test_xs)\n",
    "print('========================================================')\n",
    "print('MultinomialNB')\n",
    "print('Accuracy score :', accuracy_score(y_pred, test_ys))\n",
    "print(\"Classification report:\")\n",
    "print(classification_report(test_ys, y_pred))\n",
    "\n",
    "model = naive_bayes.GaussianNB()\n",
    "model.fit(train_xs, train_ys)\n",
    "y_pred = model.predict(test_xs)\n",
    "print('========================================================')\n",
    "print('GaussianNB')\n",
    "print('Accuracy score :', accuracy_score(y_pred, test_ys))\n",
    "print(\"Classification report:\")\n",
    "print(classification_report(test_ys, y_pred))"
   ]
  },
  {
   "cell_type": "code",
   "execution_count": 23,
   "id": "ccac2e87",
   "metadata": {},
   "outputs": [
    {
     "name": "stdout",
     "output_type": "stream",
     "text": [
      "(10115, 5000)\n",
      "(4335, 5000)\n",
      "========================================================\n",
      "MultinomialNB\n",
      "Accuracy score : 0.24313725490196078\n",
      "Classification report:\n",
      "              precision    recall  f1-score   support\n",
      "\n",
      "           0       0.00      0.00      0.00       420\n",
      "           1       0.00      0.00      0.00       692\n",
      "           2       0.00      0.00      0.00       935\n",
      "           3       0.00      0.00      0.00       709\n",
      "           4       0.24      1.00      0.39      1054\n",
      "           5       0.00      0.00      0.00       525\n",
      "\n",
      "    accuracy                           0.24      4335\n",
      "   macro avg       0.04      0.17      0.07      4335\n",
      "weighted avg       0.06      0.24      0.10      4335\n",
      "\n",
      "========================================================\n",
      "GaussianNB\n",
      "Accuracy score : 0.6412918108419838\n",
      "Classification report:\n",
      "              precision    recall  f1-score   support\n",
      "\n",
      "           0       0.00      0.00      0.00       420\n",
      "           1       0.94      0.95      0.95       692\n",
      "           2       0.72      0.74      0.73       935\n",
      "           3       0.42      0.32      0.36       709\n",
      "           4       0.43      0.66      0.52      1054\n",
      "           5       0.99      0.96      0.98       525\n",
      "\n",
      "    accuracy                           0.64      4335\n",
      "   macro avg       0.58      0.61      0.59      4335\n",
      "weighted avg       0.60      0.64      0.61      4335\n",
      "\n"
     ]
    },
    {
     "name": "stderr",
     "output_type": "stream",
     "text": [
      "/Users/benkabongo25/opt/anaconda3/lib/python3.9/site-packages/sklearn/metrics/_classification.py:1334: UndefinedMetricWarning: Precision and F-score are ill-defined and being set to 0.0 in labels with no predicted samples. Use `zero_division` parameter to control this behavior.\n",
      "  _warn_prf(average, modifier, msg_start, len(result))\n",
      "/Users/benkabongo25/opt/anaconda3/lib/python3.9/site-packages/sklearn/metrics/_classification.py:1334: UndefinedMetricWarning: Precision and F-score are ill-defined and being set to 0.0 in labels with no predicted samples. Use `zero_division` parameter to control this behavior.\n",
      "  _warn_prf(average, modifier, msg_start, len(result))\n",
      "/Users/benkabongo25/opt/anaconda3/lib/python3.9/site-packages/sklearn/metrics/_classification.py:1334: UndefinedMetricWarning: Precision and F-score are ill-defined and being set to 0.0 in labels with no predicted samples. Use `zero_division` parameter to control this behavior.\n",
      "  _warn_prf(average, modifier, msg_start, len(result))\n",
      "/Users/benkabongo25/opt/anaconda3/lib/python3.9/site-packages/sklearn/metrics/_classification.py:1334: UndefinedMetricWarning: Precision and F-score are ill-defined and being set to 0.0 in labels with no predicted samples. Use `zero_division` parameter to control this behavior.\n",
      "  _warn_prf(average, modifier, msg_start, len(result))\n",
      "/Users/benkabongo25/opt/anaconda3/lib/python3.9/site-packages/sklearn/metrics/_classification.py:1334: UndefinedMetricWarning: Precision and F-score are ill-defined and being set to 0.0 in labels with no predicted samples. Use `zero_division` parameter to control this behavior.\n",
      "  _warn_prf(average, modifier, msg_start, len(result))\n",
      "/Users/benkabongo25/opt/anaconda3/lib/python3.9/site-packages/sklearn/metrics/_classification.py:1334: UndefinedMetricWarning: Precision and F-score are ill-defined and being set to 0.0 in labels with no predicted samples. Use `zero_division` parameter to control this behavior.\n",
      "  _warn_prf(average, modifier, msg_start, len(result))\n"
     ]
    }
   ],
   "source": [
    "tf_idf = TfidfVectorizer(max_features=5000, stop_words='english')\n",
    "xs = tf_idf.fit_transform(all_df.text).toarray()\n",
    "train_xs, test_xs, train_ys, test_ys = train_test_split(\n",
    "    xs, ys, test_size=0.3, random_state=0, shuffle=True\n",
    ")\n",
    "print(train_xs.shape)\n",
    "print(test_xs.shape)\n",
    "\n",
    "pca = decomposition.PCA(n_components=2)\n",
    "train_vectors_reduced = pca.fit_transform(train_xs)\n",
    "test_vectors_reduced = pca.fit_transform(test_xs)\n",
    "\n",
    "scaler = preprocessing.MinMaxScaler()\n",
    "train_xs = scaler.fit_transform(train_vectors_reduced)\n",
    "test_xs = scaler.transform(test_vectors_reduced)\n",
    "\n",
    "model = naive_bayes.MultinomialNB()\n",
    "model.fit(train_xs, train_ys)\n",
    "y_pred = model.predict(test_xs)\n",
    "print('========================================================')\n",
    "print('MultinomialNB')\n",
    "print('Accuracy score :', accuracy_score(y_pred, test_ys))\n",
    "print(\"Classification report:\")\n",
    "print(classification_report(test_ys, y_pred))\n",
    "\n",
    "model = naive_bayes.GaussianNB()\n",
    "model.fit(train_xs, train_ys)\n",
    "y_pred = model.predict(test_xs)\n",
    "print('========================================================')\n",
    "print('GaussianNB')\n",
    "print('Accuracy score :', accuracy_score(y_pred, test_ys))\n",
    "print(\"Classification report:\")\n",
    "print(classification_report(test_ys, y_pred))"
   ]
  },
  {
   "cell_type": "markdown",
   "id": "b9dada15-875a-4aea-8d31-01011ef6662b",
   "metadata": {},
   "source": [
    "#### 🚧 TODO: PCA with more dimensions\n",
    "\n",
    "*   Try to find the best number of dimensions for the PCA with [`GridSearchCV`](sklearn.model_selection.GridSearchCV)\n",
    "\n",
    "*   Use pipeline to combine the PCA and the classifier and other potential preprocessing steps\n",
    "\n",
    "*   Boxplot accuracyies for different PCA dimension values using "
   ]
  },
  {
   "cell_type": "code",
   "execution_count": 24,
   "id": "fe7556e3",
   "metadata": {
    "scrolled": false
   },
   "outputs": [
    {
     "name": "stdout",
     "output_type": "stream",
     "text": [
      "(10115, 5000)\n",
      "(4335, 5000)\n"
     ]
    }
   ],
   "source": [
    "tf_idf = TfidfVectorizer(max_features=5000, stop_words='english')\n",
    "xs = tf_idf.fit_transform(all_df.text).toarray()\n",
    "train_xs, test_xs, train_ys, test_ys = train_test_split(\n",
    "    xs, ys, test_size=0.3, random_state=0, shuffle=True\n",
    ")\n",
    "print(train_xs.shape)\n",
    "print(test_xs.shape)"
   ]
  },
  {
   "cell_type": "code",
   "execution_count": 25,
   "id": "c386aa40",
   "metadata": {},
   "outputs": [],
   "source": [
    "#param_grid = {'pca__n_components': [100, 500, 1000]}\n",
    "#pipeline = Pipeline([\n",
    "#    ('pca', decomposition.PCA()),\n",
    "#    ('clf', naive_bayes.GaussianNB())\n",
    "#])\n",
    "\n",
    "#grid_search = model_selection.GridSearchCV(pipeline, param_grid, cv=2)\n",
    "#grid_search.fit(train_xs, train_ys)"
   ]
  },
  {
   "cell_type": "code",
   "execution_count": 26,
   "id": "0c6c7008",
   "metadata": {},
   "outputs": [
    {
     "data": {
      "text/plain": [
       "'\\nNcomp = range(100, 1001, 100)\\nCV = 3\\nscores = np.zeros((len(Ncomp), CV))\\n\\nfor i, N in enumerate(Ncomp):\\n    pca = decomposition.PCA(n_components=N)\\n    pca_xs = pca.fit_transform(xs)\\n\\n    model = naive_bayes.GaussianNB()\\n    print(\\'========================================================\\')\\n    print(\\'Nb of components :\\', N)\\n    scores[i] = model_selection.cross_val_score(model, pca_xs, ys, cv=CV)\\n    print(\\'Cross validation score :\\', scores[i].mean())\\n    \\nN = Ncomp[scores.mean(1).argmax()]\\nprint(\"Best parameters: \", N)\\n'"
      ]
     },
     "execution_count": 26,
     "metadata": {},
     "output_type": "execute_result"
    }
   ],
   "source": [
    "'''\n",
    "Ncomp = range(100, 1001, 100)\n",
    "CV = 3\n",
    "scores = np.zeros((len(Ncomp), CV))\n",
    "\n",
    "for i, N in enumerate(Ncomp):\n",
    "    pca = decomposition.PCA(n_components=N)\n",
    "    pca_xs = pca.fit_transform(xs)\n",
    "\n",
    "    model = naive_bayes.GaussianNB()\n",
    "    print('========================================================')\n",
    "    print('Nb of components :', N)\n",
    "    scores[i] = model_selection.cross_val_score(model, pca_xs, ys, cv=CV)\n",
    "    print('Cross validation score :', scores[i].mean())\n",
    "    \n",
    "N = Ncomp[scores.mean(1).argmax()]\n",
    "print(\"Best parameters: \", N)\n",
    "'''"
   ]
  },
  {
   "cell_type": "code",
   "execution_count": 27,
   "id": "b8a72643",
   "metadata": {},
   "outputs": [
    {
     "name": "stdout",
     "output_type": "stream",
     "text": [
      "========================================================\n",
      "Nb of components : 10\n",
      "Cross validation score : 0.9560554012172191\n",
      "========================================================\n",
      "Nb of components : 20\n",
      "Cross validation score : 0.9474741341515872\n",
      "========================================================\n",
      "Nb of components : 30\n",
      "Cross validation score : 0.9399309437482742\n",
      "========================================================\n",
      "Nb of components : 40\n",
      "Cross validation score : 0.9374397379298264\n",
      "========================================================\n",
      "Nb of components : 50\n",
      "Cross validation score : 0.9303115138084915\n",
      "========================================================\n",
      "Nb of components : 60\n",
      "Cross validation score : 0.9238756425367797\n",
      "========================================================\n",
      "Nb of components : 70\n",
      "Cross validation score : 0.9210383249523938\n",
      "========================================================\n",
      "Nb of components : 80\n",
      "Cross validation score : 0.9186853166997375\n",
      "========================================================\n",
      "Nb of components : 90\n",
      "Cross validation score : 0.9166091490064604\n",
      "========================================================\n",
      "Nb of components : 100\n",
      "Cross validation score : 0.9132182652524247\n",
      "Best parameters:  10\n"
     ]
    }
   ],
   "source": [
    "Ncomp = range(10, 101, 10)\n",
    "CV = 3\n",
    "scores = np.zeros((len(Ncomp), CV))\n",
    "\n",
    "for i, N in enumerate(Ncomp):\n",
    "    pca = decomposition.PCA(n_components=N)\n",
    "    pca_xs = pca.fit_transform(xs)\n",
    "\n",
    "    model = naive_bayes.GaussianNB()\n",
    "    print('========================================================')\n",
    "    print('Nb of components :', N)\n",
    "    scores[i] = model_selection.cross_val_score(model, pca_xs, ys, cv=CV)\n",
    "    print('Cross validation score :', scores[i].mean())\n",
    "    \n",
    "N = Ncomp[scores.mean(1).argmax()]\n",
    "print(\"Best parameters: \", N)"
   ]
  },
  {
   "cell_type": "code",
   "execution_count": 28,
   "id": "9fa91de3",
   "metadata": {
    "scrolled": false
   },
   "outputs": [
    {
     "name": "stdout",
     "output_type": "stream",
     "text": [
      "Classification report:\n",
      "              precision    recall  f1-score   support\n",
      "\n",
      "           0       0.89      0.52      0.66       420\n",
      "           1       0.62      0.75      0.68       692\n",
      "           2       0.67      0.88      0.76       935\n",
      "           3       0.95      0.78      0.86       709\n",
      "           4       0.94      0.79      0.86      1054\n",
      "           5       0.93      0.97      0.95       525\n",
      "\n",
      "    accuracy                           0.80      4335\n",
      "   macro avg       0.83      0.78      0.79      4335\n",
      "weighted avg       0.83      0.80      0.80      4335\n",
      "\n",
      "Confusion matrix:\n",
      "[[219 171   2  10  17   1]\n",
      " [  1 521 146   0  12  12]\n",
      " [  0  97 821   3   7   7]\n",
      " [ 22  46  62 556  10  13]\n",
      " [  2   4 200   8 833   7]\n",
      " [  2   1   2   9   3 508]]\n"
     ]
    }
   ],
   "source": [
    "pca = decomposition.PCA(n_components=N)\n",
    "train_xs = pca.fit_transform(train_xs)\n",
    "test_xs = pca.fit_transform(test_xs)\n",
    "\n",
    "model = naive_bayes.GaussianNB()\n",
    "model.fit(train_xs, train_ys)\n",
    "\n",
    "y_pred = model.predict(test_xs)\n",
    "\n",
    "print(\"Classification report:\")\n",
    "print(classification_report(test_ys, y_pred))\n",
    "\n",
    "print(\"Confusion matrix:\")\n",
    "print(confusion_matrix(test_ys, y_pred))"
   ]
  },
  {
   "cell_type": "code",
   "execution_count": 29,
   "id": "8d1bcbbb",
   "metadata": {},
   "outputs": [
    {
     "data": {
      "image/png": "[encoded data removed]",
      "text/plain": [
       "<Figure size 1000x300 with 1 Axes>"
      ]
     },
     "metadata": {
      "image/png": {
       "height": 298,
       "width": 837
      }
     },
     "output_type": "display_data"
    }
   ],
   "source": [
    "n = len(Ncomp)\n",
    "fig, ax = plt.subplots(figsize=(n, CV))\n",
    "ax.boxplot(scores.T, labels=Ncomp)\n",
    "ax.set_title(\"Boxplots\")\n",
    "plt.show()\n"
   ]
  },
  {
   "cell_type": "markdown",
   "id": "4874beb9-408c-467f-9a26-9c6e39c4c678",
   "metadata": {},
   "source": [
    "## N-grams"
   ]
  },
  {
   "cell_type": "code",
   "execution_count": 30,
   "id": "06ffb414-1b14-439f-9f1b-857fc3736956",
   "metadata": {},
   "outputs": [],
   "source": [
    "# %%time\n",
    "vectorizer_2g = CountVectorizer(\n",
    "    analyzer=\"word\", ngram_range=(2, 2), max_features=5000,\n",
    ")\n",
    "x2gs = vectorizer_2g.fit_transform(all_df.text).toarray()"
   ]
  },
  {
   "cell_type": "code",
   "execution_count": 31,
   "id": "4ad83427-2c40-448c-a68b-2e67af18c439",
   "metadata": {},
   "outputs": [
    {
     "data": {
      "text/html": [
       "<div>\n",
       "<style scoped>\n",
       "    .dataframe tbody tr th:only-of-type {\n",
       "        vertical-align: middle;\n",
       "    }\n",
       "\n",
       "    .dataframe tbody tr th {\n",
       "        vertical-align: top;\n",
       "    }\n",
       "\n",
       "    .dataframe thead th {\n",
       "        text-align: right;\n",
       "    }\n",
       "</style>\n",
       "<table border=\"1\" class=\"dataframe\">\n",
       "  <thead>\n",
       "    <tr style=\"text-align: right;\">\n",
       "      <th></th>\n",
       "      <th>bigrams</th>\n",
       "    </tr>\n",
       "  </thead>\n",
       "  <tbody>\n",
       "    <tr>\n",
       "      <th>0</th>\n",
       "      <td>17th century</td>\n",
       "    </tr>\n",
       "    <tr>\n",
       "      <th>1</th>\n",
       "      <td>18th century</td>\n",
       "    </tr>\n",
       "    <tr>\n",
       "      <th>2</th>\n",
       "      <td>19th century</td>\n",
       "    </tr>\n",
       "    <tr>\n",
       "      <th>3</th>\n",
       "      <td>20th century</td>\n",
       "    </tr>\n",
       "    <tr>\n",
       "      <th>4</th>\n",
       "      <td>24 hours</td>\n",
       "    </tr>\n",
       "    <tr>\n",
       "      <th>...</th>\n",
       "      <td>...</td>\n",
       "    </tr>\n",
       "    <tr>\n",
       "      <th>4995</th>\n",
       "      <td>your question</td>\n",
       "    </tr>\n",
       "    <tr>\n",
       "      <th>4996</th>\n",
       "      <td>your robot</td>\n",
       "    </tr>\n",
       "    <tr>\n",
       "      <th>4997</th>\n",
       "      <td>your system</td>\n",
       "    </tr>\n",
       "    <tr>\n",
       "      <th>4998</th>\n",
       "      <td>youtube com</td>\n",
       "    </tr>\n",
       "    <tr>\n",
       "      <th>4999</th>\n",
       "      <td>zeus and</td>\n",
       "    </tr>\n",
       "  </tbody>\n",
       "</table>\n",
       "<p>5000 rows × 1 columns</p>\n",
       "</div>"
      ],
      "text/plain": [
       "            bigrams\n",
       "0      17th century\n",
       "1      18th century\n",
       "2      19th century\n",
       "3      20th century\n",
       "4          24 hours\n",
       "...             ...\n",
       "4995  your question\n",
       "4996     your robot\n",
       "4997    your system\n",
       "4998    youtube com\n",
       "4999       zeus and\n",
       "\n",
       "[5000 rows x 1 columns]"
      ]
     },
     "execution_count": 31,
     "metadata": {},
     "output_type": "execute_result"
    }
   ],
   "source": [
    "pd.DataFrame(vectorizer_2g.get_feature_names_out(), columns=[\"bigrams\"])"
   ]
  },
  {
   "cell_type": "code",
   "execution_count": 32,
   "id": "4ffc1cd1-36a2-41e4-9d6a-9e51a550e6a3",
   "metadata": {},
   "outputs": [
    {
     "name": "stdout",
     "output_type": "stream",
     "text": [
      "(10115, 5000)\n",
      "(4335, 5000)\n"
     ]
    }
   ],
   "source": [
    "train_xs, test_xs, train_ys, test_ys = train_test_split(\n",
    "    x2gs, ys, test_size=0.3, random_state=0, shuffle=True\n",
    ")\n",
    "print(train_xs.shape)\n",
    "print(test_xs.shape)"
   ]
  },
  {
   "cell_type": "markdown",
   "id": "b63a9a8b",
   "metadata": {},
   "source": [
    "#### 🚧 TODO: Train on Ngrams\n",
    "\n",
    "*   Train on the `CountVectorizer` with ngrams using the `MultinomialNB` classifier\n",
    "\n",
    "*   Compare the results with the previous \"raw\" `CountVectorizer`"
   ]
  },
  {
   "cell_type": "code",
   "execution_count": 33,
   "id": "caaac712",
   "metadata": {},
   "outputs": [
    {
     "name": "stdout",
     "output_type": "stream",
     "text": [
      "Accuracy score : 0.9370242214532872\n",
      "Classification report:\n",
      "              precision    recall  f1-score   support\n",
      "\n",
      "           0       0.89      0.94      0.91       420\n",
      "           1       0.91      0.98      0.94       692\n",
      "           2       0.96      0.92      0.94       935\n",
      "           3       0.92      0.93      0.93       709\n",
      "           4       0.94      0.94      0.94      1054\n",
      "           5       1.00      0.92      0.96       525\n",
      "\n",
      "    accuracy                           0.94      4335\n",
      "   macro avg       0.94      0.94      0.94      4335\n",
      "weighted avg       0.94      0.94      0.94      4335\n",
      "\n"
     ]
    }
   ],
   "source": [
    "model = naive_bayes.MultinomialNB()\n",
    "model.fit(train_xs, train_ys)\n",
    "y_pred = model.predict(test_xs)\n",
    "print('Accuracy score :', accuracy_score(y_pred, test_ys))\n",
    "\n",
    "print(\"Classification report:\")\n",
    "print(classification_report(test_ys, y_pred))"
   ]
  },
  {
   "cell_type": "markdown",
   "id": "8c71a315-40b6-4739-bb20-a6a6a3724c7c",
   "metadata": {},
   "source": [
    "---\n",
    "## Building an n-gram generator\n",
    "___"
   ]
  },
  {
   "cell_type": "markdown",
   "id": "549f111f-d2ae-4ee4-bb99-689b2dd8ec68",
   "metadata": {},
   "source": [
    "### Let's build character trigrams first"
   ]
  },
  {
   "cell_type": "code",
   "execution_count": 34,
   "id": "7042cea6-8886-4bc1-b824-75a84de70b75",
   "metadata": {},
   "outputs": [
    {
     "data": {
      "text/plain": [
       "['Thi', 'his', 'is ', 's i', ' is', 'is ', 's c', ' co', 'coo', 'ool', 'ol!']"
      ]
     },
     "execution_count": 34,
     "metadata": {},
     "output_type": "execute_result"
    }
   ],
   "source": [
    "LINE = \"This is cool!\"\n",
    "N = 3\n",
    "[LINE[i : i + N] for i in range(len(LINE) - N + 1)]"
   ]
  },
  {
   "cell_type": "code",
   "execution_count": 35,
   "id": "2c7d6a3b-6032-498d-8317-2091c402c5e5",
   "metadata": {},
   "outputs": [
    {
     "data": {
      "text/plain": [
       "[('T', 'h', 'i'),\n",
       " ('h', 'i', 's'),\n",
       " ('i', 's', ' '),\n",
       " ('s', ' ', 'i'),\n",
       " (' ', 'i', 's'),\n",
       " ('i', 's', ' '),\n",
       " ('s', ' ', 'c'),\n",
       " (' ', 'c', 'o'),\n",
       " ('c', 'o', 'o'),\n",
       " ('o', 'o', 'l'),\n",
       " ('o', 'l', '!')]"
      ]
     },
     "execution_count": 35,
     "metadata": {},
     "output_type": "execute_result"
    }
   ],
   "source": [
    "[tuple(LINE[i : i + N]) for i in range(len(LINE) - N + 1)]"
   ]
  },
  {
   "cell_type": "code",
   "execution_count": 36,
   "id": "61fa1606-e4c9-448d-b6a8-bf6d06339a71",
   "metadata": {},
   "outputs": [
    {
     "data": {
      "text/plain": [
       "['this is cool!', 'this is amazing!', 'but why is this his fish?']"
      ]
     },
     "execution_count": 36,
     "metadata": {},
     "output_type": "execute_result"
    }
   ],
   "source": [
    "LINES = \"\"\"This is cool!\n",
    "This is amazing!\n",
    "But why is this his fish?\"\"\"\n",
    "\n",
    "re.split(\"\\n+\", LINES.lower())"
   ]
  },
  {
   "cell_type": "code",
   "execution_count": 37,
   "id": "83ac1be4-fb00-451a-a4ec-e402e6e7fd97",
   "metadata": {},
   "outputs": [
    {
     "data": {
      "text/html": [
       "<div>\n",
       "<style scoped>\n",
       "    .dataframe tbody tr th:only-of-type {\n",
       "        vertical-align: middle;\n",
       "    }\n",
       "\n",
       "    .dataframe tbody tr th {\n",
       "        vertical-align: top;\n",
       "    }\n",
       "\n",
       "    .dataframe thead th {\n",
       "        text-align: right;\n",
       "    }\n",
       "</style>\n",
       "<table border=\"1\" class=\"dataframe\">\n",
       "  <thead>\n",
       "    <tr style=\"text-align: right;\">\n",
       "      <th></th>\n",
       "      <th>freq</th>\n",
       "    </tr>\n",
       "  </thead>\n",
       "  <tbody>\n",
       "    <tr>\n",
       "      <th>is</th>\n",
       "      <td>7</td>\n",
       "    </tr>\n",
       "    <tr>\n",
       "      <th>his</th>\n",
       "      <td>4</td>\n",
       "    </tr>\n",
       "    <tr>\n",
       "      <th>thi</th>\n",
       "      <td>3</td>\n",
       "    </tr>\n",
       "    <tr>\n",
       "      <th>is</th>\n",
       "      <td>3</td>\n",
       "    </tr>\n",
       "    <tr>\n",
       "      <th>s i</th>\n",
       "      <td>2</td>\n",
       "    </tr>\n",
       "    <tr>\n",
       "      <th>th</th>\n",
       "      <td>1</td>\n",
       "    </tr>\n",
       "    <tr>\n",
       "      <th>wh</th>\n",
       "      <td>1</td>\n",
       "    </tr>\n",
       "  </tbody>\n",
       "</table>\n",
       "</div>"
      ],
      "text/plain": [
       "     freq\n",
       "is      7\n",
       "his     4\n",
       "thi     3\n",
       " is     3\n",
       "s i     2\n",
       " th     1\n",
       " wh     1"
      ]
     },
     "execution_count": 37,
     "metadata": {},
     "output_type": "execute_result"
    }
   ],
   "source": [
    "ngrams = collections.Counter()\n",
    "\n",
    "for line in re.split(\"\\n+\", LINES.lower()):\n",
    "    ngrams.update([line[i : i + N] for i in range(len(line) - N + 1)])\n",
    "\n",
    "nc_df = pd.DataFrame.from_dict(\n",
    "    ngrams, orient=\"index\", columns=[\"freq\"]\n",
    ").sort_values(\"freq\", ascending=False)\n",
    "\n",
    "nc_df.head(7)"
   ]
  },
  {
   "cell_type": "markdown",
   "id": "c355364d",
   "metadata": {},
   "source": [
    "#### 🚧 TODO: Manual word ngrams\n",
    "\n",
    "*   Build a small ngram generator from the lines above\n",
    "\n",
    "*   Compute the ngrams frequency and keep it in a dictionary and/or a DataFrame"
   ]
  },
  {
   "cell_type": "code",
   "execution_count": 5,
   "id": "c998267d",
   "metadata": {},
   "outputs": [],
   "source": [
    "def trigrams(df):\n",
    "    trigrams = {}\n",
    "    \n",
    "    def count_trigrams(text):\n",
    "        words = text.split()\n",
    "        trigram_counter = collections.Counter()\n",
    "        for i in range(len(words) - 2):\n",
    "            trigram = ' '.join(words[i:i + 3])\n",
    "            trigram_counter[trigram] += 1\n",
    "        return trigram_counter\n",
    "\n",
    "    res = df.apply(lambda row: count_trigrams(row['text']), axis=1)\n",
    "    res_df = pd.DataFrame.from_dict(res.to_dict())\n",
    "    res_df.fillna(0, inplace=True)\n",
    "    return res_df.T"
   ]
  },
  {
   "cell_type": "markdown",
   "id": "ca11b3ea-589e-4f1b-840f-67c386a0edb3",
   "metadata": {},
   "source": [
    "### Back to our corpora"
   ]
  },
  {
   "cell_type": "markdown",
   "id": "c5483def",
   "metadata": {},
   "source": [
    "#### 🚧 TODO: Apply the ngram generator to the `\"woodworking\"` corpus\n",
    "\n",
    "*   Tokenize the corpus first with `nltk.word_tokenize`\n",
    "\n",
    "*   Normalize the tokens by simply simply lowercasing them\n",
    "\n",
    "*   Give the tokens frequency to the ngram generator"
   ]
  },
  {
   "cell_type": "code",
   "execution_count": 39,
   "id": "8b4d2af9-32ff-4e0b-abe1-ad70b29c5685",
   "metadata": {},
   "outputs": [
    {
     "data": {
      "text/html": [
       "<div>\n",
       "<style scoped>\n",
       "    .dataframe tbody tr th:only-of-type {\n",
       "        vertical-align: middle;\n",
       "    }\n",
       "\n",
       "    .dataframe tbody tr th {\n",
       "        vertical-align: top;\n",
       "    }\n",
       "\n",
       "    .dataframe thead th {\n",
       "        text-align: right;\n",
       "    }\n",
       "</style>\n",
       "<table border=\"1\" class=\"dataframe\">\n",
       "  <thead>\n",
       "    <tr style=\"text-align: right;\">\n",
       "      <th></th>\n",
       "      <th>text</th>\n",
       "      <th>category</th>\n",
       "      <th>cat_id</th>\n",
       "    </tr>\n",
       "    <tr>\n",
       "      <th>id</th>\n",
       "      <th></th>\n",
       "      <th></th>\n",
       "      <th></th>\n",
       "    </tr>\n",
       "  </thead>\n",
       "  <tbody>\n",
       "    <tr>\n",
       "      <th>woodworking.stackexchange_0000009855</th>\n",
       "      <td>Q:\\n\\nGlue-up for butcher block-style countert...</td>\n",
       "      <td>woodworking</td>\n",
       "      <td>1</td>\n",
       "    </tr>\n",
       "    <tr>\n",
       "      <th>woodworking.stackexchange_0000009869</th>\n",
       "      <td>Q:\\n\\nPlunge router base plate has a bit stick...</td>\n",
       "      <td>woodworking</td>\n",
       "      <td>1</td>\n",
       "    </tr>\n",
       "    <tr>\n",
       "      <th>woodworking.stackexchange_0000004395</th>\n",
       "      <td>Q:\\n\\nWhat is the proper way to sharpen a roun...</td>\n",
       "      <td>woodworking</td>\n",
       "      <td>1</td>\n",
       "    </tr>\n",
       "    <tr>\n",
       "      <th>woodworking.stackexchange_0000002928</th>\n",
       "      <td>Q:\\n\\nWhat woods take stain well?\\n\\nI'm just ...</td>\n",
       "      <td>woodworking</td>\n",
       "      <td>1</td>\n",
       "    </tr>\n",
       "    <tr>\n",
       "      <th>woodworking.stackexchange_0000005921</th>\n",
       "      <td>Q:\\n\\nHarden soft pine\\n\\nI made a dutch tool ...</td>\n",
       "      <td>woodworking</td>\n",
       "      <td>1</td>\n",
       "    </tr>\n",
       "    <tr>\n",
       "      <th>...</th>\n",
       "      <td>...</td>\n",
       "      <td>...</td>\n",
       "      <td>...</td>\n",
       "    </tr>\n",
       "    <tr>\n",
       "      <th>woodworking.stackexchange_0000013196</th>\n",
       "      <td>Q:\\n\\nHow To fasten rubberwood desktop to elec...</td>\n",
       "      <td>woodworking</td>\n",
       "      <td>1</td>\n",
       "    </tr>\n",
       "    <tr>\n",
       "      <th>woodworking.stackexchange_0000003385</th>\n",
       "      <td>Q:\\n\\nA good way to store wood \"outside\"?\\n\\nI...</td>\n",
       "      <td>woodworking</td>\n",
       "      <td>1</td>\n",
       "    </tr>\n",
       "    <tr>\n",
       "      <th>woodworking.stackexchange_0000007861</th>\n",
       "      <td>Q:\\n\\nAre mortises with angled walls cut the s...</td>\n",
       "      <td>woodworking</td>\n",
       "      <td>1</td>\n",
       "    </tr>\n",
       "    <tr>\n",
       "      <th>woodworking.stackexchange_0000002919</th>\n",
       "      <td>Q:\\n\\nWhat is the best drill bit for MDF?\\n\\nI...</td>\n",
       "      <td>woodworking</td>\n",
       "      <td>1</td>\n",
       "    </tr>\n",
       "    <tr>\n",
       "      <th>woodworking.stackexchange_0000005910</th>\n",
       "      <td>Q:\\n\\nUsing 1x4 instead of 2x4 for laminated w...</td>\n",
       "      <td>woodworking</td>\n",
       "      <td>1</td>\n",
       "    </tr>\n",
       "  </tbody>\n",
       "</table>\n",
       "<p>2461 rows × 3 columns</p>\n",
       "</div>"
      ],
      "text/plain": [
       "                                                                                   text  \\\n",
       "id                                                                                        \n",
       "woodworking.stackexchange_0000009855  Q:\\n\\nGlue-up for butcher block-style countert...   \n",
       "woodworking.stackexchange_0000009869  Q:\\n\\nPlunge router base plate has a bit stick...   \n",
       "woodworking.stackexchange_0000004395  Q:\\n\\nWhat is the proper way to sharpen a roun...   \n",
       "woodworking.stackexchange_0000002928  Q:\\n\\nWhat woods take stain well?\\n\\nI'm just ...   \n",
       "woodworking.stackexchange_0000005921  Q:\\n\\nHarden soft pine\\n\\nI made a dutch tool ...   \n",
       "...                                                                                 ...   \n",
       "woodworking.stackexchange_0000013196  Q:\\n\\nHow To fasten rubberwood desktop to elec...   \n",
       "woodworking.stackexchange_0000003385  Q:\\n\\nA good way to store wood \"outside\"?\\n\\nI...   \n",
       "woodworking.stackexchange_0000007861  Q:\\n\\nAre mortises with angled walls cut the s...   \n",
       "woodworking.stackexchange_0000002919  Q:\\n\\nWhat is the best drill bit for MDF?\\n\\nI...   \n",
       "woodworking.stackexchange_0000005910  Q:\\n\\nUsing 1x4 instead of 2x4 for laminated w...   \n",
       "\n",
       "                                         category  cat_id  \n",
       "id                                                         \n",
       "woodworking.stackexchange_0000009855  woodworking       1  \n",
       "woodworking.stackexchange_0000009869  woodworking       1  \n",
       "woodworking.stackexchange_0000004395  woodworking       1  \n",
       "woodworking.stackexchange_0000002928  woodworking       1  \n",
       "woodworking.stackexchange_0000005921  woodworking       1  \n",
       "...                                           ...     ...  \n",
       "woodworking.stackexchange_0000013196  woodworking       1  \n",
       "woodworking.stackexchange_0000003385  woodworking       1  \n",
       "woodworking.stackexchange_0000007861  woodworking       1  \n",
       "woodworking.stackexchange_0000002919  woodworking       1  \n",
       "woodworking.stackexchange_0000005910  woodworking       1  \n",
       "\n",
       "[2461 rows x 3 columns]"
      ]
     },
     "execution_count": 39,
     "metadata": {},
     "output_type": "execute_result"
    }
   ],
   "source": [
    "wood_df = all_df[all_df.category == \"woodworking\"]\n",
    "wood_df"
   ]
  },
  {
   "cell_type": "code",
   "execution_count": 40,
   "id": "74899092-8c6d-432a-bb04-eaf2c104b2e7",
   "metadata": {},
   "outputs": [
    {
     "name": "stdout",
     "output_type": "stream",
     "text": [
      "Q:\n",
      "\n",
      "Glue-up for butcher block-style countertop\n",
      "\n",
      "Background\n",
      "I am working on a butcher block style countertop / tabletop, and am wondering how best to glue the wood together.  The countertop is unfinished maple hardwood floor, with the tongue / groove cut off, flipped on its side.  So, the final result will be about 1 3/4\" thick, mos\n"
     ]
    }
   ],
   "source": [
    "wood_txt = wood_df.iloc[0].text\n",
    "print(wood_txt[:333])"
   ]
  },
  {
   "cell_type": "code",
   "execution_count": null,
   "id": "9f317668",
   "metadata": {},
   "outputs": [],
   "source": [
    "wood_trigram_df = trigrams(wood_df)\n",
    "wood_trigram_df.head()"
   ]
  },
  {
   "cell_type": "markdown",
   "id": "b6478d0e",
   "metadata": {},
   "source": [
    "#### 🚧 TODO: Text generation with ngrams\n",
    "\n",
    "*   Generate a text of words until a stop word is generated (`.`)\n",
    "\n",
    "*   Assign a random probability to each ngrams based on their frequency\n",
    "\n",
    " *Note:* [`default_rng`](https://numpy.org/doc/stable/reference/random/generator.html#numpy.random.default_rng) is the recommended constructor for random number generation in NumPy."
   ]
  },
  {
   "cell_type": "code",
   "execution_count": 6,
   "id": "eb862e26",
   "metadata": {
    "scrolled": true
   },
   "outputs": [
    {
     "data": {
      "text/html": [
       "<div>\n",
       "<style scoped>\n",
       "    .dataframe tbody tr th:only-of-type {\n",
       "        vertical-align: middle;\n",
       "    }\n",
       "\n",
       "    .dataframe tbody tr th {\n",
       "        vertical-align: top;\n",
       "    }\n",
       "\n",
       "    .dataframe thead th {\n",
       "        text-align: right;\n",
       "    }\n",
       "</style>\n",
       "<table border=\"1\" class=\"dataframe\">\n",
       "  <thead>\n",
       "    <tr style=\"text-align: right;\">\n",
       "      <th></th>\n",
       "      <th>This is a</th>\n",
       "      <th>is a sample</th>\n",
       "      <th>a sample text</th>\n",
       "      <th>Another sample text</th>\n",
       "      <th>And one more</th>\n",
       "      <th>one more text</th>\n",
       "    </tr>\n",
       "  </thead>\n",
       "  <tbody>\n",
       "    <tr>\n",
       "      <th>Doc1</th>\n",
       "      <td>1.0</td>\n",
       "      <td>1.0</td>\n",
       "      <td>1.0</td>\n",
       "      <td>0.0</td>\n",
       "      <td>0.0</td>\n",
       "      <td>0.0</td>\n",
       "    </tr>\n",
       "    <tr>\n",
       "      <th>Doc2</th>\n",
       "      <td>0.0</td>\n",
       "      <td>0.0</td>\n",
       "      <td>0.0</td>\n",
       "      <td>1.0</td>\n",
       "      <td>0.0</td>\n",
       "      <td>0.0</td>\n",
       "    </tr>\n",
       "    <tr>\n",
       "      <th>Doc3</th>\n",
       "      <td>0.0</td>\n",
       "      <td>0.0</td>\n",
       "      <td>0.0</td>\n",
       "      <td>0.0</td>\n",
       "      <td>1.0</td>\n",
       "      <td>1.0</td>\n",
       "    </tr>\n",
       "  </tbody>\n",
       "</table>\n",
       "</div>"
      ],
      "text/plain": [
       "      This is a  is a sample  a sample text  Another sample text  \\\n",
       "Doc1        1.0          1.0            1.0                  0.0   \n",
       "Doc2        0.0          0.0            0.0                  1.0   \n",
       "Doc3        0.0          0.0            0.0                  0.0   \n",
       "\n",
       "      And one more  one more text  \n",
       "Doc1           0.0            0.0  \n",
       "Doc2           0.0            0.0  \n",
       "Doc3           1.0            1.0  "
      ]
     },
     "execution_count": 6,
     "metadata": {},
     "output_type": "execute_result"
    }
   ],
   "source": [
    "df = pd.DataFrame({'text': ['This is a sample text', 'Another sample text', 'And one more text']},\n",
    "                  index=['Doc1', 'Doc2', 'Doc3'])\n",
    "trigram_df2 = trigrams(df)\n",
    "trigram_df2"
   ]
  },
  {
   "cell_type": "code",
   "execution_count": 7,
   "id": "a085f188",
   "metadata": {},
   "outputs": [],
   "source": [
    "def generate(trigrams_df, max_items=100):\n",
    "    trigrams = np.array(list(trigrams_df.columns), dtype=str)\n",
    "    n = len(trigrams)\n",
    "    seq = []\n",
    "    pi = trigrams_df.sum(0)\n",
    "    pi = pi / pi.sum()\n",
    "    idx = np.random.choice(np.arange(n), p=pi)\n",
    "    xi = trigrams[pi.argmax()]\n",
    "    seq.append(xi)\n",
    "    for i in range(max_items):\n",
    "        current_word = seq[i].split()[2]\n",
    "        if i > 0: seq[i] = seq[i][1:]\n",
    "        idx = np.where(np.char.startswith(trigrams, current_word))[0]\n",
    "        if len(idx) == 0: break\n",
    "        mask = np.zeros(pi.shape, dtype=bool)\n",
    "        mask[idx] = True\n",
    "        pi = trigrams_df.sum(0)\n",
    "        pi[~mask] = 0\n",
    "        xi = trigrams[pi.argmax()]\n",
    "        seq.append(xi)\n",
    "    return ''.join(seq)"
   ]
  },
  {
   "cell_type": "code",
   "execution_count": 8,
   "id": "9cf2d6bb",
   "metadata": {},
   "outputs": [
    {
     "data": {
      "text/plain": [
       "'This is a sample text'"
      ]
     },
     "execution_count": 8,
     "metadata": {},
     "output_type": "execute_result"
    }
   ],
   "source": [
    "generate(trigram_df2)"
   ]
  },
  {
   "cell_type": "code",
   "execution_count": null,
   "id": "377f0971",
   "metadata": {},
   "outputs": [],
   "source": [
    "generate(wood_trigram_df)"
   ]
  },
  {
   "cell_type": "markdown",
   "id": "ca86525f-c78b-465b-bcc8-7f281bfd6176",
   "metadata": {},
   "source": [
    "### TODO (optional): improve this algorithm\n",
    "\n",
    "- Make it deterministic, by preparing exceptions\n",
    "\n",
    "- Improve the output spacing and maybe upper case\n",
    "\n",
    "- Try on a different domain of our corpus"
   ]
  },
  {
   "cell_type": "markdown",
   "id": "1d850e54-f593-4be9-967b-fffd88423ed9",
   "metadata": {},
   "source": [
    "---"
   ]
  }
 ],
 "metadata": {
  "kernelspec": {
   "display_name": "Python 3 (ipykernel)",
   "language": "python",
   "name": "python3"
  },
  "language_info": {
   "codemirror_mode": {
    "name": "ipython",
    "version": 3
   },
   "file_extension": ".py",
   "mimetype": "text/x-python",
   "name": "python",
   "nbconvert_exporter": "python",
   "pygments_lexer": "ipython3",
   "version": "3.9.13"
  },
  "vscode": {
   "interpreter": {
    "hash": "4092beadd17a8c123802d6bfeec2845d174d6d0bf5a666f517bdff4bcd2558e4"
   }
  }
 },
 "nbformat": 4,
 "nbformat_minor": 5
}
